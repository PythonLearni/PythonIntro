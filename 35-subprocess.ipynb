{
 "cells": [
  {
   "cell_type": "markdown",
   "metadata": {},
   "source": [
    "# subprocess module\n",
    "- 'run' method executes external programm\n",
    "- also known as an 'exec'\n",
    "- often very useful\n",
    "- [doc](https://docs.python.org/3.5/library/subprocess.html)"
   ]
  },
  {
   "cell_type": "code",
   "execution_count": 14,
   "metadata": {
    "collapsed": false
   },
   "outputs": [
    {
     "data": {
      "text/plain": [
       "CompletedProcess(args=['say', 'macs have a text to speech system built in'], returncode=0)"
      ]
     },
     "execution_count": 14,
     "metadata": {},
     "output_type": "execute_result"
    }
   ],
   "source": [
    "# run() will hang until subprocess finishes\n",
    "# returns a 'CompletedProcess' object, \n",
    "# which has info about the subprocess execution,\n",
    "# including the exit code(which we set in scripts with sys.exit())\n",
    "\n",
    "# 'say' works on a mac\n",
    "\n",
    "import subprocess\n",
    "\n",
    "subprocess.run(['say', 'macs have a text to speech system built in'])\n"
   ]
  },
  {
   "cell_type": "code",
   "execution_count": 15,
   "metadata": {
    "collapsed": false
   },
   "outputs": [],
   "source": [
    "# delete file if it's there\n",
    "\n",
    "import os\n",
    "\n",
    "path = '/tmp/subproc'\n",
    "os.remove(path)"
   ]
  },
  {
   "cell_type": "code",
   "execution_count": 16,
   "metadata": {
    "collapsed": false
   },
   "outputs": [
    {
     "data": {
      "text/plain": [
       "CompletedProcess(args=['touch', '/tmp/subproc'], returncode=0)"
      ]
     },
     "execution_count": 16,
     "metadata": {},
     "output_type": "execute_result"
    }
   ],
   "source": [
    "# simplest form - just run a command\n",
    "# touch will create an empty file if none exits,\n",
    "# or change the last access date of an existing file\n",
    "# exit code (0 is happy) is returned\n",
    "\n",
    "subprocess.run(['touch', path])"
   ]
  },
  {
   "cell_type": "code",
   "execution_count": 17,
   "metadata": {
    "collapsed": false
   },
   "outputs": [
    {
     "data": {
      "text/plain": [
       "[True,\n",
       " os.stat_result(st_mode=33206, st_ino=25045340, st_dev=16777219, st_nlink=1, st_uid=501, st_gid=0, st_size=0, st_atime=1476470970, st_mtime=1476470970, st_ctime=1476470970)]"
      ]
     },
     "execution_count": 17,
     "metadata": {},
     "output_type": "execute_result"
    }
   ],
   "source": [
    "# check for file\n",
    "\n",
    "[os.access(path, os.F_OK), os.stat(path)]"
   ]
  },
  {
   "cell_type": "code",
   "execution_count": 18,
   "metadata": {
    "collapsed": false
   },
   "outputs": [
    {
     "data": {
      "text/plain": [
       "b'Applications\\nLibrary\\nNetwork\\nSystem\\nUsers\\nVolumes\\nbin\\ncores\\ndev\\netc\\nhome\\ninstaller.failurerequests\\nnet\\nopt\\nprivate\\nsbin\\ntmp\\nusr\\nvar\\n'"
      ]
     },
     "execution_count": 18,
     "metadata": {},
     "output_type": "execute_result"
    }
   ],
   "source": [
    "# can grab the standard output from the command\n",
    "# can pick up stderr as well\n",
    "# note - this is returning a 'byte' array\n",
    "\n",
    "cp=subprocess.run(['/bin/ls', '/'], stdout=subprocess.PIPE)\n",
    "cp.stdout"
   ]
  },
  {
   "cell_type": "code",
   "execution_count": 19,
   "metadata": {
    "collapsed": false
   },
   "outputs": [
    {
     "data": {
      "text/plain": [
       "'Applications\\nLibrary\\nNetwork\\nSystem\\nUsers\\nVolumes\\nbin\\ncores\\ndev\\netc\\nhome\\ninstaller.failurerequests\\nnet\\nopt\\nprivate\\nsbin\\ntmp\\nusr\\nvar\\n'"
      ]
     },
     "execution_count": 19,
     "metadata": {},
     "output_type": "execute_result"
    }
   ],
   "source": [
    "# with universal_newlines=True,\n",
    "# this call returns a string\n",
    "\n",
    "cp=subprocess.run(['/bin/ls', '/'], stdout=subprocess.PIPE,\n",
    "                  universal_newlines=True)\n",
    "cp.stdout"
   ]
  },
  {
   "cell_type": "markdown",
   "metadata": {},
   "source": [
    "- linux/mac has a command line [topological sort](http://en.wikipedia.org/wiki/Tsort)\n",
    "- reads constraints from standard input\n",
    "- writes solution to standard output"
   ]
  },
  {
   "cell_type": "code",
   "execution_count": 20,
   "metadata": {
    "collapsed": false
   },
   "outputs": [
    {
     "data": {
      "text/plain": [
       "['7', '5', '3', '11', '10', '8', '2', '9']"
      ]
     },
     "execution_count": 20,
     "metadata": {},
     "output_type": "execute_result"
    }
   ],
   "source": [
    "# supply stdin, and read stdout\n",
    "# 3 comes before 8, 3 before 10, ...\n",
    "\n",
    "pairs = [[3, 8], [3, 10], [5, 11], [7, 8], [7, 11], [8, 9], [11, 2], [11, 9], [11, 10]]\n",
    "input = ''.join( [ ('%d %d\\n' % (l, r)) for l, r in pairs ])\n",
    "#print(input)\n",
    "cp=subprocess.run(['tsort'], input=input, \n",
    "                            stdout=subprocess.PIPE,\n",
    "                            universal_newlines=True)\n",
    "cp.stdout.split()\n"
   ]
  },
  {
   "cell_type": "code",
   "execution_count": 21,
   "metadata": {
    "collapsed": false
   },
   "outputs": [
    {
     "data": {
      "text/plain": [
       "CompletedProcess(args=['sed', '-e', 's/human/animal/'], returncode=0)"
      ]
     },
     "execution_count": 21,
     "metadata": {},
     "output_type": "execute_result"
    }
   ],
   "source": [
    "# with universal_newlines false, input/output is binary\n",
    "# note input is a byte array\n",
    "\n",
    "subprocess.run([\"sed\", \"-e\", \"s/human/animal/\"],\n",
    "                         input=b\"when in the course of human events\\n\")\n"
   ]
  },
  {
   "cell_type": "code",
   "execution_count": 22,
   "metadata": {
    "collapsed": false
   },
   "outputs": [
    {
     "data": {
      "text/plain": [
       "b'when in the course of animal events\\n'"
      ]
     },
     "execution_count": 22,
     "metadata": {},
     "output_type": "execute_result"
    }
   ],
   "source": [
    "# with universal_newlines false, input/output is binary\n",
    "# note input is a byte array\n",
    "\n",
    "cp=subprocess.run([\"sed\", \"-e\", \"s/human/animal/\"],\n",
    "                         stdout=subprocess.PIPE,\n",
    "                         input=b\"when in the course of human events\\n\")\n",
    "\n",
    "cp.stdout\n"
   ]
  },
  {
   "cell_type": "code",
   "execution_count": 23,
   "metadata": {
    "collapsed": false
   },
   "outputs": [
    {
     "data": {
      "text/plain": [
       "'       8       8      18\\n'"
      ]
     },
     "execution_count": 23,
     "metadata": {},
     "output_type": "execute_result"
    }
   ],
   "source": [
    "# run under a shell - can do pipes, redirects\n",
    "\n",
    "cp=subprocess.run(['tsort|wc'], input=input, \n",
    "                        stdout=subprocess.PIPE,\n",
    "                        shell=True, universal_newlines=True)\n",
    "cp.stdout"
   ]
  },
  {
   "cell_type": "code",
   "execution_count": 24,
   "metadata": {
    "collapsed": false
   },
   "outputs": [
    {
     "data": {
      "text/plain": [
       "CompletedProcess(args=['/Users/lstead/me/classes/columbia/python/code/report2.py', '/tmp/report.txt', '/nosuchpath', 'subproc'], returncode=1)"
      ]
     },
     "execution_count": 24,
     "metadata": {},
     "output_type": "execute_result"
    }
   ],
   "source": [
    "# previous homework problem\n",
    "# note return code of 2 - bad start dir\n",
    "\n",
    "cmd = '/Users/lstead/me/classes/columbia/python/code/report2.py'\n",
    "report = '/tmp/report.txt'\n",
    "\n",
    "subprocess.run([cmd, report, '/nosuchpath', 'subproc'])"
   ]
  },
  {
   "cell_type": "code",
   "execution_count": 25,
   "metadata": {
    "collapsed": false
   },
   "outputs": [
    {
     "data": {
      "text/plain": [
       "CompletedProcess(args=['/Users/lstead/me/classes/columbia/python/code/report2.py', '/tmp/report.txt', '/tmp/', 'subproc'], returncode=0)"
      ]
     },
     "execution_count": 25,
     "metadata": {},
     "output_type": "execute_result"
    }
   ],
   "source": [
    "# previous homework problem\n",
    "# note return code of 0\n",
    "\n",
    "subprocess.run([cmd, report, '/tmp/', 'subproc'])"
   ]
  },
  {
   "cell_type": "code",
   "execution_count": null,
   "metadata": {
    "collapsed": true
   },
   "outputs": [],
   "source": []
  }
 ],
 "metadata": {
  "anaconda-cloud": {},
  "kernelspec": {
   "display_name": "Python [Root]",
   "language": "python",
   "name": "Python [Root]"
  },
  "language_info": {
   "codemirror_mode": {
    "name": "ipython",
    "version": 3
   },
   "file_extension": ".py",
   "mimetype": "text/x-python",
   "name": "python",
   "nbconvert_exporter": "python",
   "pygments_lexer": "ipython3",
   "version": "3.5.2"
  }
 },
 "nbformat": 4,
 "nbformat_minor": 0
}
