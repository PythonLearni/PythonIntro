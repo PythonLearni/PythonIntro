{
 "cells": [
  {
   "cell_type": "markdown",
   "metadata": {},
   "source": [
    "# pickle - save and restore arbitrary collections of in memory Python data structures\n",
    "- pickle uses 'binary' streams"
   ]
  },
  {
   "cell_type": "code",
   "execution_count": 9,
   "metadata": {
    "collapsed": false
   },
   "outputs": [
    {
     "data": {
      "text/plain": [
       "(range(0, 3),\n",
       " [2, 3, 4],\n",
       " {'bar': [2, 3, 4], 'foo': range(0, 3)},\n",
       " <__main__.foo at 0x107838978>)"
      ]
     },
     "execution_count": 9,
     "metadata": {},
     "output_type": "execute_result"
    }
   ],
   "source": [
    "# root has random stuff\n",
    "\n",
    "class foo:\n",
    "    def set(self, n):\n",
    "        self.n = n\n",
    "    def get(self):\n",
    "        return self.n\n",
    "    def __eq__(self, x):\n",
    "        return isinstance(x, foo) and self.n == x.n\n",
    "\n",
    "\n",
    "l = range(3)\n",
    "l2 = [2,3,4]\n",
    "d={}\n",
    "d['foo'] = l\n",
    "d['bar'] = l2\n",
    "f5 = foo()\n",
    "f5.set(15)\n",
    "root = tuple([l,l2,d, f5])\n",
    "root"
   ]
  },
  {
   "cell_type": "code",
   "execution_count": 10,
   "metadata": {
    "collapsed": false
   },
   "outputs": [
    {
     "data": {
      "text/plain": [
       "__main__.foo"
      ]
     },
     "execution_count": 10,
     "metadata": {},
     "output_type": "execute_result"
    }
   ],
   "source": [
    "foo"
   ]
  },
  {
   "cell_type": "code",
   "execution_count": 11,
   "metadata": {
    "collapsed": false
   },
   "outputs": [],
   "source": [
    "# save to file all the data reachable from 'root'\n",
    "# 'bw' - binary write\n",
    "\n",
    "import pickle\n",
    "\n",
    "path = '/tmp/ptest.pickle'\n",
    "# 'bw' - 'binary write'\n",
    "with open(path, 'bw') as f:\n",
    "    pickle.dump(root, f)"
   ]
  },
  {
   "cell_type": "code",
   "execution_count": 12,
   "metadata": {
    "collapsed": false
   },
   "outputs": [],
   "source": [
    "# read dumped file, and reconstruct the saved data structures\n",
    "\n",
    "# if your pickle dump includes custom classes or functions, they\n",
    "# must be defined before you do a pickle load.\n",
    "# 'br' - binary read\n",
    "\n",
    "with open(path, 'br') as f:\n",
    "    root2 = pickle.load(f)"
   ]
  },
  {
   "cell_type": "code",
   "execution_count": 13,
   "metadata": {
    "collapsed": false
   },
   "outputs": [
    {
     "data": {
      "text/plain": [
       "(range(0, 3),\n",
       " [2, 3, 4],\n",
       " {'bar': [2, 3, 4], 'foo': range(0, 3)},\n",
       " <__main__.foo at 0x10783e6d8>)"
      ]
     },
     "execution_count": 13,
     "metadata": {},
     "output_type": "execute_result"
    }
   ],
   "source": [
    "root2"
   ]
  },
  {
   "cell_type": "code",
   "execution_count": 14,
   "metadata": {
    "collapsed": false
   },
   "outputs": [
    {
     "data": {
      "text/plain": [
       "[False, True]"
      ]
     },
     "execution_count": 14,
     "metadata": {},
     "output_type": "execute_result"
    }
   ],
   "source": [
    "# root2 is not the same object as root, \n",
    "# but root2 and root are 'equal'\n",
    "\n",
    "[root is root2, root == root2]"
   ]
  },
  {
   "cell_type": "code",
   "execution_count": 15,
   "metadata": {
    "collapsed": false
   },
   "outputs": [
    {
     "data": {
      "text/plain": [
       "<__main__.foo at 0x10783e6d8>"
      ]
     },
     "execution_count": 15,
     "metadata": {},
     "output_type": "execute_result"
    }
   ],
   "source": [
    "f52 = root2[-1]\n",
    "f52"
   ]
  },
  {
   "cell_type": "code",
   "execution_count": 16,
   "metadata": {
    "collapsed": false
   },
   "outputs": [
    {
     "data": {
      "text/plain": [
       "15"
      ]
     },
     "execution_count": 16,
     "metadata": {},
     "output_type": "execute_result"
    }
   ],
   "source": [
    "# instance variables are restored\n",
    "\n",
    "f52.get()"
   ]
  },
  {
   "cell_type": "code",
   "execution_count": null,
   "metadata": {
    "collapsed": true
   },
   "outputs": [],
   "source": []
  }
 ],
 "metadata": {
  "kernelspec": {
   "display_name": "Python [Root]",
   "language": "python",
   "name": "Python [Root]"
  },
  "language_info": {
   "codemirror_mode": {
    "name": "ipython",
    "version": 3
   },
   "file_extension": ".py",
   "mimetype": "text/x-python",
   "name": "python",
   "nbconvert_exporter": "python",
   "pygments_lexer": "ipython3",
   "version": "3.5.2"
  }
 },
 "nbformat": 4,
 "nbformat_minor": 0
}
