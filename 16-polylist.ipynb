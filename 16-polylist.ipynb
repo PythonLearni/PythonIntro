{
 "cells": [
  {
   "cell_type": "markdown",
   "metadata": {},
   "source": [
    "# Design a class that represents a polynomial in X as a list of coefficients\n",
    "- ```5 + 2*X + 3*X**2 + 4*X**4 => [5, 2, 3, 0, 4]```\n",
    "- ```9 + 3**X^2 => [9, 0, 3]```"
   ]
  },
  {
   "cell_type": "code",
   "execution_count": 6,
   "metadata": {
    "collapsed": true
   },
   "outputs": [],
   "source": [
    "import functools\n",
    "\n",
    "class polylist: \n",
    "    ''' list poly representation'''\n",
    "    def __init__(self, coe):\n",
    "        # list of coefficients\n",
    "        self.coe = coe\n",
    "\n",
    "    def termString(self, c , e):\n",
    "        ''' print a term'''\n",
    "        cs = str(c)\n",
    "        if c > 0:\n",
    "            cs = '+ ' + cs\n",
    "        if (e == 0):\n",
    "            return(cs)\n",
    "        if (e == 1):\n",
    "            return('%s*X' % cs)    \n",
    "        return('%s*X**%d' % (cs,e))\n",
    "        \n",
    "    def __str__(self):\n",
    "        # print math style - hard to do right\n",
    "        terms = [self.termString(c,e) \n",
    "            for e,c in enumerate(self.coe) \n",
    "            if c != 0]\n",
    "        terms.reverse()\n",
    "        s = (' '.join(terms))\n",
    "        # get rid of leading + \n",
    "        return(s)\n",
    "        \n",
    "    def __repr__(self):\n",
    "        return(str(self))\n",
    "\n",
    "    def __len__(self):\n",
    "        # number of non zero terms\n",
    "        # 0 len => bool false\n",
    "        return(len(self.coe) - self.coe.count(0))\n",
    "\n",
    "    def __add__(self, p2):\n",
    "        # like shortlong\n",
    "        p1len = len(self.coe)\n",
    "        p2len = len(p2.coe)\n",
    "        pad = p2len - p1len\n",
    "        c1 = self.coe\n",
    "        c2 = p2.coe\n",
    "        \n",
    "        if pad < 0:\n",
    "            c1, c2 = c2, c1\n",
    "            pad = -pad\n",
    "    \n",
    "        c1 = c1[:]\n",
    "        \n",
    "        # like dotpad\n",
    "        c1.extend([0]*pad)\n",
    "    \n",
    "        # zeros on the right?\n",
    "        return(polylist([t1+t2 for t1,t2 in zip(c1,c2)]))\n",
    "    \n",
    "    # don't allow a hash\n",
    "    __hash__ = None    \n",
    "    \n",
    "    def evaluate(self, n):\n",
    "        sum = 0\n",
    "        for exp,c in enumerate(self.coe):\n",
    "            sum += c*n**exp\n",
    "        return(sum)\n",
    "  \n",
    "    def __mul__(self, p2):\n",
    "        sums = []\n",
    "        for e1,c1 in enumerate(self.coe):\n",
    "            prod = [c1 * c2 for c2 in p2.coe]\n",
    "            for rpt in range(e1):\n",
    "                prod.insert(0, 0)\n",
    "            sums.append(polylist(prod))\n",
    "        # reduce takes a func and a list\n",
    "        # it applies func to pairs until list \n",
    "        # is 'reduced' to one element\n",
    "        return(functools.reduce(polylist.__add__, sums))\n",
    "       "
   ]
  },
  {
   "cell_type": "code",
   "execution_count": 7,
   "metadata": {
    "collapsed": false
   },
   "outputs": [
    {
     "data": {
      "text/plain": [
       "+ 3*X**2 + 2*X + 1"
      ]
     },
     "execution_count": 7,
     "metadata": {},
     "output_type": "execute_result"
    }
   ],
   "source": [
    "p1 = polylist([1,2,3])\n",
    "p2 = polylist([0, 10, 5])\n",
    "\n",
    "p1 "
   ]
  },
  {
   "cell_type": "code",
   "execution_count": 8,
   "metadata": {
    "collapsed": false
   },
   "outputs": [
    {
     "data": {
      "text/plain": [
       "+ 5*X**2 + 10*X"
      ]
     },
     "execution_count": 8,
     "metadata": {},
     "output_type": "execute_result"
    }
   ],
   "source": [
    "p2"
   ]
  },
  {
   "cell_type": "code",
   "execution_count": 9,
   "metadata": {
    "collapsed": false
   },
   "outputs": [
    {
     "data": {
      "text/plain": [
       "+ 8*X**2 + 12*X + 1"
      ]
     },
     "execution_count": 9,
     "metadata": {},
     "output_type": "execute_result"
    }
   ],
   "source": [
    "p1 + p2"
   ]
  },
  {
   "cell_type": "code",
   "execution_count": 10,
   "metadata": {
    "collapsed": false
   },
   "outputs": [
    {
     "data": {
      "text/plain": [
       "+ 15*X**4 + 40*X**3 + 25*X**2 + 10*X"
      ]
     },
     "execution_count": 10,
     "metadata": {},
     "output_type": "execute_result"
    }
   ],
   "source": [
    "p1 * p2"
   ]
  },
  {
   "cell_type": "code",
   "execution_count": 11,
   "metadata": {
    "collapsed": false
   },
   "outputs": [
    {
     "data": {
      "text/plain": [
       "6"
      ]
     },
     "execution_count": 11,
     "metadata": {},
     "output_type": "execute_result"
    }
   ],
   "source": [
    "p1.evaluate(1)"
   ]
  },
  {
   "cell_type": "code",
   "execution_count": 12,
   "metadata": {
    "collapsed": false
   },
   "outputs": [
    {
     "data": {
      "text/plain": [
       "40"
      ]
     },
     "execution_count": 12,
     "metadata": {},
     "output_type": "execute_result"
    }
   ],
   "source": [
    "p2.evaluate(2)"
   ]
  },
  {
   "cell_type": "markdown",
   "metadata": {},
   "source": [
    "# Problems with this representation?"
   ]
  }
 ],
 "metadata": {
  "anaconda-cloud": {},
  "kernelspec": {
   "display_name": "Python [Root]",
   "language": "python",
   "name": "Python [Root]"
  },
  "language_info": {
   "codemirror_mode": {
    "name": "ipython",
    "version": 3
   },
   "file_extension": ".py",
   "mimetype": "text/x-python",
   "name": "python",
   "nbconvert_exporter": "python",
   "pygments_lexer": "ipython3",
   "version": "3.5.2"
  }
 },
 "nbformat": 4,
 "nbformat_minor": 0
}
