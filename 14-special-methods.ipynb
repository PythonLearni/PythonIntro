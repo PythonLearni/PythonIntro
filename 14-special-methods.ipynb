{
 "cells": [
  {
   "cell_type": "markdown",
   "metadata": {},
   "source": [
    "# Special Methods on 'Object'\n",
    "- methods of the form ```__...__``` play special roles in implementing classes\n",
    "- the first argument of ANY method is always 'self'\n",
    "- the class author defines these methods, but they are not normally called directly\n",
    "    - some of the methods are invoked by operators\n",
    "        - you can define what '+', '*', etc, means for an object you define\n",
    "        - C++ allows this, Java doesn't\n",
    "    - other methods are invoked by well known functions"
   ]
  },
  {
   "cell_type": "markdown",
   "metadata": {},
   "source": [
    "# Basic\n",
    "- ```__init__```  - called at object creation time. used to initialize object state\n",
    "- ```__len__```  - 'len' function will call this method\n",
    "- ```__bool__```  - 'bool' function will call this method\n",
    "- ```__str__, __repr__``` - controls how object prints\n",
    "- ```__contains__``` - used by 'in' operator\n",
    "- ```__call__``` - call an object like a function call"
   ]
  },
  {
   "cell_type": "code",
   "execution_count": 1,
   "metadata": {
    "collapsed": false
   },
   "outputs": [
    {
     "data": {
      "text/plain": [
       "repr method: jack"
      ]
     },
     "execution_count": 1,
     "metadata": {},
     "output_type": "execute_result"
    }
   ],
   "source": [
    "class P:\n",
    "    def __init__(self, name):\n",
    "        self.name = name\n",
    "        \n",
    "    def __str__(self):\n",
    "        # 'friendly' string representation of object\n",
    "        return('str method: ' + self.name)\n",
    "    \n",
    "    def __repr__(self):\n",
    "        # 'detailed' string representation of object\n",
    "        return('repr method: ' + self.name)\n",
    "    \n",
    "    def __len__(self):\n",
    "        return len(self.name)\n",
    "    \n",
    "    def __bool__(self):\n",
    "        # long name => true\n",
    "        # short name => false\n",
    "        return len(self.name) > 5\n",
    "    \n",
    "    def __call__(self, arg):\n",
    "        return arg + 10\n",
    "    \n",
    "    def __contains__(self, arg):\n",
    "        return arg == self.name\n",
    "\n",
    "p = P('jack')\n",
    "\n",
    "# top level uses __repr__\n",
    "p"
   ]
  },
  {
   "cell_type": "code",
   "execution_count": 2,
   "metadata": {
    "collapsed": false
   },
   "outputs": [
    {
     "name": "stdout",
     "output_type": "stream",
     "text": [
      "str method: jack\n"
     ]
    }
   ],
   "source": [
    "# print uses __str__\n",
    "\n",
    "print(p)"
   ]
  },
  {
   "cell_type": "code",
   "execution_count": 3,
   "metadata": {
    "collapsed": false
   },
   "outputs": [
    {
     "data": {
      "text/plain": [
       "True"
      ]
     },
     "execution_count": 3,
     "metadata": {},
     "output_type": "execute_result"
    }
   ],
   "source": [
    "# note - 'in' operator will search for substrings\n",
    "\n",
    "'foo' in 'bazfoobar'"
   ]
  },
  {
   "cell_type": "code",
   "execution_count": 4,
   "metadata": {
    "collapsed": false
   },
   "outputs": [
    {
     "data": {
      "text/plain": [
       "[True, False]"
      ]
     },
     "execution_count": 4,
     "metadata": {},
     "output_type": "execute_result"
    }
   ],
   "source": [
    "['jack' in p, 'jill' in p]"
   ]
  },
  {
   "cell_type": "code",
   "execution_count": 5,
   "metadata": {
    "collapsed": false
   },
   "outputs": [
    {
     "data": {
      "text/plain": [
       "False"
      ]
     },
     "execution_count": 5,
     "metadata": {},
     "output_type": "execute_result"
    }
   ],
   "source": [
    "bool(p)"
   ]
  },
  {
   "cell_type": "code",
   "execution_count": 6,
   "metadata": {
    "collapsed": false
   },
   "outputs": [
    {
     "data": {
      "text/plain": [
       "True"
      ]
     },
     "execution_count": 6,
     "metadata": {},
     "output_type": "execute_result"
    }
   ],
   "source": [
    "bool(P('jackson'))"
   ]
  },
  {
   "cell_type": "code",
   "execution_count": 7,
   "metadata": {
    "collapsed": false
   },
   "outputs": [
    {
     "data": {
      "text/plain": [
       "7"
      ]
     },
     "execution_count": 7,
     "metadata": {},
     "output_type": "execute_result"
    }
   ],
   "source": [
    "len(P('jackson'))"
   ]
  },
  {
   "cell_type": "code",
   "execution_count": 8,
   "metadata": {
    "collapsed": false
   },
   "outputs": [
    {
     "data": {
      "text/plain": [
       "44"
      ]
     },
     "execution_count": 8,
     "metadata": {},
     "output_type": "execute_result"
    }
   ],
   "source": [
    "# call an object like a function\n",
    "\n",
    "p = P('afd')\n",
    "p(34)"
   ]
  },
  {
   "cell_type": "code",
   "execution_count": 9,
   "metadata": {
    "collapsed": false
   },
   "outputs": [
    {
     "name": "stdout",
     "output_type": "stream",
     "text": [
      "finished\n",
      "ready\n",
      "ready\n",
      "finished\n",
      "running\n",
      "finished\n",
      "waiting\n",
      "running\n",
      "waiting\n",
      "running\n"
     ]
    }
   ],
   "source": [
    "# 'repr' and 'str' are just methods, so an object can print \n",
    "# differently at any time, depending on whatever\n",
    "# very common to display some kind of status summary for the object\n",
    "\n",
    "import random\n",
    "\n",
    "class P2:\n",
    "    def __repr__(self):\n",
    "        return(random.choice(['ready', 'waiting', 'running', 'finished']))\n",
    "p2 = P2()\n",
    "for j in range(10):\n",
    "    print(p2)"
   ]
  },
  {
   "cell_type": "markdown",
   "metadata": {},
   "source": [
    "# Arithmetic\n",
    "- x is an instance of class X\n",
    "- y is an instance of class Y\n",
    "\n",
    "- demonstrate ```__add__```, ```__radd__```, ```__iadd__``` below\n",
    "- likewise for ```__mul__, __rmul__, __imul__ ```"
   ]
  },
  {
   "cell_type": "code",
   "execution_count": null,
   "metadata": {
    "collapsed": false
   },
   "outputs": [],
   "source": [
    "class X:\n",
    "    def __init__(self, num):\n",
    "        self.xnum = num\n",
    "\n",
    "    def __str__(self):\n",
    "        return repr(self)\n",
    "    \n",
    "    def __repr__(self):\n",
    "        return 'X({})'.format(self.xnum)\n",
    "\n",
    "    def addInternal(self, n):\n",
    "        if isinstance(n, X):\n",
    "            return self.xnum + n.xnum\n",
    "        if isinstance(n, Y):\n",
    "            return self.xnum + n.ynum\n",
    "        # either int OR float\n",
    "        if isinstance(n, (int, float)):\n",
    "            return self.xnum + n\n",
    "    \n",
    "    def __add__(self, y):\n",
    "        return self.addInternal(y)\n",
    "    \n",
    "    # increment x\n",
    "    def __iadd__(self, n):\n",
    "        self.xnum = self.addInternal(n)\n",
    "        # must return self\n",
    "        return self\n",
    "    \n",
    "    # x is in the right side\n",
    "    def __radd__(self, n):\n",
    "        return self.addInternal(n)\n",
    "\n",
    "\n",
    "class Y:\n",
    "    # does not have __add__, __iadd__, or __radd__ methods\n",
    "    def __init__(self, num):\n",
    "        self.ynum = num\n",
    "\n",
    "    def __str__(self):\n",
    "        return('Y({})'.format(self.ynum))\n",
    "    \n",
    "    def __repr__(self):\n",
    "        return str(self)\n",
    "\n",
    "\n"
   ]
  },
  {
   "cell_type": "code",
   "execution_count": null,
   "metadata": {
    "collapsed": false
   },
   "outputs": [],
   "source": [
    "# run x __add__ method\n",
    "\n",
    "x = X(23)\n",
    "y = Y(10)\n",
    "[x, y, x + y, x + 4, x + 5.5]"
   ]
  },
  {
   "cell_type": "code",
   "execution_count": null,
   "metadata": {
    "collapsed": false
   },
   "outputs": [],
   "source": [
    "# run x __iadd__ method\n",
    "\n",
    "x += 23\n",
    "x"
   ]
  },
  {
   "cell_type": "code",
   "execution_count": null,
   "metadata": {
    "collapsed": false
   },
   "outputs": [],
   "source": [
    "# run x __radd__ method\n",
    "# x is on the right side\n",
    "\n",
    "y + x"
   ]
  },
  {
   "cell_type": "markdown",
   "metadata": {},
   "source": [
    "# Comparision\n",
    "- ```__lt__, __gt__, __le__, __ge__, __eq__, __ne__``` \n",
    "- tedious - many methods to define\n",
    "- easier way is to use functools.total_ordering - only need to define two\n",
    "- called by operators like '==' and '<'"
   ]
  },
  {
   "cell_type": "code",
   "execution_count": null,
   "metadata": {
    "collapsed": false
   },
   "outputs": [],
   "source": [
    "from functools import total_ordering\n",
    "\n",
    "# total_ordering is a 'decorator'\n",
    "# it will 'write' the other four predicates 'by magic'\n",
    "\n",
    "@total_ordering\n",
    "class Student:\n",
    "    def __init__(self, first, last):\n",
    "        # don't let case confuse sort\n",
    "        self.firstname = first.lower()\n",
    "        self.lastname = last.lower()\n",
    "        \n",
    "    def __eq__(self, other):\n",
    "        return ((self.lastname, self.firstname) ==\n",
    "                (other.lastname, other.firstname))\n",
    "    \n",
    "    def __lt__(self, other):\n",
    "        return ((self.lastname, self.firstname) <\n",
    "                (other.lastname, other.firstname))\n",
    "\n",
    "s1 = Student('joe', 'college')\n",
    "s2 = Student('jack', 'junior')"
   ]
  },
  {
   "cell_type": "code",
   "execution_count": null,
   "metadata": {
    "collapsed": false
   },
   "outputs": [],
   "source": [
    "s1 is s2"
   ]
  },
  {
   "cell_type": "code",
   "execution_count": null,
   "metadata": {
    "collapsed": false
   },
   "outputs": [],
   "source": [
    "s1 == s1"
   ]
  },
  {
   "cell_type": "code",
   "execution_count": null,
   "metadata": {
    "collapsed": false
   },
   "outputs": [],
   "source": [
    "s1 == s2"
   ]
  },
  {
   "cell_type": "code",
   "execution_count": null,
   "metadata": {
    "collapsed": false
   },
   "outputs": [],
   "source": [
    "s1 < s2"
   ]
  },
  {
   "cell_type": "code",
   "execution_count": null,
   "metadata": {
    "collapsed": false
   },
   "outputs": [],
   "source": [
    "s1 > s2"
   ]
  },
  {
   "cell_type": "markdown",
   "metadata": {},
   "source": [
    "# Iteration\n",
    "- ```__iter__``` - return an 'iterable' for this object\n",
    "    - 'iter' function calls this method\n",
    "- ```__next__``` - call on an iterable to get the next element in the sequence. raises 'StopIteration' error when sequence is exhausted\n",
    "    - 'next' function calls this method"
   ]
  },
  {
   "cell_type": "code",
   "execution_count": 10,
   "metadata": {
    "collapsed": false
   },
   "outputs": [
    {
     "name": "stdout",
     "output_type": "stream",
     "text": [
      "<list_iterator object at 0x10783e160>\n",
      "32\n",
      "4\n"
     ]
    },
    {
     "ename": "StopIteration",
     "evalue": "",
     "output_type": "error",
     "traceback": [
      "\u001b[0;31m---------------------------------------------------------------------------\u001b[0m",
      "\u001b[0;31mStopIteration\u001b[0m                             Traceback (most recent call last)",
      "\u001b[0;32m<ipython-input-10-19795ce8e485>\u001b[0m in \u001b[0;36m<module>\u001b[0;34m()\u001b[0m\n\u001b[1;32m      6\u001b[0m \u001b[0mprint\u001b[0m\u001b[0;34m(\u001b[0m\u001b[0mit\u001b[0m\u001b[0;34m.\u001b[0m\u001b[0m__next__\u001b[0m\u001b[0;34m(\u001b[0m\u001b[0;34m)\u001b[0m\u001b[0;34m)\u001b[0m\u001b[0;34m\u001b[0m\u001b[0m\n\u001b[1;32m      7\u001b[0m \u001b[0mprint\u001b[0m\u001b[0;34m(\u001b[0m\u001b[0mit\u001b[0m\u001b[0;34m.\u001b[0m\u001b[0m__next__\u001b[0m\u001b[0;34m(\u001b[0m\u001b[0;34m)\u001b[0m\u001b[0;34m)\u001b[0m\u001b[0;34m\u001b[0m\u001b[0m\n\u001b[0;32m----> 8\u001b[0;31m \u001b[0mit\u001b[0m\u001b[0;34m.\u001b[0m\u001b[0m__next__\u001b[0m\u001b[0;34m(\u001b[0m\u001b[0;34m)\u001b[0m\u001b[0;34m\u001b[0m\u001b[0m\n\u001b[0m",
      "\u001b[0;31mStopIteration\u001b[0m: "
     ]
    }
   ],
   "source": [
    "# using the actual methods...\n",
    "\n",
    "x = [32,4]\n",
    "it = x.__iter__()\n",
    "print(it)\n",
    "print(it.__next__())\n",
    "print(it.__next__())\n",
    "it.__next__()\n"
   ]
  },
  {
   "cell_type": "code",
   "execution_count": 11,
   "metadata": {
    "collapsed": false
   },
   "outputs": [
    {
     "name": "stdout",
     "output_type": "stream",
     "text": [
      "<list_iterator object at 0x10783eb00>\n",
      "32\n",
      "4\n"
     ]
    },
    {
     "ename": "StopIteration",
     "evalue": "",
     "output_type": "error",
     "traceback": [
      "\u001b[0;31m---------------------------------------------------------------------------\u001b[0m",
      "\u001b[0;31mStopIteration\u001b[0m                             Traceback (most recent call last)",
      "\u001b[0;32m<ipython-input-11-2a14cbed869c>\u001b[0m in \u001b[0;36m<module>\u001b[0;34m()\u001b[0m\n\u001b[1;32m      6\u001b[0m \u001b[0mprint\u001b[0m\u001b[0;34m(\u001b[0m\u001b[0mnext\u001b[0m\u001b[0;34m(\u001b[0m\u001b[0mit\u001b[0m\u001b[0;34m)\u001b[0m\u001b[0;34m)\u001b[0m\u001b[0;34m\u001b[0m\u001b[0m\n\u001b[1;32m      7\u001b[0m \u001b[0mprint\u001b[0m\u001b[0;34m(\u001b[0m\u001b[0mnext\u001b[0m\u001b[0;34m(\u001b[0m\u001b[0mit\u001b[0m\u001b[0;34m)\u001b[0m\u001b[0;34m)\u001b[0m\u001b[0;34m\u001b[0m\u001b[0m\n\u001b[0;32m----> 8\u001b[0;31m \u001b[0mnext\u001b[0m\u001b[0;34m(\u001b[0m\u001b[0mit\u001b[0m\u001b[0;34m)\u001b[0m\u001b[0;34m\u001b[0m\u001b[0m\n\u001b[0m",
      "\u001b[0;31mStopIteration\u001b[0m: "
     ]
    }
   ],
   "source": [
    "# using the functions - same thing, but nicer looking\n",
    "\n",
    "x = [32,4]\n",
    "it = iter(x)\n",
    "print(it)\n",
    "print(next(it))\n",
    "print(next(it))\n",
    "next(it)\n"
   ]
  },
  {
   "cell_type": "markdown",
   "metadata": {},
   "source": [
    "# collection element access and slices \n",
    "- ```__getitem__``` - get element or slice\n",
    "- ```__setitem__``` - set element or slice"
   ]
  },
  {
   "cell_type": "code",
   "execution_count": null,
   "metadata": {
    "collapsed": false
   },
   "outputs": [],
   "source": [
    "    def __getitem__(self, index):\n",
    "        # do different things depending on type of 'index'\n",
    "        if isinstance(index, int):\n",
    "            # if asked for a single term, p[n], index will\n",
    "            # be an int\n",
    "            pass\n",
    "        if isinstance(index, slice):\n",
    "            # if asked for a slice, p[n:m], index will be\n",
    "            # a 'slice' object\n",
    "            pass\n",
    "        pass"
   ]
  },
  {
   "cell_type": "markdown",
   "metadata": {},
   "source": [
    "# Context Management (with statement)\n",
    "- ```__enter__``` - acquire resource\n",
    "- ```__exit__``` - release resource"
   ]
  },
  {
   "cell_type": "code",
   "execution_count": null,
   "metadata": {
    "collapsed": false
   },
   "outputs": [],
   "source": [
    "with open('/tmp/path')  as fd:\n",
    "    fd.read()\n"
   ]
  },
  {
   "cell_type": "code",
   "execution_count": null,
   "metadata": {
    "collapsed": false
   },
   "outputs": [],
   "source": [
    "class P:\n",
    "    def __enter__(self):\n",
    "        print('enter')\n",
    "        return 23\n",
    "    \n",
    "    def __exit__(self, *pos):\n",
    "        # on an error, pos will have info\n",
    "        print(pos)\n",
    "        print('exit')\n",
    "\n",
    "with P() as p:\n",
    "    print(p)\n"
   ]
  },
  {
   "cell_type": "markdown",
   "metadata": {},
   "source": [
    "# Hashing\n",
    "- ```__hash__``` - should only be defined for immutable objects. the hash of a mutable object could change, making it a poor key\n",
    "- can turn it off this way\n",
    "\n",
    "```\n",
    "class foo:\n",
    "    __hash__ = None\n",
    "...\n",
    "```"
   ]
  },
  {
   "cell_type": "code",
   "execution_count": null,
   "metadata": {
    "collapsed": false
   },
   "outputs": [],
   "source": [
    "# a dictionary won't allow a mutable as a key\n",
    "\n",
    "k = [1,3,4]\n",
    "d = {}\n",
    "d[k] = 2"
   ]
  },
  {
   "cell_type": "markdown",
   "metadata": {
    "collapsed": true
   },
   "source": [
    "# Managed attributes\n",
    "- sometimes you want to run code when a object attribue is accessed or set\n",
    "- one way to do this is with decorators\n",
    "- advanced technique"
   ]
  },
  {
   "cell_type": "code",
   "execution_count": null,
   "metadata": {
    "collapsed": true
   },
   "outputs": [],
   "source": [
    "import random\n",
    "\n",
    "# inherit from object\n",
    "class RandomService:\n",
    "    def __init__(self):\n",
    "        self.counter = 0 \n",
    "        \n",
    "    @property\n",
    "    #  this runs on a \"get\"\n",
    "    # inc counter, rtn random\n",
    "    def ran(self):\n",
    "        self.counter += 1\n",
    "        return(random.random())\n",
    "    \n",
    "    @ran.setter\n",
    "    # this runs on a \"set\"\n",
    "    # set seed, reset counter\n",
    "    def ran(self, val):\n",
    "        self.counter = 0\n",
    "        if not isinstance(val, float):\n",
    "            raise TypeError('Expected a float')\n",
    "        random.seed(val)\n",
    "    \n",
    "rs = RandomService()    \n",
    " "
   ]
  },
  {
   "cell_type": "code",
   "execution_count": null,
   "metadata": {
    "collapsed": false
   },
   "outputs": [],
   "source": [
    "[rs.ran for j in range(5)]\n"
   ]
  },
  {
   "cell_type": "code",
   "execution_count": null,
   "metadata": {
    "collapsed": false
   },
   "outputs": [],
   "source": [
    "# counter recorded 5 invocations\n",
    "\n",
    "rs.counter"
   ]
  },
  {
   "cell_type": "code",
   "execution_count": null,
   "metadata": {
    "collapsed": false
   },
   "outputs": [],
   "source": [
    "# wants a float\n",
    "rs.ran = 'asfd'"
   ]
  },
  {
   "cell_type": "code",
   "execution_count": null,
   "metadata": {
    "collapsed": false
   },
   "outputs": [],
   "source": [
    "# set seed, reset counter\n",
    "rs.ran = 1.0\n",
    "rs.counter"
   ]
  },
  {
   "cell_type": "code",
   "execution_count": null,
   "metadata": {
    "collapsed": false
   },
   "outputs": [],
   "source": [
    "[rs.ran for j in range(5)]"
   ]
  },
  {
   "cell_type": "code",
   "execution_count": null,
   "metadata": {
    "collapsed": false
   },
   "outputs": [],
   "source": [
    "# reset seed, same random numbers\n",
    "rs.ran = 1.0\n",
    "[rs.ran for j in range(5)]"
   ]
  }
 ],
 "metadata": {
  "kernelspec": {
   "display_name": "Python [Root]",
   "language": "python",
   "name": "Python [Root]"
  },
  "language_info": {
   "codemirror_mode": {
    "name": "ipython",
    "version": 3
   },
   "file_extension": ".py",
   "mimetype": "text/x-python",
   "name": "python",
   "nbconvert_exporter": "python",
   "pygments_lexer": "ipython3",
   "version": "3.5.2"
  }
 },
 "nbformat": 4,
 "nbformat_minor": 0
}
