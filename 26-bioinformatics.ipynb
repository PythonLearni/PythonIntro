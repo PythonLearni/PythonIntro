{
 "cells": [
  {
   "cell_type": "markdown",
   "metadata": {},
   "source": [
    "# BioPython\n",
    "- large module for bioinformatics\n",
    "- [docs](http://biopython.org/DIST/docs/tutorial/Tutorial.html)"
   ]
  },
  {
   "cell_type": "code",
   "execution_count": null,
   "metadata": {
    "collapsed": false
   },
   "outputs": [],
   "source": [
    "from Bio.Seq import *\n",
    "s = Seq(\"AGTACACTGGT\")\n",
    "s"
   ]
  },
  {
   "cell_type": "code",
   "execution_count": null,
   "metadata": {
    "collapsed": false
   },
   "outputs": [],
   "source": [
    "[s.complement(), s.reverse_complement()]"
   ]
  },
  {
   "cell_type": "markdown",
   "metadata": {},
   "source": [
    "# Read Fasta format\n",
    "- [lady slipper orchid pics](https://www.flickr.com/search/?q=lady+slipper+orchid&s=int&z=t)"
   ]
  },
  {
   "cell_type": "code",
   "execution_count": null,
   "metadata": {
    "collapsed": true
   },
   "outputs": [],
   "source": [
    "# need data in files\n",
    "\n",
    "import urllib.request\n",
    "\n",
    "def copyToFile(path, url):\n",
    "    with urllib.request.urlopen(url) as nt:\n",
    "        lines = nt.readlines()\n",
    "        with open(path, \"bw\") as f:\n",
    "            for line in lines:\n",
    "                f.write(line)"
   ]
  },
  {
   "cell_type": "code",
   "execution_count": null,
   "metadata": {
    "collapsed": true
   },
   "outputs": [],
   "source": [
    "# places\n",
    "\n",
    "url = 'https://raw.githubusercontent.com/biopython/biopython/master/Doc/examples/ls_orchid.fasta'\n",
    "url2 = 'https://raw.githubusercontent.com/biopython/biopython/master/Doc/examples/ls_orchid.gbk'\n",
    "\n",
    "path = '/tmp/orch.fasta'\n",
    "path2 = '/tmp/orch.gbk'\n",
    "\n",
    "bioin = '/Users/lstead/bioin/'\n",
    "bioout = '/Users/lstead/bioout/'\n"
   ]
  },
  {
   "cell_type": "code",
   "execution_count": 5,
   "metadata": {
    "collapsed": false
   },
   "outputs": [
    {
     "name": "stdout",
     "output_type": "stream",
     "text": [
      "gi|2765658|emb|Z78533.1|CIZ78533\n",
      "Seq('CGTAACAAGGTTTCCGTAGGTGAACCTGCGGAAGGATCATTGATGAGACCGTGG...CGC', SingleLetterAlphabet())\n",
      "740\n",
      "gi|2765657|emb|Z78532.1|CCZ78532\n",
      "Seq('CGTAACAAGGTTTCCGTAGGTGAACCTGCGGAAGGATCATTGTTGAGACAACAG...GGC', SingleLetterAlphabet())\n",
      "753\n",
      "gi|2765656|emb|Z78531.1|CFZ78531\n",
      "Seq('CGTAACAAGGTTTCCGTAGGTGAACCTGCGGAAGGATCATTGTTGAGACAGCAG...TAA', SingleLetterAlphabet())\n",
      "748\n",
      "gi|2765655|emb|Z78530.1|CMZ78530\n",
      "Seq('CGTAACAAGGTTTCCGTAGGTGAACCTGCGGAAGGATCATTGTTGAAACAACAT...CAT', SingleLetterAlphabet())\n",
      "744\n",
      "gi|2765654|emb|Z78529.1|CLZ78529\n",
      "Seq('ACGGCGAGCTGCCGAAGGACATTGTTGAGACAGCAGAATATACGATTGAGTGAA...AAA', SingleLetterAlphabet())\n",
      "733\n",
      "gi|2765652|emb|Z78527.1|CYZ78527\n",
      "Seq('CGTAACAAGGTTTCCGTAGGTGAACCTGCGGAAGGATCATTGTTGAGACAGTAG...CCC', SingleLetterAlphabet())\n",
      "718\n",
      "gi|2765651|emb|Z78526.1|CGZ78526\n",
      "Seq('CGTAACAAGGTTTCCGTAGGTGAACCTGCGGAAGGATCATTGTTGAGACAGTAG...TGT', SingleLetterAlphabet())\n",
      "730\n",
      "gi|2765650|emb|Z78525.1|CAZ78525\n",
      "Seq('TGTTGAGATAGCAGAATATACATCGAGTGAATCCGGAGGACCTGTGGTTATTCG...GCA', SingleLetterAlphabet())\n",
      "704\n",
      "gi|2765649|emb|Z78524.1|CFZ78524\n",
      "Seq('CGTAACAAGGTTTCCGTAGGTGAACCTGCGGAAGGATCATTGTTGAGATAGTAG...AGC', SingleLetterAlphabet())\n",
      "740\n",
      "gi|2765648|emb|Z78523.1|CHZ78523\n",
      "Seq('CGTAACCAGGTTTCCGTAGGTGAACCTGCGGCAGGATCATTGTTGAGACAGCAG...AAG', SingleLetterAlphabet())\n",
      "709\n"
     ]
    }
   ],
   "source": [
    "from Bio import SeqIO\n",
    "\n",
    "copyToFile(path, url)\n",
    "\n",
    "l = list(SeqIO.parse(path, 'fasta'))\n",
    "for seq_record in l[:10]:\n",
    "    print(seq_record.id)\n",
    "    print(repr(seq_record.seq))\n",
    "    print(len(seq_record))\n"
   ]
  },
  {
   "cell_type": "code",
   "execution_count": 6,
   "metadata": {
    "collapsed": false
   },
   "outputs": [
    {
     "name": "stdout",
     "output_type": "stream",
     "text": [
      "Z78533.1\n",
      "Seq('CGTAACAAGGTTTCCGTAGGTGAACCTGCGGAAGGATCATTGATGAGACCGTGG...CGC', IUPACAmbiguousDNA())\n",
      "740\n",
      "Z78532.1\n",
      "Seq('CGTAACAAGGTTTCCGTAGGTGAACCTGCGGAAGGATCATTGTTGAGACAACAG...GGC', IUPACAmbiguousDNA())\n",
      "753\n",
      "Z78531.1\n",
      "Seq('CGTAACAAGGTTTCCGTAGGTGAACCTGCGGAAGGATCATTGTTGAGACAGCAG...TAA', IUPACAmbiguousDNA())\n",
      "748\n",
      "Z78530.1\n",
      "Seq('CGTAACAAGGTTTCCGTAGGTGAACCTGCGGAAGGATCATTGTTGAAACAACAT...CAT', IUPACAmbiguousDNA())\n",
      "744\n",
      "Z78529.1\n",
      "Seq('ACGGCGAGCTGCCGAAGGACATTGTTGAGACAGCAGAATATACGATTGAGTGAA...AAA', IUPACAmbiguousDNA())\n",
      "733\n",
      "Z78527.1\n",
      "Seq('CGTAACAAGGTTTCCGTAGGTGAACCTGCGGAAGGATCATTGTTGAGACAGTAG...CCC', IUPACAmbiguousDNA())\n",
      "718\n",
      "Z78526.1\n",
      "Seq('CGTAACAAGGTTTCCGTAGGTGAACCTGCGGAAGGATCATTGTTGAGACAGTAG...TGT', IUPACAmbiguousDNA())\n",
      "730\n",
      "Z78525.1\n",
      "Seq('TGTTGAGATAGCAGAATATACATCGAGTGAATCCGGAGGACCTGTGGTTATTCG...GCA', IUPACAmbiguousDNA())\n",
      "704\n",
      "Z78524.1\n",
      "Seq('CGTAACAAGGTTTCCGTAGGTGAACCTGCGGAAGGATCATTGTTGAGATAGTAG...AGC', IUPACAmbiguousDNA())\n",
      "740\n",
      "Z78523.1\n",
      "Seq('CGTAACCAGGTTTCCGTAGGTGAACCTGCGGCAGGATCATTGTTGAGACAGCAG...AAG', IUPACAmbiguousDNA())\n",
      "709\n"
     ]
    }
   ],
   "source": [
    "copyToFile(path2, url2)\n",
    "\n",
    "for seq_record in list(SeqIO.parse(path2, 'genbank'))[:10]:\n",
    "    print(seq_record.id)\n",
    "    print(repr(seq_record.seq))\n",
    "    print(len(seq_record))"
   ]
  },
  {
   "cell_type": "code",
   "execution_count": 7,
   "metadata": {
    "collapsed": false
   },
   "outputs": [
    {
     "name": "stdout",
     "output_type": "stream",
     "text": [
      "AGTACACTGGT IUPACUnambiguousDNA()\n",
      "AGTACACTGGT IUPACProtein()\n"
     ]
    }
   ],
   "source": [
    "# different alphabets for different purposes\n",
    "# DNA sequence\n",
    "\n",
    "s2 = Seq(\"AGTACACTGGT\", IUPAC.unambiguous_dna)\n",
    "print(s2, s2.alphabet)\n",
    "\n",
    "# amino acids\n",
    "s3 = Seq('AGTACACTGGT', IUPAC.protein)\n",
    "print(s3, s3.alphabet)"
   ]
  },
  {
   "cell_type": "code",
   "execution_count": 8,
   "metadata": {
    "collapsed": false
   },
   "outputs": [
    {
     "data": {
      "text/plain": [
       "[Seq('AGTACACTGGT', Alphabet()), 'G', 11, 3, Seq('ACACT', Alphabet())]"
      ]
     },
     "execution_count": 8,
     "metadata": {},
     "output_type": "execute_result"
    }
   ],
   "source": [
    "# Seq is not a string, but has string like features\n",
    "\n",
    "[s, s[1], len(s), s.count('A'), s[3:8]]"
   ]
  },
  {
   "cell_type": "code",
   "execution_count": 9,
   "metadata": {
    "collapsed": false
   },
   "outputs": [
    {
     "data": {
      "text/plain": [
       "45.45454545454545"
      ]
     },
     "execution_count": 9,
     "metadata": {},
     "output_type": "execute_result"
    }
   ],
   "source": [
    "# compute % of G and C\n",
    "\n",
    "100 * float(s.count(\"G\") + s.count(\"C\")) / len(s)"
   ]
  },
  {
   "cell_type": "code",
   "execution_count": 10,
   "metadata": {
    "collapsed": false
   },
   "outputs": [
    {
     "data": {
      "text/plain": [
       "45.45454545454545"
      ]
     },
     "execution_count": 10,
     "metadata": {},
     "output_type": "execute_result"
    }
   ],
   "source": [
    "# builtin function\n",
    "\n",
    "from Bio.SeqUtils import GC\n",
    "GC(s)"
   ]
  },
  {
   "cell_type": "code",
   "execution_count": 11,
   "metadata": {
    "collapsed": false
   },
   "outputs": [],
   "source": [
    "from reportlab.lib import colors\n",
    "from reportlab.lib.units import cm\n",
    "from Bio.Graphics import GenomeDiagram\n",
    "from Bio import SeqIO\n",
    "\n",
    "url='https://raw.githubusercontent.com/biopython/biopython/dbb0de6337d5604ea5a5b2276dfb0ae0d2ddd1dc/Tests/GenBank/NC_005816.gb'\n",
    "path = '/tmp/NC_005816.gb'\n",
    "\n",
    "copyToFile(path, url)\n",
    "\n",
    "record = SeqIO.read(path, \"genbank\")\n",
    "\n",
    "gd_diagram = GenomeDiagram.Diagram(\"Yersinia pestis biovar Microtus plasmid pPCP1\")\n",
    "gd_track_for_features = gd_diagram.new_track(1, name=\"Annotated Features\")\n",
    "gd_feature_set = gd_track_for_features.new_set()\n"
   ]
  },
  {
   "cell_type": "code",
   "execution_count": 12,
   "metadata": {
    "collapsed": false
   },
   "outputs": [],
   "source": [
    "for feature in record.features:\n",
    "    if feature.type != \"gene\":\n",
    "        #Exclude this feature\n",
    "        continue\n",
    "    if len(gd_feature_set) % 2 == 0:\n",
    "        color = colors.blue\n",
    "    else:\n",
    "        color = colors.lightblue\n",
    "    gd_feature_set.add_feature(feature, color=color, label=True)\n",
    "    \n",
    "gd_diagram.draw(format=\"linear\", orientation=\"landscape\", pagesize='A4',\n",
    "                fragments=4, start=0, end=len(record))\n",
    "gd_diagram.write(bioout+\"plasmid_linear.pdf\", \"PDF\")\n",
    "gd_diagram.write(bioout+\"plasmid_linear.eps\", \"EPS\")\n",
    "gd_diagram.write(bioout+\"plasmid_linear.svg\", \"SVG\")\n",
    "gd_diagram.draw(format=\"circular\", circular=True, pagesize=(20*cm,20*cm),\n",
    "                start=0, end=len(record), circle_core=0.7)\n",
    "gd_diagram.write(bioout+\"plasmid_circular.pdf\", \"PDF\")"
   ]
  },
  {
   "cell_type": "code",
   "execution_count": 13,
   "metadata": {
    "collapsed": false
   },
   "outputs": [],
   "source": [
    "from reportlab.lib import colors\n",
    "from reportlab.lib.units import cm\n",
    "from Bio.Graphics import GenomeDiagram\n",
    "from Bio import SeqIO\n",
    "from Bio.SeqFeature import SeqFeature, FeatureLocation\n",
    "\n",
    "record = SeqIO.read(path, \"genbank\")\n",
    "\n",
    "gd_diagram = GenomeDiagram.Diagram(record.id)\n",
    "gd_track_for_features = gd_diagram.new_track(1, name=\"Annotated Features\")\n",
    "gd_feature_set = gd_track_for_features.new_set()\n",
    "\n",
    "for feature in record.features:\n",
    "    if feature.type != \"gene\":\n",
    "        #Exclude this feature\n",
    "        continue\n",
    "    if len(gd_feature_set) % 2 == 0:\n",
    "        color = colors.blue\n",
    "    else:\n",
    "        color = colors.lightblue\n",
    "    gd_feature_set.add_feature(feature, sigil=\"ARROW\",\n",
    "                               color=color, label=True,\n",
    "                               label_size = 14, label_angle=0)\n",
    "\n",
    "#I want to include some strandless features, so for an example\n",
    "#will use EcoRI recognition sites etc.\n",
    "for site, name, color in [(\"GAATTC\",\"EcoRI\",colors.green),\n",
    "                          (\"CCCGGG\",\"SmaI\",colors.orange),\n",
    "                          (\"AAGCTT\",\"HindIII\",colors.red),\n",
    "                          (\"GGATCC\",\"BamHI\",colors.purple)]:\n",
    "    index = 0\n",
    "    while True:\n",
    "        index  = record.seq.find(site, start=index)\n",
    "        if index == -1 : break\n",
    "        feature = SeqFeature(FeatureLocation(index, index+len(site)))\n",
    "        gd_feature_set.add_feature(feature, color=color, name=name,\n",
    "                                   label=True, label_size = 10,\n",
    "                                   label_color=color)\n",
    "        index += len(site)\n",
    "\n",
    "gd_diagram.draw(format=\"linear\", pagesize='A4', fragments=4,\n",
    "                start=0, end=len(record))\n",
    "gd_diagram.write(bioout+\"plasmid_linear_nice.pdf\", \"PDF\")\n",
    "gd_diagram.write(bioout+\"plasmid_linear_nice.eps\", \"EPS\")\n",
    "gd_diagram.write(bioout+\"plasmid_linear_nice.svg\", \"SVG\")\n",
    "\n",
    "gd_diagram.draw(format=\"circular\", circular=True, pagesize=(20*cm,20*cm),\n",
    "                start=0, end=len(record), circle_core = 0.5)\n",
    "gd_diagram.write(bioout+\"plasmid_circular_nice.pdf\", \"PDF\")\n",
    "gd_diagram.write(bioout+\"plasmid_circular_nice.eps\", \"EPS\")\n",
    "gd_diagram.write(bioout+\"plasmid_circular_nice.svg\", \"SVG\")\n"
   ]
  },
  {
   "cell_type": "code",
   "execution_count": 14,
   "metadata": {
    "collapsed": false
   },
   "outputs": [
    {
     "name": "stdout",
     "output_type": "stream",
     "text": [
      "Chr I 30494425\n",
      "Chr II 19705359\n",
      "Chr III 23470805\n",
      "Chr IV 18585042\n",
      "Chr V 26992728\n"
     ]
    }
   ],
   "source": [
    "from Bio import SeqIO\n",
    "entries = [(\"Chr I\", \"NC_003070.fna\"),\n",
    "           (\"Chr II\", \"NC_003071.fna\"),\n",
    "           (\"Chr III\", \"NC_003074.fna\"),\n",
    "           (\"Chr IV\", \"NC_003075.fna\"),\n",
    "           (\"Chr V\", \"NC_003076.fna\")]\n",
    "for (name, filename) in entries:\n",
    "   record = SeqIO.read(bioin+filename,\"fasta\")\n",
    "   print(name, len(record))"
   ]
  },
  {
   "cell_type": "code",
   "execution_count": 15,
   "metadata": {
    "collapsed": true
   },
   "outputs": [],
   "source": [
    "from reportlab.lib.units import cm\n",
    "from Bio.Graphics import BasicChromosome\n",
    "\n",
    "entries = [(\"Chr I\", 30432563),\n",
    "           (\"Chr II\", 19705359),\n",
    "           (\"Chr III\", 23470805),\n",
    "           (\"Chr IV\", 18585042),\n",
    "           (\"Chr V\", 26992728)]\n",
    "\n",
    "max_len = 30432563 #Could compute this\n",
    "telomere_length = 1000000 #For illustration\n",
    "\n",
    "chr_diagram = BasicChromosome.Organism()\n",
    "chr_diagram.page_size = (29.7*cm, 21*cm) #A4 landscape\n",
    "\n",
    "for name, length in entries:\n",
    "    cur_chromosome = BasicChromosome.Chromosome(name)\n",
    "    #Set the scale to the MAXIMUM length plus the two telomeres in bp,\n",
    "    #want the same scale used on all five chromosomes so they can be\n",
    "    #compared to each other\n",
    "    cur_chromosome.scale_num = max_len + 2 * telomere_length\n",
    "\n",
    "    #Add an opening telomere\n",
    "    start = BasicChromosome.TelomereSegment()\n",
    "    start.scale = telomere_length\n",
    "    cur_chromosome.add(start)\n",
    "\n",
    "    #Add a body - using bp as the scale length here.\n",
    "    body = BasicChromosome.ChromosomeSegment()\n",
    "    body.scale = length\n",
    "    cur_chromosome.add(body)\n",
    "\n",
    "    #Add a closing telomere\n",
    "    end = BasicChromosome.TelomereSegment(inverted=True)\n",
    "    end.scale = telomere_length\n",
    "    cur_chromosome.add(end)\n",
    "\n",
    "    #This chromosome is done\n",
    "    chr_diagram.add(cur_chromosome)\n",
    "\n",
    "chr_diagram.draw(bioout+\"simple_chrom.pdf\", \"Arabidopsis thaliana\")"
   ]
  },
  {
   "cell_type": "code",
   "execution_count": 16,
   "metadata": {
    "collapsed": false
   },
   "outputs": [
    {
     "name": "stdout",
     "output_type": "stream",
     "text": [
      "/Users/lstead/bioin/NC_003070.gbk\n",
      "30432563\n",
      "/Users/lstead/bioin/NC_003074.gbk\n",
      "23470805\n",
      "/Users/lstead/bioin/NC_003075.gbk\n",
      "18585042\n",
      "/Users/lstead/bioin/NC_003076.gbk\n",
      "26992728\n"
     ]
    },
    {
     "name": "stderr",
     "output_type": "stream",
     "text": [
      "/Users/lstead/anaconda/lib/python3.5/site-packages/Bio/Graphics/BasicChromosome.py:529: BiopythonWarning: Too many labels to avoid overlap\n",
      "  warnings.warn(\"Too many labels to avoid overlap\", BiopythonWarning)\n"
     ]
    }
   ],
   "source": [
    "from reportlab.lib.units import cm\n",
    "from Bio import SeqIO\n",
    "from Bio.Graphics import BasicChromosome\n",
    "\n",
    "entries = [(\"Chr I\", \"NC_003070.gbk\"),\n",
    "           #(\"Chr II\", \"NC_003071.gbk\"),\n",
    "           (\"Chr III\", \"NC_003074.gbk\"),\n",
    "           (\"Chr IV\", \"NC_003075.gbk\"),\n",
    "           (\"Chr V\", \"NC_003076.gbk\")]\n",
    "\n",
    "max_len = 30432563 #Could compute this\n",
    "telomere_length = 1000000 #For illustration\n",
    "\n",
    "chr_diagram = BasicChromosome.Organism()\n",
    "chr_diagram.page_size = (29.7*cm, 21*cm) #A4 landscape\n",
    "\n",
    "for index, (name, filename) in enumerate(entries):\n",
    "    print(bioin+filename)\n",
    "    record = SeqIO.read(bioin+filename,\"genbank\")\n",
    "    length = len(record)\n",
    "    print(length)\n",
    "    features = [f for f in record.features if f.type==\"tRNA\"]\n",
    "    #Record an Artemis style integer color in the feature's qualifiers,\n",
    "    #1 = Black, 2 = Red, 3 = Green, 4 = blue, 5 =cyan, 6 = purple\n",
    "    for f in features: f.qualifiers[\"color\"] = [index+2]\n",
    "\n",
    "    cur_chromosome = BasicChromosome.Chromosome(name)\n",
    "    #Set the scale to the MAXIMUM length plus the two telomeres in bp,\n",
    "    #want the same scale used on all five chromosomes so they can be\n",
    "    #compared to each other\n",
    "    cur_chromosome.scale_num = max_len + 2 * telomere_length\n",
    "\n",
    "    #Add an opening telomere\n",
    "    start = BasicChromosome.TelomereSegment()\n",
    "    start.scale = telomere_length\n",
    "    cur_chromosome.add(start)\n",
    "\n",
    "    #Add a body - again using bp as the scale length here.\n",
    "    body = BasicChromosome.AnnotatedChromosomeSegment(length, features)\n",
    "    body.scale = length\n",
    "    cur_chromosome.add(body)\n",
    "\n",
    "    #Add a closing telomere\n",
    "    end = BasicChromosome.TelomereSegment(inverted=True)\n",
    "    end.scale = telomere_length\n",
    "    cur_chromosome.add(end)\n",
    "\n",
    "    #This chromosome is done\n",
    "    chr_diagram.add(cur_chromosome)\n",
    "\n",
    "chr_diagram.draw(bioout+\"tRNA_chrom.pdf\", \"Arabidopsis thaliana\")\n"
   ]
  },
  {
   "cell_type": "code",
   "execution_count": null,
   "metadata": {
    "collapsed": true
   },
   "outputs": [],
   "source": []
  }
 ],
 "metadata": {
  "anaconda-cloud": {},
  "kernelspec": {
   "display_name": "Python [Root]",
   "language": "python",
   "name": "Python [Root]"
  },
  "language_info": {
   "codemirror_mode": {
    "name": "ipython",
    "version": 3
   },
   "file_extension": ".py",
   "mimetype": "text/x-python",
   "name": "python",
   "nbconvert_exporter": "python",
   "pygments_lexer": "ipython3",
   "version": "3.5.2"
  }
 },
 "nbformat": 4,
 "nbformat_minor": 0
}
