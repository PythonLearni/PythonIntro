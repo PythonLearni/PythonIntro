{
 "cells": [
  {
   "cell_type": "markdown",
   "metadata": {},
   "source": [
    "# Problems with list representation of polynomial\n",
    "- negative exponents?\n",
    "- fractional exponents?\n",
    "- big exponents?\n",
    "    - 1 + x^1000000000\n",
    "- switch to a 'sparse' representation\n",
    "- plug compatible with polylist\n",
    "    - one of the advantages of using objects"
   ]
  },
  {
   "cell_type": "code",
   "execution_count": 2,
   "metadata": {
    "collapsed": false
   },
   "outputs": [],
   "source": [
    "import collections\n",
    "\n",
    "class polydict:\n",
    "    '''sparse poly representation using a dict\n",
    "        sparse is {exponent:coefficient, ...}\n",
    "        only non-zero terms appear in the dict\n",
    "        \n",
    "        {2:3, 1:2, 0:1} <=> 3*X**2 + 2*X + 1\n",
    "    '''\n",
    "    def __init__(self, d={}):\n",
    "\n",
    "        # why the copy??\n",
    "        self.sparse = collections.defaultdict(int)\n",
    "        self.sparse.update(d)\n",
    "\n",
    "    def printTerm(self, c ,e):\n",
    "        ''' print a term'''\n",
    "        cs = str(c)\n",
    "        if c > 0:\n",
    "            cs = '+ ' + cs\n",
    "        if (e == 0):\n",
    "            return(cs)\n",
    "        if (e == 1):\n",
    "            return('%s*X' % cs)    \n",
    "        return('%s*X**%d' % (cs,e))   \n",
    "        \n",
    "    def __str__(self):\n",
    "        if len(self.sparse) == 0:\n",
    "            return('0')\n",
    "        terms = [self.printTerm(self.sparse[e],e) \n",
    "                for e in sorted(self.sparse.keys(), \n",
    "                                reverse=True) \n",
    "                    if self.sparse[e] != 0]\n",
    "        s = ' '.join(terms)\n",
    "        if '+ ' == s[0:2]:\n",
    "            s = s[2:]\n",
    "        return (s)\n",
    "    \n",
    "    def __repr__(self):\n",
    "        return(self.__str__())\n",
    "\n",
    "    # don't allow a hash\n",
    "    __hash__ = None  \n",
    "    \n",
    "    def __len__(self):\n",
    "        return(len(self.sparse))\n",
    "\n",
    "    # can explicity define bool\n",
    "    def __bool__(self):\n",
    "        return(False if len(self.sparse)==0 else True)\n",
    "        \n",
    "    def __iter__(self):\n",
    "        # return a generator function that will\n",
    "        # iterate thru (exp, coe) pairs\n",
    "        return( (i for i in self.sparse.items() ))\n",
    "\n",
    "    # should check types\n",
    "    def __eq__(self, other):\n",
    "        return(self.sparse == other.sparse)\n",
    "        \n",
    "    def __ne__(self, other):\n",
    "        return(self.sparse != other.sparse)\n",
    "        \n",
    "    # define comparsion to be value of poly at 1\n",
    "    def __lt__(self, other):\n",
    "        return(self.evaluate(1) < other.evaluate(1))\n",
    "        \n",
    "    def __le__(self, other):\n",
    "        return(self.evaluate(1) <= other.evaluate(1))\n",
    "        \n",
    "    # does poly 'contain' an exponent?\n",
    "    def __contains__(self, e):\n",
    "        return(e in self.sparse)\n",
    "\n",
    "    def evaluate(self, n):\n",
    "        '''eval poly at x=n'''\n",
    "        sum = 0\n",
    "        for e in self.sparse.keys():\n",
    "            # self.sparse[e] is the coef\n",
    "            sum += self.sparse[e]*n**e\n",
    "        return(sum)\n",
    "            \n",
    "    def __add__(self, p2):\n",
    "        '''add two polys'''\n",
    "        n = self.sparse.copy()\n",
    "        for k,v in p2.sparse.items():\n",
    "            # defaultdict simplifies this\n",
    "            n[k] += v\n",
    "        return(polydict(n))\n",
    "        \n",
    "    def __getitem__(self, index):\n",
    "        '''pull out terms of the poly\n",
    "           p[2], p[2:5]\n",
    "           '''\n",
    "        keys = sorted(self.sparse.keys(), reverse=True)\n",
    "        if isinstance(index, int):\n",
    "            # if asked for a single term, p[n], index will\n",
    "            # be an int\n",
    "            inds = [index]\n",
    "        if isinstance(index, slice):\n",
    "            # if asked for a slice, p[n:m], index will be\n",
    "            # a 'slice' object\n",
    "            inds = range(*index.indices(len(keys)))\n",
    "        d = {}\n",
    "        for i in inds:\n",
    "            e = keys[i]\n",
    "            d[e] = self.sparse[e]\n",
    "        return(polydict(d))\n",
    "        \n",
    "    def __rmul__(self, p2):\n",
    "        ''' multiple by a scalar on the right\n",
    "            5*p1\n",
    "            '''\n",
    "        if isinstance(p2, (int, float)):\n",
    "            nd = {}\n",
    "        for e,c in self.sparse.items():\n",
    "            nd[e] = c * p2 \n",
    "        return(polydict(nd))\n",
    "        \n",
    "    def differentiate(self):\n",
    "        d = {}\n",
    "        for e,c in self.sparse.items():\n",
    "            if e != 0:\n",
    "                d[e-1] = c * e\n",
    "        return(polydict(d))\n",
    "    \n",
    "    def integrate(self):\n",
    "        # doesn't handle log\n",
    "        d = {}\n",
    "        for e,c in self.sparse.items():\n",
    "            d[e+1] = c / (e+1.)\n",
    "        return(polydict(d))\n"
   ]
  },
  {
   "cell_type": "code",
   "execution_count": 3,
   "metadata": {
    "collapsed": false
   },
   "outputs": [
    {
     "data": {
      "text/plain": [
       "[3*X**2 + 2*X + 1,\n",
       " 5*X**2 + 10*X,\n",
       " 80*X**8 + 70*X**7 + 60*X**6 + 50*X**5 + 40*X**4 + 30*X**3 + 20*X**2 + 10*X]"
      ]
     },
     "execution_count": 3,
     "metadata": {},
     "output_type": "execute_result"
    }
   ],
   "source": [
    "    \n",
    "p1 = polydict({2:3, 1:2, 0:1})\n",
    "p2 = polydict({1:10, 2:5})\n",
    "\n",
    "d = dict()\n",
    "\n",
    "for n in range(1, 9):\n",
    "        d[n] = 10 * n\n",
    "\n",
    "p4 = polydict(d)\n",
    "\n",
    "[p1, p2, p4]"
   ]
  },
  {
   "cell_type": "code",
   "execution_count": 4,
   "metadata": {
    "collapsed": false
   },
   "outputs": [
    {
     "data": {
      "text/plain": [
       "8*X**2 + 12*X + 1"
      ]
     },
     "execution_count": 4,
     "metadata": {},
     "output_type": "execute_result"
    }
   ],
   "source": [
    "p1 + p2"
   ]
  },
  {
   "cell_type": "code",
   "execution_count": 5,
   "metadata": {
    "collapsed": false
   },
   "outputs": [
    {
     "data": {
      "text/plain": [
       "80*X**8 + 70*X**7 + 60*X**6 + 50*X**5 + 40*X**4 + 30*X**3 + 20*X**2 + 10*X"
      ]
     },
     "execution_count": 5,
     "metadata": {},
     "output_type": "execute_result"
    }
   ],
   "source": [
    "p4"
   ]
  },
  {
   "cell_type": "code",
   "execution_count": 6,
   "metadata": {
    "collapsed": false
   },
   "outputs": [
    {
     "data": {
      "text/plain": [
       "15*X**2 + 10*X + 5"
      ]
     },
     "execution_count": 6,
     "metadata": {},
     "output_type": "execute_result"
    }
   ],
   "source": [
    "# rmul\n",
    "\n",
    "5 * p1"
   ]
  },
  {
   "cell_type": "code",
   "execution_count": 7,
   "metadata": {
    "collapsed": false
   },
   "outputs": [
    {
     "data": {
      "text/plain": [
       "6*X + 2"
      ]
     },
     "execution_count": 7,
     "metadata": {},
     "output_type": "execute_result"
    }
   ],
   "source": [
    "p1.differentiate()"
   ]
  },
  {
   "cell_type": "code",
   "execution_count": 8,
   "metadata": {
    "collapsed": false
   },
   "outputs": [
    {
     "data": {
      "text/plain": [
       "1.0*X**3 + 1.0*X**2 + 1.0*X"
      ]
     },
     "execution_count": 8,
     "metadata": {},
     "output_type": "execute_result"
    }
   ],
   "source": [
    "p1.integrate()"
   ]
  },
  {
   "cell_type": "code",
   "execution_count": 1,
   "metadata": {
    "collapsed": true
   },
   "outputs": [],
   "source": [
    "# can test with 'sympy' symbolic package\n",
    "\n",
    "import unittest\n",
    "import sympy\n",
    "\n",
    "X = sympy.symbols('X')\n",
    "p1s = 3*X**2 + 2*X + 1\n",
    "p2s = 5*X**2 + 10*X\n",
    "\n",
    "def polys():\n",
    "    print('p1: %s' % p1s)\n",
    "    print('p2: %s' % p2s)\n",
    "    print('p1+p2: %s' % (p1s + p2s))\n",
    "    print('p1*p2: %s' % (p1s*p2s))\n",
    "    print('p1*p2: %s' % (p1s*p2s).expand() )\n",
    "    print('p1(3): %s' % p1s.subs(X, 3))\n",
    "    print('d(p1)/dx %s' % p1s.diff(X))\n",
    "    print('int(p1,x) %s' % p1s.integrate(X))\n",
    "\n",
    "\n",
    "class SymPolyTest(unittest.TestCase):\n",
    "    \n",
    "    def testEval(self):\n",
    "        self.assertEqual(sp2.subs(X,2), p2.evaluate(2))\n",
    "        \n",
    "# unittest.main()\n",
    "        "
   ]
  },
  {
   "cell_type": "code",
   "execution_count": 2,
   "metadata": {
    "collapsed": false
   },
   "outputs": [
    {
     "name": "stdout",
     "output_type": "stream",
     "text": [
      "p1: 3*X**2 + 2*X + 1\n",
      "p2: 5*X**2 + 10*X\n",
      "p1+p2: 8*X**2 + 12*X + 1\n",
      "p1*p2: (5*X**2 + 10*X)*(3*X**2 + 2*X + 1)\n",
      "p1*p2: 15*X**4 + 40*X**3 + 25*X**2 + 10*X\n",
      "p1(3): 34\n",
      "d(p1)/dx 6*X + 2\n",
      "int(p1,x) X**3 + X**2 + X\n"
     ]
    }
   ],
   "source": [
    "polys()"
   ]
  }
 ],
 "metadata": {
  "anaconda-cloud": {},
  "kernelspec": {
   "display_name": "Python [Root]",
   "language": "python",
   "name": "Python [Root]"
  },
  "language_info": {
   "codemirror_mode": {
    "name": "ipython",
    "version": 3
   },
   "file_extension": ".py",
   "mimetype": "text/x-python",
   "name": "python",
   "nbconvert_exporter": "python",
   "pygments_lexer": "ipython3",
   "version": "3.5.2"
  }
 },
 "nbformat": 4,
 "nbformat_minor": 0
}
