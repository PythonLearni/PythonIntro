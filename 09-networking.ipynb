{
 "cells": [
  {
   "cell_type": "markdown",
   "metadata": {},
   "source": [
    "# Networking\n",
    "- 'socket' module has low level networking\n",
    "  - unpleasant to use\n",
    "  - you will probably never need it, as almost everything is HTTP\n",
    "- 'urllib' will snarf HTTP content\n",
    "- 'urllib.urlopen' will return an object similar to a file, with a few extra methods, so can iterate over the lines, or grab entire page as one string"
   ]
  },
  {
   "cell_type": "code",
   "execution_count": 1,
   "metadata": {
    "collapsed": false
   },
   "outputs": [],
   "source": [
    "import urllib.request\n",
    "\n",
    "cu = 'http://columbia.edu'\n",
    "\n",
    "# returns object that represents the connection - \n",
    "# similar to a file descriptor\n",
    "cur = urllib.request.urlopen(cu)"
   ]
  },
  {
   "cell_type": "code",
   "execution_count": 2,
   "metadata": {
    "collapsed": false
   },
   "outputs": [
    {
     "data": {
      "text/plain": [
       "[('Date', 'Fri, 30 Sep 2016 18:53:32 GMT'),\n",
       " ('Server', 'Apache'),\n",
       " ('Accept-Ranges', 'bytes'),\n",
       " ('Vary', 'Accept-Encoding,User-Agent'),\n",
       " ('Transfer-Encoding', 'chunked'),\n",
       " ('Content-Type', 'text/html'),\n",
       " ('Connection', 'close'),\n",
       " ('Set-Cookie',\n",
       "  'BIGipServer~CUIT~www.columbia.edu-80-pool=1311259520.20480.0000; expires=Sat, 01-Oct-2016 00:53:32 GMT; path=/')]"
      ]
     },
     "execution_count": 2,
     "metadata": {},
     "output_type": "execute_result"
    }
   ],
   "source": [
    "# headers from the server\n",
    "\n",
    "list(cur.headers.items())"
   ]
  },
  {
   "cell_type": "code",
   "execution_count": 3,
   "metadata": {
    "collapsed": false
   },
   "outputs": [
    {
     "data": {
      "text/plain": [
       "'Apache'"
      ]
     },
     "execution_count": 3,
     "metadata": {},
     "output_type": "execute_result"
    }
   ],
   "source": [
    "# headers is a dictionary\n",
    "\n",
    "cur.headers['Server']"
   ]
  },
  {
   "cell_type": "code",
   "execution_count": 6,
   "metadata": {
    "collapsed": false
   },
   "outputs": [
    {
     "data": {
      "text/plain": [
       "True"
      ]
     },
     "execution_count": 6,
     "metadata": {},
     "output_type": "execute_result"
    }
   ],
   "source": [
    "# similar to a file descriptor - \n",
    "# the network connection itself is an iterator\n",
    "\n",
    "cur is iter(cur)"
   ]
  },
  {
   "cell_type": "code",
   "execution_count": 7,
   "metadata": {
    "collapsed": false
   },
   "outputs": [
    {
     "data": {
      "text/plain": [
       "[b'<!DOCTYPE html PUBLIC \"-//W3C//DTD XHTML 1.0 Transitional//EN\" \"http://www.w3.org/TR/xhtml1/DTD/xhtml1-transitional.dtd\">\\n',\n",
       " b'<html xmlns=\"http://www.w3.org/1999/xhtml\" xml:lang=\"en\" lang=\"en\" dir=\"ltr\">\\n']"
      ]
     },
     "execution_count": 7,
     "metadata": {},
     "output_type": "execute_result"
    }
   ],
   "source": [
    "# usual iteration protocol reads one line at a time\n",
    "# note the lines comming back are byte arrays(b'), not strings\n",
    "# urllib doesn't know or try to guess what encoding is being used\n",
    "# by the server\n",
    "\n",
    "[next(cur), next(cur)]"
   ]
  },
  {
   "cell_type": "code",
   "execution_count": 8,
   "metadata": {
    "collapsed": false
   },
   "outputs": [
    {
     "data": {
      "text/plain": [
       "[b'<meta name=\"viewport\" content=\"maximum-scale=1.0, user-scalable=yes\" />\\n',\n",
       " b'<link type=\"text/css\" rel=\"stylesheet\" media=\"all\" href=\"modules/node/node.css\" />\\n',\n",
       " b'<link type=\"text/css\" rel=\"stylesheet\" media=\"all\" href=\"modules/system/defaults.css\" />\\n',\n",
       " b'<link type=\"text/css\" rel=\"stylesheet\" media=\"all\" href=\"modules/system/system.css\" />\\n',\n",
       " b'<link type=\"text/css\" rel=\"stylesheet\" media=\"all\" href=\"modules/system/system-menus.css\" />\\n',\n",
       " b'<link type=\"text/css\" rel=\"stylesheet\" media=\"all\" href=\"modules/user/user.css\" />\\n',\n",
       " b'<link type=\"text/css\" rel=\"stylesheet\" media=\"all\" href=\"sites/all/modules/contrib/cck/theme/content-module.css\" />\\n',\n",
       " b'<link type=\"text/css\" rel=\"stylesheet\" media=\"all\" href=\"sites/all/modules/contrib/ckeditor/ckeditor.css\" />\\n',\n",
       " b'<link type=\"text/css\" rel=\"stylesheet\" media=\"all\" href=\"sites/all/modules/contrib/ctools/css/ctools.css\" />\\n',\n",
       " b'<link type=\"text/css\" rel=\"stylesheet\" media=\"all\" href=\"sites/all/modules/contrib/date/date.css\" />\\n']"
      ]
     },
     "execution_count": 8,
     "metadata": {},
     "output_type": "execute_result"
    }
   ],
   "source": [
    "# grab the rest of the lines with 'list'\n",
    "\n",
    "lines = list(cur)\n",
    "lines[10:20]"
   ]
  },
  {
   "cell_type": "code",
   "execution_count": null,
   "metadata": {
    "collapsed": false
   },
   "outputs": [],
   "source": [
    "# or read lines with a for loop\n",
    "\n",
    "cur = urllib.request.urlopen(cu)\n",
    "\n",
    "for line in cur:\n",
    "    print(line)\n"
   ]
  },
  {
   "cell_type": "code",
   "execution_count": 10,
   "metadata": {
    "collapsed": false
   },
   "outputs": [
    {
     "data": {
      "text/plain": [
       "'<meta name=\"viewport\" content=\"maximum-scale=1.0, user-scalable=yes\" />\\n'"
      ]
     },
     "execution_count": 10,
     "metadata": {},
     "output_type": "execute_result"
    }
   ],
   "source": [
    "# ...to get python unicode strings, must decode byte stream\n",
    "# web sites written in English mostly use utf-8 because it is efficient\n",
    "\n",
    "lines[10].decode('utf-8')"
   ]
  },
  {
   "cell_type": "markdown",
   "metadata": {},
   "source": [
    "# requests\n",
    "- alternative to urllib\n",
    "- may be easier for complex tasks"
   ]
  },
  {
   "cell_type": "code",
   "execution_count": 11,
   "metadata": {
    "collapsed": false
   },
   "outputs": [
    {
     "name": "stdout",
     "output_type": "stream",
     "text": [
      "200\n",
      "{'Accept-Ranges': 'bytes', 'Server': 'Apache', 'Content-Encoding': 'gzip', 'Connection': 'Keep-Alive', 'Vary': 'Accept-Encoding,User-Agent', 'Content-Type': 'text/html', 'Content-Length': '7360', 'Set-Cookie': 'BIGipServer~CUIT~www.columbia.edu-80-pool=1730689920.20480.0000; expires=Sat, 01-Oct-2016 00:56:48 GMT; path=/', 'Date': 'Fri, 30 Sep 2016 18:56:48 GMT', 'Keep-Alive': 'timeout=15, max=42'}\n",
      "ISO-8859-1\n"
     ]
    },
    {
     "data": {
      "text/plain": [
       "['<link rel=\"shortcut icon\" href=\"sites/all/themes/base/columbia2/images/favicon-crown.png\" type=\"image/x-icon\" />',\n",
       " '<script type=\"text/javascript\" src=\"sites/all/modules/ias/mdetect/mdetect.js\"></script>',\n",
       " '<meta name=\"viewport\" content=\"maximum-scale=1.0, user-scalable=yes\" />',\n",
       " '<link type=\"text/css\" rel=\"stylesheet\" media=\"all\" href=\"modules/node/node.css\" />',\n",
       " '<link type=\"text/css\" rel=\"stylesheet\" media=\"all\" href=\"modules/system/defaults.css\" />',\n",
       " '<link type=\"text/css\" rel=\"stylesheet\" media=\"all\" href=\"modules/system/system.css\" />',\n",
       " '<link type=\"text/css\" rel=\"stylesheet\" media=\"all\" href=\"modules/system/system-menus.css\" />',\n",
       " '<link type=\"text/css\" rel=\"stylesheet\" media=\"all\" href=\"modules/user/user.css\" />',\n",
       " '<link type=\"text/css\" rel=\"stylesheet\" media=\"all\" href=\"sites/all/modules/contrib/cck/theme/content-module.css\" />',\n",
       " '<link type=\"text/css\" rel=\"stylesheet\" media=\"all\" href=\"sites/all/modules/contrib/ckeditor/ckeditor.css\" />']"
      ]
     },
     "execution_count": 11,
     "metadata": {},
     "output_type": "execute_result"
    }
   ],
   "source": [
    "import requests\n",
    "\n",
    "r = requests.get('http://columbia.edu')\n",
    "print(r.status_code)\n",
    "print(r.headers)\n",
    "print(r.encoding)\n",
    "# r.text is one string - split it into lines\n",
    "lines = r.text.split('\\n')\n",
    "lines[10:20]\n"
   ]
  },
  {
   "cell_type": "code",
   "execution_count": 12,
   "metadata": {
    "collapsed": false
   },
   "outputs": [
    {
     "data": {
      "text/plain": [
       "str"
      ]
     },
     "execution_count": 12,
     "metadata": {},
     "output_type": "execute_result"
    }
   ],
   "source": [
    "type(r.text)"
   ]
  },
  {
   "cell_type": "markdown",
   "metadata": {},
   "source": [
    "# Easy to make a simple web server"
   ]
  },
  {
   "cell_type": "code",
   "execution_count": null,
   "metadata": {
    "collapsed": false
   },
   "outputs": [],
   "source": [
    "# will serve files in the current directory\n",
    "\n",
    "import http.server\n",
    "import socketserver\n",
    "\n",
    "PORT = 8001\n",
    "\n",
    "Handler = http.server.SimpleHTTPRequestHandler\n",
    "\n",
    "httpd = socketserver.TCPServer((\"\", PORT), Handler)\n",
    "\n",
    "print(\"serving at port\", PORT)\n",
    "httpd.serve_forever()"
   ]
  },
  {
   "cell_type": "markdown",
   "metadata": {},
   "source": [
    "# 'Real' python web servers\n",
    "- two main ones are Flask and Django\n",
    "- Django [doc](https://www.djangoproject.com)\n",
    "- Flask [doc](http://flask.pocoo.org)"
   ]
  }
 ],
 "metadata": {
  "kernelspec": {
   "display_name": "Python [Root]",
   "language": "python",
   "name": "Python [Root]"
  },
  "language_info": {
   "codemirror_mode": {
    "name": "ipython",
    "version": 3
   },
   "file_extension": ".py",
   "mimetype": "text/x-python",
   "name": "python",
   "nbconvert_exporter": "python",
   "pygments_lexer": "ipython3",
   "version": "3.5.2"
  }
 },
 "nbformat": 4,
 "nbformat_minor": 0
}
