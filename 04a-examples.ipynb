{
 "cells": [
  {
   "cell_type": "markdown",
   "metadata": {},
   "source": [
    "\n",
    "# Examples"
   ]
  },
  {
   "cell_type": "code",
   "execution_count": null,
   "metadata": {
    "collapsed": true
   },
   "outputs": [],
   "source": [
    "# setup\n",
    "import math\n",
    "import random\n",
    "import matplotlib.pyplot as plt\n",
    "\n",
    "# render plots in the notebook, instead of in external windows,\n",
    "# which tend to be annoying\n",
    "%matplotlib inline\n"
   ]
  },
  {
   "cell_type": "code",
   "execution_count": null,
   "metadata": {
    "collapsed": false
   },
   "outputs": [],
   "source": [
    "def swapone(s, n):\n",
    "    c = s[n]\n",
    "    # get the char, swap it\n",
    "    c = c.swapcase()\n",
    "    # and put back in the string\n",
    "    s[n] = c\n",
    "    return s\n",
    "\n",
    "swapone('abcd', 2)"
   ]
  },
  {
   "cell_type": "code",
   "execution_count": null,
   "metadata": {
    "collapsed": false
   },
   "outputs": [],
   "source": [
    "# take 2\n",
    "\n",
    "def swapone2(s, n):\n",
    "    # take the string apart\n",
    "    left = s[:n]\n",
    "    right = s[n+1:]\n",
    "    swap = s[n].swapcase()\n",
    "    # and put it back together\n",
    "    return left + swap + right\n",
    "    \n",
    "swapone2('abcd', 2)"
   ]
  },
  {
   "cell_type": "code",
   "execution_count": null,
   "metadata": {
    "collapsed": false
   },
   "outputs": [],
   "source": [
    "list('asdf')"
   ]
  },
  {
   "cell_type": "code",
   "execution_count": null,
   "metadata": {
    "collapsed": false
   },
   "outputs": [],
   "source": [
    "# take 3\n",
    "\n",
    "def swapone3(s, n):\n",
    "    # convert to a list!!\n",
    "    sl = list(s)\n",
    "    # list can be updated\n",
    "    sl[n] = sl[n].swapcase()\n",
    "    # convert back to string\n",
    "    return ''.join(sl)\n",
    "\n",
    "swapone3('abcd', 2)"
   ]
  },
  {
   "cell_type": "markdown",
   "metadata": {},
   "source": [
    "# Structure sharing"
   ]
  },
  {
   "cell_type": "code",
   "execution_count": 128,
   "metadata": {
    "collapsed": false
   },
   "outputs": [
    {
     "data": {
      "text/plain": [
       "[[1, 2], [3, 4], [5, 6]]"
      ]
     },
     "execution_count": 128,
     "metadata": {},
     "output_type": "execute_result"
    }
   ],
   "source": [
    "# lists are zero origin\n",
    "\n",
    "x = [[1,2],[3,4],[5,6]]\n",
    "x"
   ]
  },
  {
   "cell_type": "code",
   "execution_count": 129,
   "metadata": {
    "collapsed": false
   },
   "outputs": [
    {
     "data": {
      "text/plain": [
       "3"
      ]
     },
     "execution_count": 129,
     "metadata": {},
     "output_type": "execute_result"
    }
   ],
   "source": [
    "# 2nd element of outer list, then 1st element of [3,4]\n",
    "\n",
    "x[1][0]"
   ]
  },
  {
   "cell_type": "code",
   "execution_count": 130,
   "metadata": {
    "collapsed": false
   },
   "outputs": [
    {
     "data": {
      "text/plain": [
       "[[1, 2], [55, 4], [5, 6]]"
      ]
     },
     "execution_count": 130,
     "metadata": {},
     "output_type": "execute_result"
    }
   ],
   "source": [
    "x[1][0] = 55\n",
    "x"
   ]
  },
  {
   "cell_type": "code",
   "execution_count": 190,
   "metadata": {
    "collapsed": false
   },
   "outputs": [
    {
     "data": {
      "text/plain": [
       "[[1, 2], [1, 2], [1, 2], [1, 2], [1, 2]]"
      ]
     },
     "execution_count": 190,
     "metadata": {},
     "output_type": "execute_result"
    }
   ],
   "source": [
    "y = 5*[[1,2]]\n",
    "y"
   ]
  },
  {
   "cell_type": "code",
   "execution_count": 191,
   "metadata": {
    "collapsed": false
   },
   "outputs": [
    {
     "data": {
      "text/plain": [
       "[[55, 2], [55, 2], [55, 2], [55, 2], [55, 2]]"
      ]
     },
     "execution_count": 191,
     "metadata": {},
     "output_type": "execute_result"
    }
   ],
   "source": [
    "# why so many 55's? \n",
    "# because 5*[[1,2]] made a len 5 list, then\n",
    "# filled it with references to the same [1,2] list. \n",
    "# only one [1,2] was constructed, not 5\n",
    "\n",
    "y[1][0] = 55\n",
    "y"
   ]
  },
  {
   "cell_type": "code",
   "execution_count": 188,
   "metadata": {
    "collapsed": false
   },
   "outputs": [
    {
     "data": {
      "text/plain": [
       "[[1, 2], [1, 2], [1, 2], [1, 2], [1, 2]]"
      ]
     },
     "execution_count": 188,
     "metadata": {},
     "output_type": "execute_result"
    }
   ],
   "source": [
    "# this will make 5 separate [1,2] lists\n",
    "\n",
    "z = [[1,2] for j in range(5)]\n",
    "z"
   ]
  },
  {
   "cell_type": "code",
   "execution_count": 189,
   "metadata": {
    "collapsed": false
   },
   "outputs": [
    {
     "data": {
      "text/plain": [
       "[[1, 2], [55, 2], [1, 2], [1, 2], [1, 2]]"
      ]
     },
     "execution_count": 189,
     "metadata": {},
     "output_type": "execute_result"
    }
   ],
   "source": [
    "# the other four [1,5] lists are not affected \n",
    "\n",
    "z[1][0] = 55\n",
    "z"
   ]
  },
  {
   "cell_type": "code",
   "execution_count": 193,
   "metadata": {
    "collapsed": false
   },
   "outputs": [
    {
     "data": {
      "text/plain": [
       "[[1, 2], 55, [1, 2], [1, 2], [1, 2]]"
      ]
     },
     "execution_count": 193,
     "metadata": {},
     "output_type": "execute_result"
    }
   ],
   "source": [
    "# in class i made a typo and did this:\n",
    "# why did 55 replace the 2nd [1,2] list?\n",
    "# work from the inside out:\n",
    "# [1][0] => 1 , so next step\n",
    "# z[1] = 55\n",
    "\n",
    "z = [[1,2] for j in range(5)]\n",
    "z[[1][0]] = 55\n",
    "z"
   ]
  },
  {
   "cell_type": "markdown",
   "metadata": {},
   "source": [
    "# Histogram of Guassian samples"
   ]
  },
  {
   "cell_type": "code",
   "execution_count": 138,
   "metadata": {
    "collapsed": false
   },
   "outputs": [
    {
     "data": {
      "text/plain": [
       "[-0.3081784246773917,\n",
       " -1.5252767706109702,\n",
       " -0.1425773937373015,\n",
       " 0.5192990369574142,\n",
       " -0.028075937727309853,\n",
       " -0.4735140337951511,\n",
       " -0.1611815724607735,\n",
       " 0.7976321303564514,\n",
       " -3.002808602826012,\n",
       " 0.10303594546738483]"
      ]
     },
     "execution_count": 138,
     "metadata": {},
     "output_type": "execute_result"
    }
   ],
   "source": [
    "# mean = 0, stddev = 1\n",
    "\n",
    "[random.gauss(0,1) for j in range(10)]"
   ]
  },
  {
   "cell_type": "code",
   "execution_count": 139,
   "metadata": {
    "collapsed": false
   },
   "outputs": [],
   "source": [
    "# get 100,100 samples, and filter out data greater than 2 SD\n",
    "\n",
    "gd = [d for d in [random.gauss(0,1) for j in range(100000)] if abs(d)<2]\n"
   ]
  },
  {
   "cell_type": "code",
   "execution_count": 196,
   "metadata": {
    "collapsed": false
   },
   "outputs": [
    {
     "data": {
      "text/plain": [
       "[3, -3]"
      ]
     },
     "execution_count": 196,
     "metadata": {},
     "output_type": "execute_result"
    }
   ],
   "source": [
    "# int seems like an easy way to compute bin numbers\n",
    "\n",
    "[int(3.4), int(-3.2)]"
   ]
  },
  {
   "cell_type": "code",
   "execution_count": 153,
   "metadata": {
    "collapsed": false
   },
   "outputs": [
    {
     "data": {
      "text/plain": [
       "[1, 5, -4, -6, -2, 2, -3, 1, -1, 4, -8, 0, -2, 6, -1, 6, 1, 5, -3, 0]"
      ]
     },
     "execution_count": 153,
     "metadata": {},
     "output_type": "execute_result"
    }
   ],
   "source": [
    "# list of bins each data point fell into\n",
    "# using 'int' instead of 'math.floor' produces an incorrect graph\n",
    "\n",
    "bins = [math.floor((d /.2)) for d in gd]\n",
    "bins[:20]"
   ]
  },
  {
   "cell_type": "code",
   "execution_count": 154,
   "metadata": {
    "collapsed": false
   },
   "outputs": [
    {
     "data": {
      "text/plain": [
       "[-10, 9]"
      ]
     },
     "execution_count": 154,
     "metadata": {},
     "output_type": "execute_result"
    }
   ],
   "source": [
    "# sort the bin numbers. \n",
    "# range from -10 to 9 \n",
    "\n",
    "bins.sort()\n",
    "[bins[0],bins[-1]]"
   ]
  },
  {
   "cell_type": "code",
   "execution_count": 155,
   "metadata": {
    "collapsed": false
   },
   "outputs": [
    {
     "data": {
      "text/plain": [
       "[0, 19]"
      ]
     },
     "execution_count": 155,
     "metadata": {},
     "output_type": "execute_result"
    }
   ],
   "source": [
    "# offset bins so smallest bin number = 0\n",
    "\n",
    "bins2 = [b - bins[0] for b in bins]\n",
    "[bins2[0], bins2[-1]]"
   ]
  },
  {
   "cell_type": "code",
   "execution_count": 156,
   "metadata": {
    "collapsed": false
   },
   "outputs": [
    {
     "data": {
      "text/plain": [
       "[0, 0, 0, 0, 0, 0, 0, 0, 0, 0, 0, 0, 0, 0, 0, 0, 0, 0, 0, 0]"
      ]
     },
     "execution_count": 156,
     "metadata": {},
     "output_type": "execute_result"
    }
   ],
   "source": [
    "# make a list of zeros that we can increment\n",
    "# to record the number of points in each bucket\n",
    "\n",
    "cnts = [0] * (bins2[-1]+1)\n",
    "cnts"
   ]
  },
  {
   "cell_type": "code",
   "execution_count": 157,
   "metadata": {
    "collapsed": false
   },
   "outputs": [
    {
     "data": {
      "text/plain": [
       "[1317,\n",
       " 1885,\n",
       " 2703,\n",
       " 3454,\n",
       " 4401,\n",
       " 5400,\n",
       " 6234,\n",
       " 7139,\n",
       " 7584,\n",
       " 7893,\n",
       " 7888,\n",
       " 7498,\n",
       " 6943,\n",
       " 6232,\n",
       " 5362,\n",
       " 4234,\n",
       " 3450,\n",
       " 2674,\n",
       " 1883,\n",
       " 1303]"
      ]
     },
     "execution_count": 157,
     "metadata": {},
     "output_type": "execute_result"
    }
   ],
   "source": [
    "for b in bins2:\n",
    "    cnts[b] += 1\n",
    "cnts"
   ]
  },
  {
   "cell_type": "code",
   "execution_count": 158,
   "metadata": {
    "collapsed": false
   },
   "outputs": [
    {
     "data": {
      "text/plain": [
       "<Container object of 20 artists>"
      ]
     },
     "execution_count": 158,
     "metadata": {},
     "output_type": "execute_result"
    },
    {
     "data": {
      "image/png": "[encoded data removed]",
      "text/plain": [
       "<matplotlib.figure.Figure at 0x110e42470>"
      ]
     },
     "metadata": {},
     "output_type": "display_data"
    }
   ],
   "source": [
    "\n",
    "plt.bar(range(len(cnts)), cnts, 1)\n"
   ]
  },
  {
   "cell_type": "code",
   "execution_count": 197,
   "metadata": {
    "collapsed": false
   },
   "outputs": [
    {
     "ename": "TypeError",
     "evalue": "'float' object cannot be interpreted as an integer",
     "output_type": "error",
     "traceback": [
      "\u001b[0;31m---------------------------------------------------------------------------\u001b[0m",
      "\u001b[0;31mTypeError\u001b[0m                                 Traceback (most recent call last)",
      "\u001b[0;32m<ipython-input-197-e09210850ac3>\u001b[0m in \u001b[0;36m<module>\u001b[0;34m()\u001b[0m\n\u001b[1;32m      4\u001b[0m \u001b[0;31m# but, range doesn't work with floats!\u001b[0m\u001b[0;34m\u001b[0m\u001b[0;34m\u001b[0m\u001b[0m\n\u001b[1;32m      5\u001b[0m \u001b[0;34m\u001b[0m\u001b[0m\n\u001b[0;32m----> 6\u001b[0;31m \u001b[0mrange\u001b[0m\u001b[0;34m(\u001b[0m\u001b[0;36m0\u001b[0m\u001b[0;34m,\u001b[0m\u001b[0;36m1\u001b[0m\u001b[0;34m,\u001b[0m\u001b[0;36m.1\u001b[0m\u001b[0;34m)\u001b[0m\u001b[0;34m\u001b[0m\u001b[0m\n\u001b[0m",
      "\u001b[0;31mTypeError\u001b[0m: 'float' object cannot be interpreted as an integer"
     ]
    }
   ],
   "source": [
    "# let's try to figure out why 'int' doesn't work by plotting \n",
    "\n",
    "# to plot a function, we need to generate a list of x values...\n",
    "# but, range doesn't work with floats!\n",
    "\n",
    "range(0,1,.1)"
   ]
  },
  {
   "cell_type": "code",
   "execution_count": 198,
   "metadata": {
    "collapsed": false
   },
   "outputs": [
    {
     "data": {
      "text/plain": [
       "[0.0,\n",
       " 0.1,\n",
       " 0.2,\n",
       " 0.30000000000000004,\n",
       " 0.4,\n",
       " 0.5,\n",
       " 0.6000000000000001,\n",
       " 0.7000000000000001,\n",
       " 0.8,\n",
       " 0.9]"
      ]
     },
     "execution_count": 198,
     "metadata": {},
     "output_type": "execute_result"
    }
   ],
   "source": [
    "# make a float version of range\n",
    "\n",
    "def frange(start, end, n):\n",
    "    inc = (end - start)/float(n)\n",
    "    return [start+j*inc for j in range(n)]\n",
    "\n",
    "frange(0,1,10)"
   ]
  },
  {
   "cell_type": "code",
   "execution_count": 149,
   "metadata": {
    "collapsed": true
   },
   "outputs": [],
   "source": [
    "def plotf(func):\n",
    "    # make a set of x vals\n",
    "    x = frange(-3,3,50)\n",
    "    # eval the func on the x vals\n",
    "    y = [func(xv) for xv in x]\n",
    "    plt.plot(x, y, 'r', linewidth=10)\n",
    "    plt.grid(True)"
   ]
  },
  {
   "cell_type": "code",
   "execution_count": 150,
   "metadata": {
    "collapsed": false
   },
   "outputs": [
    {
     "data": {
      "image/png": "[encoded data removed]",
      "text/plain": [
       "<matplotlib.figure.Figure at 0x1156b8550>"
      ]
     },
     "metadata": {},
     "output_type": "display_data"
    }
   ],
   "source": [
    "# test\n",
    "\n",
    "plotf(math.sin)"
   ]
  },
  {
   "cell_type": "code",
   "execution_count": 151,
   "metadata": {
    "collapsed": false
   },
   "outputs": [
    {
     "data": {
      "image/png": "[encoded data removed]",
      "text/plain": [
       "<matplotlib.figure.Figure at 0x114a2acc0>"
      ]
     },
     "metadata": {},
     "output_type": "display_data"
    }
   ],
   "source": [
    "# now we see the problem - int is making the middle \n",
    "# bucket twice as wide as the other buckets\n",
    "\n",
    "plotf(int)"
   ]
  },
  {
   "cell_type": "code",
   "execution_count": 152,
   "metadata": {
    "collapsed": false
   },
   "outputs": [
    {
     "data": {
      "image/png": "[encoded data removed]",
      "text/plain": [
       "<matplotlib.figure.Figure at 0x10466ea20>"
      ]
     },
     "metadata": {},
     "output_type": "display_data"
    }
   ],
   "source": [
    "# math.floor does the right thing\n",
    "\n",
    "plotf(math.floor)"
   ]
  },
  {
   "cell_type": "markdown",
   "metadata": {},
   "source": [
    "# 7 segment display\n",
    "- cheap displays\n",
    "    - clock radios\n",
    "    - elevators\n",
    "- [wiki article](https://en.wikipedia.org/wiki/Seven-segment_display)\n"
   ]
  },
  {
   "cell_type": "code",
   "execution_count": 159,
   "metadata": {
    "collapsed": false
   },
   "outputs": [
    {
     "data": {
      "image/png": "[encoded data removed]",
      "text/plain": [
       "<IPython.core.display.Image object>"
      ]
     },
     "execution_count": 159,
     "metadata": {},
     "output_type": "execute_result"
    }
   ],
   "source": [
    "from IPython.display import Image\n",
    "\n",
    "Image('https://upload.wikimedia.org/wikipedia/commons/thumb/0/02/7_segment_display_labeled.svg/300px-7_segment_display_labeled.svg.png')"
   ]
  },
  {
   "cell_type": "code",
   "execution_count": 160,
   "metadata": {
    "collapsed": true
   },
   "outputs": [],
   "source": [
    "# a '1' means turn on the corresponding segment\n",
    "# each tuple is (a,b,c,d,e,f,g)\n",
    "\n",
    "num = {' ':(0,0,0,0,0,0,0),\n",
    "    '0':(1,1,1,1,1,1,0),\n",
    "    '1':(0,1,1,0,0,0,0),\n",
    "    '2':(1,1,0,1,1,0,1),\n",
    "    '3':(1,1,1,1,0,0,1),\n",
    "    '4':(0,1,1,0,0,1,1),\n",
    "    '5':(1,0,1,1,0,1,1),\n",
    "    '6':(1,0,1,1,1,1,1),\n",
    "    '7':(1,1,1,0,0,0,0),\n",
    "    '8':(1,1,1,1,1,1,1),\n",
    "    '9':(1,1,1,1,0,1,1)}"
   ]
  },
  {
   "cell_type": "code",
   "execution_count": 161,
   "metadata": {
    "collapsed": false
   },
   "outputs": [
    {
     "data": {
      "text/plain": [
       "{' ': [],\n",
       " '0': ['a', 'b', 'c', 'd', 'e', 'f'],\n",
       " '1': ['b', 'c'],\n",
       " '2': ['a', 'b', 'd', 'e', 'g'],\n",
       " '3': ['a', 'b', 'c', 'd', 'g'],\n",
       " '4': ['b', 'c', 'f', 'g'],\n",
       " '5': ['a', 'c', 'd', 'f', 'g'],\n",
       " '6': ['a', 'c', 'd', 'e', 'f', 'g'],\n",
       " '7': ['a', 'b', 'c'],\n",
       " '8': ['a', 'b', 'c', 'd', 'e', 'f', 'g'],\n",
       " '9': ['a', 'b', 'c', 'd', 'f', 'g']}"
      ]
     },
     "execution_count": 161,
     "metadata": {},
     "output_type": "execute_result"
    }
   ],
   "source": [
    "# i don't like the above representation, too hard to read\n",
    "# so, i will convert to something i find more user friendly\n",
    "# now i can easily see which segments to turn on\n",
    "\n",
    "import string\n",
    "   \n",
    "alpha = {}\n",
    "\n",
    "for key in num.keys():\n",
    "    val = num[key]\n",
    "    segs = [a for a,n in zip(string.ascii_lowercase, val) if n]\n",
    "    alpha[key] = segs\n",
    "        \n",
    "alpha"
   ]
  },
  {
   "cell_type": "code",
   "execution_count": 166,
   "metadata": {
    "collapsed": false
   },
   "outputs": [
    {
     "data": {
      "image/png": "[encoded data removed]",
      "text/plain": [
       "<IPython.core.display.Image object>"
      ]
     },
     "execution_count": 166,
     "metadata": {},
     "output_type": "execute_result"
    }
   ],
   "source": [
    "from IPython.display import Image\n",
    "\n",
    "Image('https://upload.wikimedia.org/wikipedia/commons/thumb/0/02/7_segment_display_labeled.svg/300px-7_segment_display_labeled.svg.png')"
   ]
  },
  {
   "cell_type": "code",
   "execution_count": 172,
   "metadata": {
    "collapsed": false
   },
   "outputs": [],
   "source": [
    "# each segment is 1 long\n",
    "# origin is at lower left\n",
    "\n",
    "def seven(digit):\n",
    "    digit = str(digit)\n",
    "    for seg in alpha[digit]:\n",
    "        if seg == 'a':\n",
    "            # define line with two points\n",
    "            pts = [[0,2], [1,2]]\n",
    "        if seg == 'b':\n",
    "            pts = [[1,1], [1,2]]\n",
    "        if seg == 'c':\n",
    "            pts = [[1,0], [1,1]]\n",
    "        if seg == 'd':\n",
    "            pts = [[0,0], [1,0]]\n",
    "        if seg == 'e':\n",
    "            pts = [[0,0],[0,1]]\n",
    "        if seg == 'f':\n",
    "            pts = [[0,1],[0,2]]\n",
    "        if seg == 'g':\n",
    "            pts = [[0,1],[1,1]]\n",
    "        pt1,pt2 = pts\n",
    "        x = [pt1[0]*.5, pt2[0]*.5]\n",
    "        y = [pt1[1], pt2[1]]\n",
    "        plt.plot(x, y, linewidth=40, color='r')\n",
    "    # trick to fix aspect ratio\n",
    "    plt.plot([1,1], [0,1])"
   ]
  },
  {
   "cell_type": "code",
   "execution_count": 174,
   "metadata": {
    "collapsed": false
   },
   "outputs": [
    {
     "data": {
      "image/png": "[encoded data removed]",
      "text/plain": [
       "<matplotlib.figure.Figure at 0x115bbaa90>"
      ]
     },
     "metadata": {},
     "output_type": "display_data"
    }
   ],
   "source": [
    "seven(3)"
   ]
  },
  {
   "cell_type": "markdown",
   "metadata": {},
   "source": [
    "# Change of a dollar"
   ]
  },
  {
   "cell_type": "code",
   "execution_count": 175,
   "metadata": {
    "collapsed": true
   },
   "outputs": [],
   "source": [
    "# saving state in globals - ok for small/informal programs,\n",
    "# but later we will see how to make a class\n",
    "# note coins is a tuple, since the value of each \n",
    "# coin type never changes\n",
    "\n",
    "coins = (25, 10, 5, 1)\n",
    "coinInventory = [2, 3, 10, 7]\n",
    "\n",
    "def change(price):\n",
    "    owe = 100 - price\n",
    "    ans = [0]*4\n",
    "    for j in range(len(coins)):\n",
    "        cval = coins[j]\n",
    "        cinv = coinInventory[j]\n",
    "        cnt = owe // cval \n",
    "        cnt = min(cnt, cinv)\n",
    "        ans[j] = cnt\n",
    "        coinInventory[j] -= cnt\n",
    "        owe -= cnt * cval\n",
    "        if owe == 0:\n",
    "            break\n",
    "    # return amount still owed, if any\n",
    "    # coins returned\n",
    "    # coins left in inventory\n",
    "    return [owe,ans,coinInventory]\n",
    "    \n",
    " "
   ]
  },
  {
   "cell_type": "code",
   "execution_count": 176,
   "metadata": {
    "collapsed": false
   },
   "outputs": [
    {
     "data": {
      "text/plain": [
       "[0, [1, 0, 0, 1], [1, 3, 10, 6]]"
      ]
     },
     "execution_count": 176,
     "metadata": {},
     "output_type": "execute_result"
    }
   ],
   "source": [
    "change(74)"
   ]
  },
  {
   "cell_type": "code",
   "execution_count": 177,
   "metadata": {
    "collapsed": false
   },
   "outputs": [
    {
     "data": {
      "text/plain": [
       "[0, [1, 0, 0, 1], [0, 3, 10, 5]]"
      ]
     },
     "execution_count": 177,
     "metadata": {},
     "output_type": "execute_result"
    }
   ],
   "source": [
    "change(74)"
   ]
  },
  {
   "cell_type": "code",
   "execution_count": 178,
   "metadata": {
    "collapsed": false
   },
   "outputs": [
    {
     "data": {
      "text/plain": [
       "[0, [0, 2, 1, 1], [0, 1, 9, 4]]"
      ]
     },
     "execution_count": 178,
     "metadata": {},
     "output_type": "execute_result"
    }
   ],
   "source": [
    "change(74)"
   ]
  },
  {
   "cell_type": "code",
   "execution_count": 179,
   "metadata": {
    "collapsed": false
   },
   "outputs": [
    {
     "data": {
      "text/plain": [
       "[0, [0, 1, 3, 1], [0, 0, 6, 3]]"
      ]
     },
     "execution_count": 179,
     "metadata": {},
     "output_type": "execute_result"
    }
   ],
   "source": [
    "change(74)"
   ]
  },
  {
   "cell_type": "code",
   "execution_count": 180,
   "metadata": {
    "collapsed": false
   },
   "outputs": [
    {
     "data": {
      "text/plain": [
       "[0, [0, 0, 5, 1], [0, 0, 1, 2]]"
      ]
     },
     "execution_count": 180,
     "metadata": {},
     "output_type": "execute_result"
    }
   ],
   "source": [
    "change(74)"
   ]
  },
  {
   "cell_type": "code",
   "execution_count": 181,
   "metadata": {
    "collapsed": false
   },
   "outputs": [
    {
     "data": {
      "text/plain": [
       "[19, [0, 0, 1, 2], [0, 0, 0, 0]]"
      ]
     },
     "execution_count": 181,
     "metadata": {},
     "output_type": "execute_result"
    }
   ],
   "source": [
    "# ran out of coins\n",
    "\n",
    "change(74)"
   ]
  }
 ],
 "metadata": {
  "anaconda-cloud": {},
  "kernelspec": {
   "display_name": "Python [Root]",
   "language": "python",
   "name": "Python [Root]"
  },
  "language_info": {
   "codemirror_mode": {
    "name": "ipython",
    "version": 3
   },
   "file_extension": ".py",
   "mimetype": "text/x-python",
   "name": "python",
   "nbconvert_exporter": "python",
   "pygments_lexer": "ipython3",
   "version": "3.5.2"
  }
 },
 "nbformat": 4,
 "nbformat_minor": 0
}
