{
 "cells": [
  {
   "cell_type": "markdown",
   "metadata": {},
   "source": [
    "# TkInter \n",
    "- historically the most popular GUI package for Python\n",
    "- TK was the GUI package for a language called TCL\n",
    "- it works, but has an ancient look and feel\n",
    "- [doc](https://wiki.python.org/moin/TkInter)"
   ]
  },
  {
   "cell_type": "code",
   "execution_count": 1,
   "metadata": {
    "collapsed": false
   },
   "outputs": [],
   "source": [
    "# Simple example - just one label widget\n",
    "# have to search to find the window\n",
    "\n",
    "from tkinter import *\n",
    "\n",
    "# base window\n",
    "root = Tk()\n",
    "\n",
    "# stick a label in it\n",
    "w = Label(root, text=\"Hello, world!\")\n",
    "\n",
    "# do geometry calculations\n",
    "w.pack()\n",
    "\n",
    "# run event dispatch loop\n",
    "root.mainloop()\n"
   ]
  },
  {
   "cell_type": "code",
   "execution_count": 2,
   "metadata": {
    "collapsed": false
   },
   "outputs": [
    {
     "name": "stdout",
     "output_type": "stream",
     "text": [
      "check 1\n",
      "check 0\n",
      "check 1\n",
      "check 0\n",
      "check 1\n",
      "hi there, everyone!\n",
      "hi there, everyone!\n",
      "hi there, everyone!\n",
      "hi there, everyone!\n",
      "hi there, everyone!\n",
      "hi there, everyone!\n",
      "hi there, everyone!\n",
      "hi there, everyone!\n"
     ]
    }
   ],
   "source": [
    "# define an 'app' with button handlers\n",
    "\n",
    "class App:\n",
    "\n",
    "    def __init__(self, master):\n",
    "        self.chkval = IntVar()\n",
    "        \n",
    "        frame = Frame(master)\n",
    "        frame.pack()\n",
    "\n",
    "        self.button = Button(\n",
    "            frame, text=\"QUIT\", fg=\"red\", command=frame.quit\n",
    "            )\n",
    "        self.button.pack(side=LEFT)\n",
    "\n",
    "        self.hi_there = Button(frame, text=\"Hello\", command=self.say_hi)\n",
    "        self.hi_there.pack(side=LEFT)\n",
    "        self.chk = Checkbutton(frame, text=\"Yes/No\", command=self.check, variable=self.chkval)\n",
    "        self.chk.pack(side=LEFT)\n",
    "\n",
    "    def say_hi(self):\n",
    "        print(\"hi there, everyone!\")\n",
    "        \n",
    "    def check(self):\n",
    "        print(\"check %d\" % self.chkval.get())\n",
    "\n",
    "root = Tk()\n",
    "\n",
    "app = App(root)\n",
    "\n",
    "root.mainloop()\n",
    "root.destroy() # optional; see description below"
   ]
  },
  {
   "cell_type": "code",
   "execution_count": null,
   "metadata": {
    "collapsed": true
   },
   "outputs": [],
   "source": []
  }
 ],
 "metadata": {
  "anaconda-cloud": {},
  "kernelspec": {
   "display_name": "Python [Root]",
   "language": "python",
   "name": "Python [Root]"
  },
  "language_info": {
   "codemirror_mode": {
    "name": "ipython",
    "version": 3
   },
   "file_extension": ".py",
   "mimetype": "text/x-python",
   "name": "python",
   "nbconvert_exporter": "python",
   "pygments_lexer": "ipython3",
   "version": "3.5.2"
  }
 },
 "nbformat": 4,
 "nbformat_minor": 0
}
