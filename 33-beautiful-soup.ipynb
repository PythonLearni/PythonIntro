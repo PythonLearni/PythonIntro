{
 "cells": [
  {
   "cell_type": "markdown",
   "metadata": {},
   "source": [
    "# BeautifulSoup\n",
    "- great 'screen scraping' package\n",
    "- tons of interesting data on webpages\n",
    "- makes it easy to extract information from complex web pages and XML documents\n",
    "- can figure out what to do by playing interactively\n",
    "- [doc](http://www.crummy.com/software/BeautifulSoup/)"
   ]
  },
  {
   "cell_type": "markdown",
   "metadata": {},
   "source": [
    "# Example\n",
    "# Want to find all the headlines on the front page of the [New York Times](http://nyt.com)\n",
    "- look at webpage source - html structure is quite complex\n",
    "- would be very difficult to do with string.find() or regular expressions "
   ]
  },
  {
   "cell_type": "code",
   "execution_count": 2,
   "metadata": {
    "collapsed": false
   },
   "outputs": [],
   "source": [
    "# 'lxml' is a XML parser(parses HTML too)\n",
    "# must tell soup what unicode decoding to use\n",
    "import urllib.request\n",
    "\n",
    "from bs4 import BeautifulSoup\n",
    "import lxml\n",
    "\n",
    "nf2 = urllib.request.urlopen('http://nyt.com')\n",
    "sp = BeautifulSoup(nf2, 'lxml', from_encoding='utf-8')"
   ]
  },
  {
   "cell_type": "code",
   "execution_count": 3,
   "metadata": {
    "collapsed": false
   },
   "outputs": [
    {
     "data": {
      "text/plain": [
       "[<h2 class=\"refer-heading\"><a href=\"http://www.nytimes.com/2016/10/07/world/americas/hurricane-matthew-haiti.html\">As Waters Recede, Haiti Staggers Under the Toll</a></h2>,\n",
       " <h2 class=\"story-heading\"><a href=\"http://www.nytimes.com/2016/10/08/world/americas/nobel-peace-prize-juan-manuel-santos-colombia.html\">Nobel Peace Prize Awarded to Colombian President</a></h2>,\n",
       " <h2 class=\"refer-heading\"><a href=\"http://www.nytimes.com/interactive/2016/world/nobel-peace-prize-winners.html\">Quiz: How Much Do You Know About Past Winners?</a></h2>,\n",
       " <h2 class=\"story-heading\"><a href=\"http://www.nytimes.com/2016/10/08/upshot/looking-at-the-jobs-report-through-a-political-lens.html\">Jobs Data Supports Clinton’s Vision — and Trump’s</a></h2>,\n",
       " <h2 class=\"story-heading\"><i class=\"icon\"></i><a href=\"http://www.nytimes.com/2016/10/08/business/economy/jobs-report-unemployment-wages.html\">Job Market Shows Resilience, Despite Pockets of Weakness</a> <time class=\"timestamp\" data-eastern-timestamp=\"10:20 AM\" data-utc-timestamp=\"1475850016\" datetime=\"2016-10-07\">10:20 AM ET</time></h2>,\n",
       " <h2 class=\"story-heading\"><i class=\"icon\"></i><a href=\"http://www.nytimes.com/2016/10/08/business/dealbook/britain-pound-currency-flash-crash.html\">Pound Drops Again Amid Brexit Fears</a> <time class=\"timestamp\" data-eastern-timestamp=\"9:20 AM\" data-utc-timestamp=\"1475846434\" datetime=\"2016-10-07\">9:20 AM ET</time></h2>,\n",
       " <h2 class=\"story-heading\"><a href=\"http://www.nytimes.com/2016/10/08/us/politics/isis-mosul-iraq-us.html\">U.S. and Iraq Set to Begin a Climactic Battle Against ISIS</a></h2>,\n",
       " <h2 class=\"story-heading\"><a href=\"http://www.nytimes.com/2016/10/07/us/politics/nsa-suspect-is-a-hoarder-but-a-leaker-investigators-arent-sure.html\">N.S.A. Isn’t Sure if Suspect Leaked Data or Just Hoarded It</a></h2>,\n",
       " <h2 class=\"story-heading\"><a href=\"http://www.nytimes.com/2016/10/07/us/california-today-hollywood-boulevard-souvenir-vendors.html\">California Today: Hollywood History vs. ‘Souvenir Junk’</a></h2>,\n",
       " <h2 class=\"story-heading\"><a href=\"http://www.nytimes.com/2016/10/09/books/review/8-new-books-we-recommend-this-week.html\">8 New Books That Times Editors Think You Should Read</a></h2>]"
      ]
     },
     "execution_count": 3,
     "metadata": {},
     "output_type": "execute_result"
    }
   ],
   "source": [
    "# headlines seem to be contained in 'h2' elements\n",
    "\n",
    "sp.findAll('h2')[10:20]"
   ]
  },
  {
   "cell_type": "code",
   "execution_count": 4,
   "metadata": {
    "collapsed": false
   },
   "outputs": [
    {
     "data": {
      "text/plain": [
       "<h2 class=\"branding\"><a href=\"http://www.nytimes.com/\">\n",
       "<svg aria-label=\"The New York Times\" class=\"nyt-logo\" height=\"64\" role=\"img\" width=\"379\">\n",
       "<image alt=\"The New York Times\" border=\"0\" height=\"64\" src=\"https://a1.nyt.com/assets/homepage/20161003-111909/images/foundation/logos/nyt-logo-379x64.png\" width=\"379\" xlink:href=\"https://a1.nyt.com/assets/homepage/20161003-111909/images/foundation/logos/nyt-logo-379x64.svg\"></image>\n",
       "</svg>\n",
       "</a></h2>"
      ]
     },
     "execution_count": 4,
     "metadata": {},
     "output_type": "execute_result"
    }
   ],
   "source": [
    "# first 'h2' element\n",
    "\n",
    "h2 = sp.h2\n",
    "h2"
   ]
  },
  {
   "cell_type": "code",
   "execution_count": 5,
   "metadata": {
    "collapsed": false
   },
   "outputs": [
    {
     "data": {
      "text/plain": [
       "<a href=\"http://www.nytimes.com/\">\n",
       "<svg aria-label=\"The New York Times\" class=\"nyt-logo\" height=\"64\" role=\"img\" width=\"379\">\n",
       "<image alt=\"The New York Times\" border=\"0\" height=\"64\" src=\"https://a1.nyt.com/assets/homepage/20161003-111909/images/foundation/logos/nyt-logo-379x64.png\" width=\"379\" xlink:href=\"https://a1.nyt.com/assets/homepage/20161003-111909/images/foundation/logos/nyt-logo-379x64.svg\"></image>\n",
       "</svg>\n",
       "</a>"
      ]
     },
     "execution_count": 5,
     "metadata": {},
     "output_type": "execute_result"
    }
   ],
   "source": [
    "# can pull 'a' element out of 'h2'\n",
    "# this 'a' element is a picture\n",
    "\n",
    "a=h2.find('a')\n",
    "a"
   ]
  },
  {
   "cell_type": "code",
   "execution_count": 6,
   "metadata": {
    "collapsed": false
   },
   "outputs": [
    {
     "data": {
      "text/plain": [
       "[<a href=\"http://www.nytimes.com/\">\n",
       " <svg aria-label=\"The New York Times\" class=\"nyt-logo\" height=\"64\" role=\"img\" width=\"379\">\n",
       " <image alt=\"The New York Times\" border=\"0\" height=\"64\" src=\"https://a1.nyt.com/assets/homepage/20161003-111909/images/foundation/logos/nyt-logo-379x64.png\" width=\"379\" xlink:href=\"https://a1.nyt.com/assets/homepage/20161003-111909/images/foundation/logos/nyt-logo-379x64.svg\"></image>\n",
       " </svg>\n",
       " </a>,\n",
       " None,\n",
       " None,\n",
       " None,\n",
       " None,\n",
       " None,\n",
       " <a href=\"http://www.nytimes.com/2016/10/07/us/hurricane-matthew.html\">Hurricane Still Off Coast, but Remains Threat to Jacksonville</a>,\n",
       " <a href=\"http://www.nytimes.com/2016/10/07/us/practical-tips-for-surviving-a-hurricane-learned-the-hard-way.html\">How to Make Sure You’re Safe in a Hurricane</a>,\n",
       " <a href=\"http://www.nytimes.com/2016/10/07/us/hurricane-matthew-andrew-florida.html\">What It’s Like to Be Trapped by a Category 5 Hurricane</a>,\n",
       " <a href=\"http://www.nytimes.com/2016/10/08/world/americas/after-hurricane-matthew-devastation-in-southern-haiti.html\">Images of the Hurricane’s Devastation in Southern Haiti</a>,\n",
       " <a href=\"http://www.nytimes.com/2016/10/07/world/americas/hurricane-matthew-haiti.html\">As Waters Recede, Haiti Staggers Under the Toll</a>,\n",
       " <a href=\"http://www.nytimes.com/2016/10/08/world/americas/nobel-peace-prize-juan-manuel-santos-colombia.html\">Nobel Peace Prize Awarded to Colombian President</a>,\n",
       " <a href=\"http://www.nytimes.com/interactive/2016/world/nobel-peace-prize-winners.html\">Quiz: How Much Do You Know About Past Winners?</a>,\n",
       " <a href=\"http://www.nytimes.com/2016/10/08/upshot/looking-at-the-jobs-report-through-a-political-lens.html\">Jobs Data Supports Clinton’s Vision — and Trump’s</a>,\n",
       " <a href=\"http://www.nytimes.com/2016/10/08/business/economy/jobs-report-unemployment-wages.html\">Job Market Shows Resilience, Despite Pockets of Weakness</a>,\n",
       " <a href=\"http://www.nytimes.com/2016/10/08/business/dealbook/britain-pound-currency-flash-crash.html\">Pound Drops Again Amid Brexit Fears</a>,\n",
       " <a href=\"http://www.nytimes.com/2016/10/08/us/politics/isis-mosul-iraq-us.html\">U.S. and Iraq Set to Begin a Climactic Battle Against ISIS</a>,\n",
       " <a href=\"http://www.nytimes.com/2016/10/07/us/politics/nsa-suspect-is-a-hoarder-but-a-leaker-investigators-arent-sure.html\">N.S.A. Isn’t Sure if Suspect Leaked Data or Just Hoarded It</a>,\n",
       " <a href=\"http://www.nytimes.com/2016/10/07/us/california-today-hollywood-boulevard-souvenir-vendors.html\">California Today: Hollywood History vs. ‘Souvenir Junk’</a>,\n",
       " <a href=\"http://www.nytimes.com/2016/10/09/books/review/8-new-books-we-recommend-this-week.html\">8 New Books That Times Editors Think You Should Read</a>]"
      ]
     },
     "execution_count": 6,
     "metadata": {},
     "output_type": "execute_result"
    }
   ],
   "source": [
    "# try pulling the 'a' out of all 'h2' elements\n",
    "# looks like we get mostly headlines\n",
    "\n",
    "al=[h2.find('a') for h2 in sp.findAll(\"h2\")]\n",
    "al[:20]"
   ]
  },
  {
   "cell_type": "code",
   "execution_count": 7,
   "metadata": {
    "collapsed": false
   },
   "outputs": [
    {
     "data": {
      "text/plain": [
       "[['\\n',\n",
       "  <svg aria-label=\"The New York Times\" class=\"nyt-logo\" height=\"64\" role=\"img\" width=\"379\">\n",
       "  <image alt=\"The New York Times\" border=\"0\" height=\"64\" src=\"https://a1.nyt.com/assets/homepage/20161003-111909/images/foundation/logos/nyt-logo-379x64.png\" width=\"379\" xlink:href=\"https://a1.nyt.com/assets/homepage/20161003-111909/images/foundation/logos/nyt-logo-379x64.svg\"></image>\n",
       "  </svg>,\n",
       "  '\\n'],\n",
       " ['Hurricane Still Off Coast, but Remains Threat to Jacksonville'],\n",
       " ['How to Make Sure You’re Safe in a Hurricane'],\n",
       " ['What It’s Like to Be Trapped by a Category 5 Hurricane'],\n",
       " ['Images of the Hurricane’s Devastation in Southern Haiti'],\n",
       " ['As Waters Recede, Haiti Staggers Under the Toll'],\n",
       " ['Nobel Peace Prize Awarded to Colombian President'],\n",
       " ['Quiz: How Much Do You Know About Past Winners?'],\n",
       " ['Jobs Data Supports Clinton’s Vision — and Trump’s'],\n",
       " ['Job Market Shows Resilience, Despite Pockets of Weakness'],\n",
       " ['Pound Drops Again Amid Brexit Fears'],\n",
       " ['U.S. and Iraq Set to Begin a Climactic Battle Against ISIS'],\n",
       " ['N.S.A. Isn’t Sure if Suspect Leaked Data or Just Hoarded It'],\n",
       " ['California Today: Hollywood History vs. ‘Souvenir Junk’'],\n",
       " ['8 New Books That Times Editors Think You Should Read'],\n",
       " ['How to Use a Standing Desk Without Annoying Your Co-Workers'],\n",
       " ['A Mother Is Shot Dead, and a Sea of Witnesses Goes Silent'],\n",
       " [<i class=\"icon sprite-icon comments-icon\"></i>,\n",
       "  <span class=\"comment-count\">Comments</span>],\n",
       " ['Town Hall Format Shapes Debate Prep for Round 2'],\n",
       " ['When Trump Went to Washington and Got Himself a Tax Break'],\n",
       " ['How Trump Uses the Tax Code in Ways You Can’t'],\n",
       " [<span class=\"icon slideshow\"></span>, ' On the Trail With Gary Johnson'],\n",
       " ['Trump Adjusts Complaints About Debate Microphone'],\n",
       " ['Listen: How Powerful Will the Next Vice President Be?'],\n",
       " ['New York Plans World’s First Underground Park'],\n",
       " ['Evicted Auto Shop Owners Struggle to Rebuild'],\n",
       " ['California Today'],\n",
       " ['Europe May Finally End Its Painful Affinity for Austerity'],\n",
       " ['C.E.O. of Escort Advertiser Backpage.com Is Arrested'],\n",
       " ['Corzine May Avoid Trial With $5 Million Settlement']]"
      ]
     },
     "execution_count": 7,
     "metadata": {},
     "output_type": "execute_result"
    }
   ],
   "source": [
    "# pull out the 'a' link text \n",
    "\n",
    "[a.contents for a in al if a != None][:30]"
   ]
  },
  {
   "cell_type": "code",
   "execution_count": 8,
   "metadata": {
    "collapsed": false
   },
   "outputs": [
    {
     "data": {
      "text/plain": [
       "[['Hurricane Still Off Coast, but Remains Threat to Jacksonville'],\n",
       " ['How to Make Sure You’re Safe in a Hurricane'],\n",
       " ['What It’s Like to Be Trapped by a Category 5 Hurricane'],\n",
       " ['Images of the Hurricane’s Devastation in Southern Haiti'],\n",
       " ['As Waters Recede, Haiti Staggers Under the Toll'],\n",
       " ['Nobel Peace Prize Awarded to Colombian President'],\n",
       " ['Quiz: How Much Do You Know About Past Winners?'],\n",
       " ['Jobs Data Supports Clinton’s Vision — and Trump’s'],\n",
       " ['Job Market Shows Resilience, Despite Pockets of Weakness'],\n",
       " ['Pound Drops Again Amid Brexit Fears'],\n",
       " ['U.S. and Iraq Set to Begin a Climactic Battle Against ISIS'],\n",
       " ['N.S.A. Isn’t Sure if Suspect Leaked Data or Just Hoarded It'],\n",
       " ['California Today: Hollywood History vs. ‘Souvenir Junk’'],\n",
       " ['8 New Books That Times Editors Think You Should Read'],\n",
       " ['How to Use a Standing Desk Without Annoying Your Co-Workers'],\n",
       " ['A Mother Is Shot Dead, and a Sea of Witnesses Goes Silent'],\n",
       " ['Town Hall Format Shapes Debate Prep for Round 2'],\n",
       " ['When Trump Went to Washington and Got Himself a Tax Break'],\n",
       " ['How Trump Uses the Tax Code in Ways You Can’t'],\n",
       " ['Trump Adjusts Complaints About Debate Microphone'],\n",
       " ['Listen: How Powerful Will the Next Vice President Be?'],\n",
       " ['New York Plans World’s First Underground Park'],\n",
       " ['Evicted Auto Shop Owners Struggle to Rebuild'],\n",
       " ['California Today'],\n",
       " ['Europe May Finally End Its Painful Affinity for Austerity'],\n",
       " ['C.E.O. of Escort Advertiser Backpage.com Is Arrested'],\n",
       " ['Corzine May Avoid Trial With $5 Million Settlement'],\n",
       " ['When Trump vs. Clinton Becomes a Family Affair'],\n",
       " ['Review: The Cosmology of Terrence Malick'],\n",
       " ['Older Women Are Likelier to Go It Alone']]"
      ]
     },
     "execution_count": 8,
     "metadata": {},
     "output_type": "execute_result"
    }
   ],
   "source": [
    "# filter out images\n",
    "\n",
    "[a.contents for a in al if a != None and len(a)==1][:30]"
   ]
  }
 ],
 "metadata": {
  "anaconda-cloud": {},
  "kernelspec": {
   "display_name": "Python [Root]",
   "language": "python",
   "name": "Python [Root]"
  },
  "language_info": {
   "codemirror_mode": {
    "name": "ipython",
    "version": 3
   },
   "file_extension": ".py",
   "mimetype": "text/x-python",
   "name": "python",
   "nbconvert_exporter": "python",
   "pygments_lexer": "ipython3",
   "version": "3.5.2"
  }
 },
 "nbformat": 4,
 "nbformat_minor": 0
}
