{
 "cells": [
  {
   "cell_type": "markdown",
   "metadata": {},
   "source": [
    "# Interfacing Python and C/C++\n",
    "- [doc](https://docs.python.org/3.5/extending/)"
   ]
  },
  {
   "cell_type": "markdown",
   "metadata": {},
   "source": [
    "# calling C/C++ from Python\n",
    "- also known as FFI, Foreign Function Interface\n",
    "- works fine, but mistakes in C can corrupt the Python environment, causing\n",
    "mysteries and crashes\n",
    "- will show examples of calling 'libc' functions, which 'everything' uses\n",
    "- to call your own C code, build a shared library and load it"
   ]
  },
  {
   "cell_type": "code",
   "execution_count": null,
   "metadata": {
    "collapsed": true
   },
   "outputs": [],
   "source": [
    "from ctypes import *"
   ]
  },
  {
   "cell_type": "code",
   "execution_count": null,
   "metadata": {
    "collapsed": false
   },
   "outputs": [],
   "source": [
    "# Load the standard C library - full of routines all programs use\n",
    "# On linux, this call would be \n",
    "# libc = cdll.LoadLibrary(\"libc.so\")\n",
    "# call below works on a mac\n",
    "\n",
    "lc = cdll.LoadLibrary(\"libc.dylib\")\n",
    "lc"
   ]
  },
  {
   "cell_type": "code",
   "execution_count": 3,
   "metadata": {
    "collapsed": false
   },
   "outputs": [
    {
     "data": {
      "text/plain": [
       "[<_FuncPtr object at 0x105f498e0>,\n",
       " <_FuncPtr object at 0x105f499a8>,\n",
       " <_FuncPtr object at 0x105f49a70>,\n",
       " <_FuncPtr object at 0x105f49b38>,\n",
       " <_FuncPtr object at 0x105f49c00>]"
      ]
     },
     "execution_count": 3,
     "metadata": {},
     "output_type": "execute_result"
    }
   ],
   "source": [
    "# now have access to everything in the library,\n",
    "# but takes some effort to call things correctly\n",
    "\n",
    "[lc.strcmp, lc.printf, lc.malloc, lc.sin, lc.time]"
   ]
  },
  {
   "cell_type": "code",
   "execution_count": 4,
   "metadata": {
    "collapsed": false
   },
   "outputs": [
    {
     "data": {
      "text/plain": [
       "1477077877"
      ]
     },
     "execution_count": 4,
     "metadata": {},
     "output_type": "execute_result"
    }
   ],
   "source": [
    "# None means no args\n",
    "# seconds since 1970\n",
    "\n",
    "lc.time(None)"
   ]
  },
  {
   "cell_type": "markdown",
   "metadata": {},
   "source": [
    "# Call sin in libc\n",
    "- sin takes and returns doubles\n",
    "```\n",
    "NAME\n",
    "     sin -- sine function\n",
    "\n",
    "SYNOPSIS\n",
    "     #include <math.h>\n",
    "\n",
    "     double\n",
    "     sin(double x);\n",
    "\n",
    "     long double\n",
    "     sinl(long double x);\n",
    "\n",
    "     float\n",
    "     sinf(float x);\n",
    "```"
   ]
  },
  {
   "cell_type": "code",
   "execution_count": 5,
   "metadata": {
    "collapsed": false
   },
   "outputs": [
    {
     "data": {
      "text/plain": [
       "0.479425538604203"
      ]
     },
     "execution_count": 5,
     "metadata": {},
     "output_type": "execute_result"
    }
   ],
   "source": [
    "# ultimately calls libc sin routine\n",
    "\n",
    "import math\n",
    "math.sin(.5)"
   ]
  },
  {
   "cell_type": "code",
   "execution_count": 6,
   "metadata": {
    "collapsed": false
   },
   "outputs": [
    {
     "data": {
      "text/plain": [
       "<_FuncPtr object at 0x105f49b38>"
      ]
     },
     "execution_count": 6,
     "metadata": {},
     "output_type": "execute_result"
    }
   ],
   "source": [
    "# get libc.sin function pointer\n",
    "\n",
    "s = lc.sin\n",
    "s"
   ]
  },
  {
   "cell_type": "code",
   "execution_count": 7,
   "metadata": {
    "collapsed": false
   },
   "outputs": [
    {
     "ename": "ArgumentError",
     "evalue": "argument 1: <class 'TypeError'>: Don't know how to convert parameter 1",
     "output_type": "error",
     "traceback": [
      "\u001b[0;31m---------------------------------------------------------------------------\u001b[0m",
      "\u001b[0;31mArgumentError\u001b[0m                             Traceback (most recent call last)",
      "\u001b[0;32m<ipython-input-7-530f99118192>\u001b[0m in \u001b[0;36m<module>\u001b[0;34m()\u001b[0m\n\u001b[1;32m      1\u001b[0m \u001b[0;31m# this won't work\u001b[0m\u001b[0;34m\u001b[0m\u001b[0;34m\u001b[0m\u001b[0m\n\u001b[1;32m      2\u001b[0m \u001b[0;34m\u001b[0m\u001b[0m\n\u001b[0;32m----> 3\u001b[0;31m \u001b[0ms\u001b[0m\u001b[0;34m(\u001b[0m\u001b[0;36m.5\u001b[0m\u001b[0;34m)\u001b[0m\u001b[0;34m\u001b[0m\u001b[0m\n\u001b[0m",
      "\u001b[0;31mArgumentError\u001b[0m: argument 1: <class 'TypeError'>: Don't know how to convert parameter 1"
     ]
    }
   ],
   "source": [
    "# this won't work\n",
    "\n",
    "s(.5)"
   ]
  },
  {
   "cell_type": "code",
   "execution_count": 8,
   "metadata": {
    "collapsed": false
   },
   "outputs": [
    {
     "data": {
      "text/plain": [
       "1022"
      ]
     },
     "execution_count": 8,
     "metadata": {},
     "output_type": "execute_result"
    }
   ],
   "source": [
    "# have to convert Python 'float' into C 'double'\n",
    "# but it still won't work...garbage result\n",
    "\n",
    "s(c_double(.5))"
   ]
  },
  {
   "cell_type": "code",
   "execution_count": 9,
   "metadata": {
    "collapsed": false
   },
   "outputs": [
    {
     "data": {
      "text/plain": [
       "0.479425538604203"
      ]
     },
     "execution_count": 9,
     "metadata": {},
     "output_type": "execute_result"
    }
   ],
   "source": [
    "# ...have to specify how to convert C return type back into float\n",
    "\n",
    "s.restype = c_double\n",
    "s(c_double(.5))"
   ]
  },
  {
   "cell_type": "code",
   "execution_count": 10,
   "metadata": {
    "collapsed": false
   },
   "outputs": [
    {
     "data": {
      "text/plain": [
       "0.0"
      ]
     },
     "execution_count": 10,
     "metadata": {},
     "output_type": "execute_result"
    }
   ],
   "source": [
    "# looks like same routine is being called\n",
    "\n",
    "s(c_double(.5)) - math.sin(.5)"
   ]
  },
  {
   "cell_type": "code",
   "execution_count": 11,
   "metadata": {
    "collapsed": false
   },
   "outputs": [
    {
     "name": "stdout",
     "output_type": "stream",
     "text": [
      "qsortCmp 5 1\n",
      "qsortCmp 5 7\n",
      "qsortCmp 7 33\n",
      "qsortCmp 33 99\n"
     ]
    }
   ],
   "source": [
    "# Can define callbacks in python\n",
    "# this makes an integer C array class\n",
    "\n",
    "IntArray5 = c_int * 5\n",
    "\n",
    "# make array object\n",
    "ia = IntArray5(5, 1, 7, 33, 99)\n",
    "qsort = lc.qsort\n",
    "qsort.restype = None\n",
    "\n",
    "# write the comparsion function in Python\n",
    "\n",
    "def qsortCmp(a, b):\n",
    "    print(\"qsortCmp\", a[0], b[0] )\n",
    "    return a[0] - b[0]\n",
    "\n",
    "# declaration for comparison function\n",
    "CMPFUNC = CFUNCTYPE(c_int, POINTER(c_int), POINTER(c_int))\n",
    "\n",
    "qsort(ia, len(ia), sizeof(c_int), CMPFUNC(qsortCmp)) "
   ]
  },
  {
   "cell_type": "code",
   "execution_count": 12,
   "metadata": {
    "collapsed": false
   },
   "outputs": [
    {
     "data": {
      "text/plain": [
       "[1, 5, 7, 33, 99]"
      ]
     },
     "execution_count": 12,
     "metadata": {},
     "output_type": "execute_result"
    }
   ],
   "source": [
    "# list has been sorted by libc.qsort\n",
    "\n",
    "list(ia)"
   ]
  },
  {
   "cell_type": "markdown",
   "metadata": {},
   "source": [
    "# struct - lays out fields like C 'struct' would\n",
    "- hardware interfaces often need precise byte layouts\n",
    "- does padding like a C struct would\n",
    "- [doc](https://docs.python.org/3.5/library/struct.html)"
   ]
  },
  {
   "cell_type": "code",
   "execution_count": null,
   "metadata": {
    "collapsed": true
   },
   "outputs": [],
   "source": [
    "from struct import *"
   ]
  },
  {
   "cell_type": "code",
   "execution_count": null,
   "metadata": {
    "collapsed": false
   },
   "outputs": [],
   "source": [
    "# 2 ints and a byte - why is len(p) 12 bytes instead of 9?\n",
    "# f is a format spec - what types of things are going in the struct?\n",
    "\n",
    "f = 'ici'\n",
    "p = pack(f, 2,b'X', 3)\n",
    "[p, len(p), unpack(f, p)]"
   ]
  },
  {
   "cell_type": "code",
   "execution_count": null,
   "metadata": {
    "collapsed": false
   },
   "outputs": [],
   "source": [
    "f = 'ihi'\n",
    "p = pack(f, 4, 5, 6)\n",
    "[p, len(p), unpack(f, p)]"
   ]
  },
  {
   "cell_type": "code",
   "execution_count": null,
   "metadata": {
    "collapsed": false
   },
   "outputs": [],
   "source": [
    "list(map(type, unpack(f, p)))"
   ]
  },
  {
   "cell_type": "markdown",
   "metadata": {
    "collapsed": true
   },
   "source": [
    "# Embedding Python In a C/C++ application\n",
    "- can be incredibly useful\n",
    "- not too hard, but not trivial \n",
    "- mostly consists of converting C and Python data types back and forth\n",
    "- [doc]https://docs.python.org/3.5/extending/index.html"
   ]
  },
  {
   "cell_type": "markdown",
   "metadata": {},
   "source": [
    "# Example - Blender\n",
    "- Blender is an open source animation system\n",
    "- Pasting and running running the code below modifies the position of one vertex in the default cube\n",
    "- Pretty much every operation in the GUI is available in the Python API\n",
    "    - you can see the function in the tool tips\n",
    "- allows programs to build 3D objects and automate animations \n",
    "- zoom with cntl-two-fingers\n",
    "\n",
    "```\n",
    "import bpy\n",
    "bpy.data.objects[\"Cube\"].data.vertices[0].co.x += 1.0\n",
    "```"
   ]
  }
 ],
 "metadata": {
  "anaconda-cloud": {},
  "kernelspec": {
   "display_name": "Python [Root]",
   "language": "python",
   "name": "Python [Root]"
  },
  "language_info": {
   "codemirror_mode": {
    "name": "ipython",
    "version": 3
   },
   "file_extension": ".py",
   "mimetype": "text/x-python",
   "name": "python",
   "nbconvert_exporter": "python",
   "pygments_lexer": "ipython3",
   "version": "3.5.2"
  }
 },
 "nbformat": 4,
 "nbformat_minor": 0
}
