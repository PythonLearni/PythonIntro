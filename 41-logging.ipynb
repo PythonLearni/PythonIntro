{
 "cells": [
  {
   "cell_type": "markdown",
   "metadata": {},
   "source": [
    "# Logging \n",
    "- Often two types of logging are performed\n",
    "  - during development, may want very verbose logging to help debug system\n",
    "  - during production, want to log \"important\" events, like web hits, major failures, services performed, accounting data\n",
    "- inserting and removing print statement is tedious and unsystematic\n",
    "- want one system to handle both needs\n",
    "- use logging package \n",
    "    - can globally control how much is logged\n",
    "    - can send logger output to files and streams\n",
    "    - Python logging package similiar to Java log4j\n",
    "- [doc](https://docs.python.org/3/library/logging.html)"
   ]
  },
  {
   "cell_type": "code",
   "execution_count": 1,
   "metadata": {
    "collapsed": false
   },
   "outputs": [],
   "source": [
    "import logging\n",
    "import sys\n",
    "\n",
    "# send logger output to notebook\n",
    "root = logging.getLogger()\n",
    "root.handlers[0].stream = sys.stdout"
   ]
  },
  {
   "cell_type": "code",
   "execution_count": 2,
   "metadata": {
    "collapsed": false
   },
   "outputs": [
    {
     "data": {
      "text/plain": [
       "True"
      ]
     },
     "execution_count": 2,
     "metadata": {},
     "output_type": "execute_result"
    }
   ],
   "source": [
    "\n",
    "# Can instantiate any number of named loggers, and set their log level\n",
    "log = logging.getLogger('test')\n",
    "\n",
    "def testlog():\n",
    "    log.critical('critical')\n",
    "    log.error('error')\n",
    "    log.warning('warning')\n",
    "    log.info('info')\n",
    "    log.debug('debug')\n",
    "\n",
    "# the same name will get the same logger\n",
    "log2 = logging.getLogger('test')\n",
    "log is log2"
   ]
  },
  {
   "cell_type": "code",
   "execution_count": 3,
   "metadata": {
    "collapsed": false
   },
   "outputs": [
    {
     "name": "stdout",
     "output_type": "stream",
     "text": [
      "CRITICAL:test:critical\n"
     ]
    }
   ],
   "source": [
    "# only critical events will be logged\n",
    "log.setLevel(level = logging.CRITICAL)\n",
    "testlog()"
   ]
  },
  {
   "cell_type": "code",
   "execution_count": 4,
   "metadata": {
    "collapsed": false
   },
   "outputs": [
    {
     "name": "stdout",
     "output_type": "stream",
     "text": [
      "CRITICAL:test:critical\n",
      "ERROR:test:error\n",
      "WARNING:test:warning\n"
     ]
    }
   ],
   "source": [
    "# warning events and everything above \n",
    "log.setLevel(level = logging.WARNING)\n",
    "testlog()"
   ]
  },
  {
   "cell_type": "code",
   "execution_count": 5,
   "metadata": {
    "collapsed": false
   },
   "outputs": [
    {
     "name": "stdout",
     "output_type": "stream",
     "text": [
      "CRITICAL:test:critical\n",
      "ERROR:test:error\n",
      "WARNING:test:warning\n",
      "INFO:test:info\n",
      "DEBUG:test:debug\n"
     ]
    }
   ],
   "source": [
    "# everything will be logged\n",
    "log.setLevel(level = logging.DEBUG)\n",
    "testlog()"
   ]
  },
  {
   "cell_type": "markdown",
   "metadata": {},
   "source": [
    "# Notice the args to debug, info, etc\n",
    "\n",
    "``Logger.debug(msg, *args, **kwargs)``"
   ]
  },
  {
   "cell_type": "code",
   "execution_count": 6,
   "metadata": {
    "collapsed": false
   },
   "outputs": [
    {
     "name": "stdout",
     "output_type": "stream",
     "text": [
      "DEBUG:test:debugging system #34 version #104 status=alpha\n",
      "DEBUG:test:debugging system #34 version #104 status=alpha\n"
     ]
    }
   ],
   "source": [
    "# These two calls seem to print the same thing...\n",
    "# What is the critical difference between these approaches?\n",
    "\n",
    "\n",
    "log.debug('debugging system #%d version #%d status=%s' % (34, 104, 'alpha'))\n",
    "log.debug('debugging system #%d version #%d status=%s', 34, 104, 'alpha')"
   ]
  },
  {
   "cell_type": "code",
   "execution_count": 33,
   "metadata": {
    "collapsed": false
   },
   "outputs": [
    {
     "name": "stdout",
     "output_type": "stream",
     "text": [
      "<ipython-input-33-2688084f2d26>\n",
      "10\n",
      "<module>\n",
      "Stack (most recent call last):\n",
      "  File \"/Users/lstead/anaconda/lib/python3.5/runpy.py\", line 184, in _run_module_as_main\n",
      "    \"__main__\", mod_spec)\n",
      "  File \"/Users/lstead/anaconda/lib/python3.5/runpy.py\", line 85, in _run_code\n",
      "    exec(code, run_globals)\n",
      "  File \"/Users/lstead/anaconda/lib/python3.5/site-packages/ipykernel/__main__.py\", line 3, in <module>\n",
      "    app.launch_new_instance()\n",
      "  File \"/Users/lstead/anaconda/lib/python3.5/site-packages/traitlets/config/application.py\", line 596, in launch_instance\n",
      "    app.start()\n",
      "  File \"/Users/lstead/anaconda/lib/python3.5/site-packages/ipykernel/kernelapp.py\", line 442, in start\n",
      "    ioloop.IOLoop.instance().start()\n",
      "  File \"/Users/lstead/anaconda/lib/python3.5/site-packages/zmq/eventloop/ioloop.py\", line 162, in start\n",
      "    super(ZMQIOLoop, self).start()\n",
      "  File \"/Users/lstead/anaconda/lib/python3.5/site-packages/tornado/ioloop.py\", line 883, in start\n",
      "    handler_func(fd_obj, events)\n",
      "  File \"/Users/lstead/anaconda/lib/python3.5/site-packages/tornado/stack_context.py\", line 275, in null_wrapper\n",
      "    return fn(*args, **kwargs)\n",
      "  File \"/Users/lstead/anaconda/lib/python3.5/site-packages/zmq/eventloop/zmqstream.py\", line 440, in _handle_events\n",
      "    self._handle_recv()\n",
      "  File \"/Users/lstead/anaconda/lib/python3.5/site-packages/zmq/eventloop/zmqstream.py\", line 472, in _handle_recv\n",
      "    self._run_callback(callback, msg)\n",
      "  File \"/Users/lstead/anaconda/lib/python3.5/site-packages/zmq/eventloop/zmqstream.py\", line 414, in _run_callback\n",
      "    callback(*args, **kwargs)\n",
      "  File \"/Users/lstead/anaconda/lib/python3.5/site-packages/tornado/stack_context.py\", line 275, in null_wrapper\n",
      "    return fn(*args, **kwargs)\n",
      "  File \"/Users/lstead/anaconda/lib/python3.5/site-packages/ipykernel/kernelbase.py\", line 276, in dispatcher\n",
      "    return self.dispatch_shell(stream, msg)\n",
      "  File \"/Users/lstead/anaconda/lib/python3.5/site-packages/ipykernel/kernelbase.py\", line 228, in dispatch_shell\n",
      "    handler(stream, idents, msg)\n",
      "  File \"/Users/lstead/anaconda/lib/python3.5/site-packages/ipykernel/kernelbase.py\", line 391, in execute_request\n",
      "    user_expressions, allow_stdin)\n",
      "  File \"/Users/lstead/anaconda/lib/python3.5/site-packages/ipykernel/ipkernel.py\", line 199, in do_execute\n",
      "    shell.run_cell(code, store_history=store_history, silent=silent)\n",
      "  File \"/Users/lstead/anaconda/lib/python3.5/site-packages/IPython/core/interactiveshell.py\", line 2723, in run_cell\n",
      "    interactivity=interactivity, compiler=compiler, result=result)\n",
      "  File \"/Users/lstead/anaconda/lib/python3.5/site-packages/IPython/core/interactiveshell.py\", line 2831, in run_ast_nodes\n",
      "    if self.run_code(code, result):\n",
      "  File \"/Users/lstead/anaconda/lib/python3.5/site-packages/IPython/core/interactiveshell.py\", line 2885, in run_code\n",
      "    exec(code_obj, self.user_global_ns, self.user_ns)\n",
      "  File \"<ipython-input-33-2688084f2d26>\", line 10, in <module>\n",
      "    foo()\n"
     ]
    }
   ],
   "source": [
    "# a logger can get alot of stack info\n",
    "\n",
    "def foo():\n",
    "    bar()\n",
    "\n",
    "def bar():\n",
    "    for line in log.findCaller(stack_info=True):\n",
    "        print(line)\n",
    "\n",
    "foo()"
   ]
  }
 ],
 "metadata": {
  "anaconda-cloud": {},
  "kernelspec": {
   "display_name": "Python [Root]",
   "language": "python",
   "name": "Python [Root]"
  },
  "language_info": {
   "codemirror_mode": {
    "name": "ipython",
    "version": 3
   },
   "file_extension": ".py",
   "mimetype": "text/x-python",
   "name": "python",
   "nbconvert_exporter": "python",
   "pygments_lexer": "ipython3",
   "version": "3.5.2"
  }
 },
 "nbformat": 4,
 "nbformat_minor": 0
}
