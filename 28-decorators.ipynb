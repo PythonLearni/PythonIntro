{
 "cells": [
  {
   "cell_type": "markdown",
   "metadata": {},
   "source": [
    "# Decorators\n",
    "- Documentation tends to be confusing, but basics are straightforward\n",
    "- Functions, classes, and methods can be 'decorated'\n",
    "- Will only show how to decorate functions - others are fairly complex\n",
    "- Similar to 'annotations and aspect' programming in java\n",
    "- Good for 'cross cutting' concerns, like security, mettering, billing. "
   ]
  },
  {
   "cell_type": "markdown",
   "metadata": {},
   "source": [
    "# Callables\n",
    "- a 'callable' is something that can be 'called', applied to arguments\n",
    "- have seen functions and lambdas\n",
    "- objects can also be callables, by defining the ```__call__``` method"
   ]
  },
  {
   "cell_type": "code",
   "execution_count": 1,
   "metadata": {
    "collapsed": false
   },
   "outputs": [
    {
     "data": {
      "text/plain": [
       "[0.479425538604203, 0.479425538604203]"
      ]
     },
     "execution_count": 1,
     "metadata": {},
     "output_type": "execute_result"
    }
   ],
   "source": [
    "import math\n",
    "\n",
    "class Co:\n",
    "    # args applied to object will call this\n",
    "    def __call__(self, x):\n",
    "        return(math.sin(x))\n",
    "\n",
    "\n",
    "# make a Co object\n",
    "c = Co()\n",
    "\n",
    "# can call object like a function\n",
    "[math.sin(.5), c(.5)]\n",
    "    "
   ]
  },
  {
   "cell_type": "code",
   "execution_count": 2,
   "metadata": {
    "collapsed": false
   },
   "outputs": [
    {
     "name": "stdout",
     "output_type": "stream",
     "text": [
      "inside fact(4)\n",
      "inside fact(3)\n",
      "inside fact(2)\n",
      "inside fact(1)\n",
      "inside fact(0)\n"
     ]
    },
    {
     "data": {
      "text/plain": [
       "24"
      ]
     },
     "execution_count": 2,
     "metadata": {},
     "output_type": "execute_result"
    }
   ],
   "source": [
    "# good old recursive factorial, with a print debug statement added\n",
    "\n",
    "def fact(n):\n",
    "    print('inside fact({})'.format(n))\n",
    "    if n == 0:\n",
    "        return(1)\n",
    "    else:\n",
    "        return(n * fact(n-1))\n",
    "\n",
    "fact(4)\n"
   ]
  },
  {
   "cell_type": "markdown",
   "metadata": {},
   "source": [
    "# to decorate a function, define a class\n",
    "- can also use nested functions, but a class is easier"
   ]
  },
  {
   "cell_type": "code",
   "execution_count": 3,
   "metadata": {
    "collapsed": false
   },
   "outputs": [],
   "source": [
    "\n",
    "\n",
    "class traceindent(object):\n",
    "    def __init__(self, f):\n",
    "        # f is the original function\n",
    "        self.f = f\n",
    "        self.level = 0\n",
    "\n",
    "    def __call__(self, *pos, **kw):\n",
    "        self.level += 1\n",
    "        indent = ['.'] * self.level\n",
    "        indent = ''.join(indent)\n",
    "        if len(pos) == 1:\n",
    "            printpos = '({})'.format(pos[0])\n",
    "        print(\"{}Entering {}{}\".format(indent, self.f.__name__, printpos))\n",
    "        # calling the traced function\n",
    "        val = self.f(*pos, **kw)\n",
    "        print('{}Exiting {}{}=>{}'.format(indent, self.f.__name__, printpos, val))\n",
    "        self.level -= 1\n",
    "        return(val)\n"
   ]
  },
  {
   "cell_type": "code",
   "execution_count": 4,
   "metadata": {
    "collapsed": false
   },
   "outputs": [
    {
     "name": "stdout",
     "output_type": "stream",
     "text": [
      ".Entering fact(4)\n",
      "..Entering fact(3)\n",
      "...Entering fact(2)\n",
      "....Entering fact(1)\n",
      ".....Entering fact(0)\n",
      ".....Exiting fact(0)=>1\n",
      "....Exiting fact(1)=>1\n",
      "...Exiting fact(2)=>2\n",
      "..Exiting fact(3)=>6\n",
      ".Exiting fact(4)=>24\n"
     ]
    },
    {
     "data": {
      "text/plain": [
       "24"
      ]
     },
     "execution_count": 4,
     "metadata": {},
     "output_type": "execute_result"
    }
   ],
   "source": [
    "# decorate the fact function with a trace\n",
    "\n",
    "@traceindent\n",
    "def fact(n):\n",
    "    if n == 0:\n",
    "        return(1)\n",
    "    else:\n",
    "        return(n * fact(n-1))\n",
    "\n",
    "fact(4)"
   ]
  },
  {
   "cell_type": "code",
   "execution_count": 5,
   "metadata": {
    "collapsed": false
   },
   "outputs": [
    {
     "data": {
      "text/plain": [
       "<__main__.traceindent at 0x107435cf8>"
      ]
     },
     "execution_count": 5,
     "metadata": {},
     "output_type": "execute_result"
    }
   ],
   "source": [
    "# 'fact' is an object now, not the original 'def'\n",
    "fact"
   ]
  },
  {
   "cell_type": "markdown",
   "metadata": {},
   "source": [
    "# functools module\n",
    "- has some decorators\n",
    "- [doc](https://docs.python.org/3.5/library/functools.html)\n"
   ]
  },
  {
   "cell_type": "code",
   "execution_count": 6,
   "metadata": {
    "collapsed": false
   },
   "outputs": [],
   "source": [
    "# in the poly class i had to define too many comparison methods\n",
    "# here i just do the essentials, and the decorator adds the other methods\n",
    "\n",
    "from functools import total_ordering\n",
    "\n",
    "@total_ordering\n",
    "class Student:\n",
    "    def __eq__(self, other):\n",
    "        return ((self.lastname.lower(), self.firstname.lower()) ==\n",
    "                (other.lastname.lower(), other.firstname.lower()))\n",
    "    def __lt__(self, other):\n",
    "        return ((self.lastname.lower(), self.firstname.lower()) <\n",
    "                (other.lastname.lower(), other.firstname.lower()))"
   ]
  },
  {
   "cell_type": "code",
   "execution_count": 7,
   "metadata": {
    "collapsed": false
   },
   "outputs": [
    {
     "data": {
      "text/plain": [
       "18"
      ]
     },
     "execution_count": 7,
     "metadata": {},
     "output_type": "execute_result"
    }
   ],
   "source": [
    "# can fill in some args - functional programing types like this\n",
    "\n",
    "from functools import partial\n",
    "basetwo = partial(int, base=2)\n",
    "basetwo.__doc__ = 'Convert base 2 string to an int.'\n",
    "basetwo('10010')\n"
   ]
  },
  {
   "cell_type": "code",
   "execution_count": 8,
   "metadata": {
    "collapsed": false
   },
   "outputs": [
    {
     "name": "stdout",
     "output_type": "stream",
     "text": [
      "in fib 7\n",
      "in fib 6\n",
      "in fib 5\n",
      "in fib 4\n",
      "in fib 3\n",
      "in fib 2\n",
      "in fib 1\n",
      "in fib 0\n",
      "in fib 1\n",
      "in fib 2\n",
      "in fib 1\n",
      "in fib 0\n",
      "in fib 3\n",
      "in fib 2\n",
      "in fib 1\n",
      "in fib 0\n",
      "in fib 1\n",
      "in fib 4\n",
      "in fib 3\n",
      "in fib 2\n",
      "in fib 1\n",
      "in fib 0\n",
      "in fib 1\n",
      "in fib 2\n",
      "in fib 1\n",
      "in fib 0\n",
      "in fib 5\n",
      "in fib 4\n",
      "in fib 3\n",
      "in fib 2\n",
      "in fib 1\n",
      "in fib 0\n",
      "in fib 1\n",
      "in fib 2\n",
      "in fib 1\n",
      "in fib 0\n",
      "in fib 3\n",
      "in fib 2\n",
      "in fib 1\n",
      "in fib 0\n",
      "in fib 1\n"
     ]
    },
    {
     "data": {
      "text/plain": [
       "13"
      ]
     },
     "execution_count": 8,
     "metadata": {},
     "output_type": "execute_result"
    }
   ],
   "source": [
    "# f[n] = f[n-1] + f[n-2]\n",
    "# doubly recursive\n",
    "# many redundant calls...\n",
    "\n",
    "def fibonacci(n):\n",
    "   \"Return the nth fibonacci number.\"\n",
    "   print('in fib', n)\n",
    "   if n in (0,1):\n",
    "      return n\n",
    "   return fibonacci(n-1) + fibonacci(n-2)\n",
    "\n",
    "fibonacci(7)"
   ]
  },
  {
   "cell_type": "code",
   "execution_count": 9,
   "metadata": {
    "collapsed": false
   },
   "outputs": [
    {
     "name": "stdout",
     "output_type": "stream",
     "text": [
      "in fib 8\n",
      "in fib 7\n",
      "in fib 6\n",
      "in fib 5\n",
      "in fib 4\n",
      "in fib 3\n",
      "in fib 2\n",
      "in fib 1\n",
      "in fib 0\n"
     ]
    },
    {
     "data": {
      "text/plain": [
       "21"
      ]
     },
     "execution_count": 9,
     "metadata": {},
     "output_type": "execute_result"
    }
   ],
   "source": [
    "import collections\n",
    "import functools\n",
    "\n",
    "class memoized(object):\n",
    "   '''Decorator. Caches a function's return value each time it is called.\n",
    "   If called later with the same arguments, the cached value is returned\n",
    "   (not reevaluated).\n",
    "   '''\n",
    "   def __init__(self, func):\n",
    "      self.func = func\n",
    "      self.cache = {}\n",
    "        \n",
    "   def __call__(self, *args):\n",
    "      if not isinstance(args, collections.Hashable):\n",
    "         # uncacheable. a list, for instance.\n",
    "         # better to not cache than blow up.\n",
    "         return self.func(*args)\n",
    "      if args in self.cache:\n",
    "         return self.cache[args]\n",
    "      else:\n",
    "         value = self.func(*args)\n",
    "         self.cache[args] = value\n",
    "         return value\n",
    "    \n",
    "   def __repr__(self):\n",
    "      '''Return the function's docstring.'''\n",
    "      return self.func.__doc__\n",
    "\n",
    "   def __get__(self, obj, objtype):\n",
    "      '''Support instance methods.'''\n",
    "      return functools.partial(self.__call__, obj)\n",
    "\n",
    "@memoized\n",
    "def fibonaccim(n):\n",
    "   \"Return the nth fibonacci number.\"\n",
    "   print('in fib', n)\n",
    "   if n in (0, 1):\n",
    "      return n\n",
    "   return fibonaccim(n-1) + fibonaccim(n-2)\n",
    "\n",
    "# now no redundant calls\n",
    "fibonaccim(8)"
   ]
  },
  {
   "cell_type": "code",
   "execution_count": 10,
   "metadata": {
    "collapsed": false
   },
   "outputs": [
    {
     "name": "stdout",
     "output_type": "stream",
     "text": [
      "in fib 8\n",
      "in fib 7\n",
      "in fib 6\n",
      "in fib 5\n",
      "in fib 4\n",
      "in fib 3\n",
      "in fib 2\n",
      "in fib 1\n",
      "in fib 0\n"
     ]
    },
    {
     "data": {
      "text/plain": [
       "21"
      ]
     },
     "execution_count": 10,
     "metadata": {},
     "output_type": "execute_result"
    }
   ],
   "source": [
    "# functools has a better memo decorator\n",
    "\n",
    "import functools\n",
    "\n",
    "# maxsize=an int will limit the size of the cache\n",
    "\n",
    "@functools.lru_cache(maxsize=None)\n",
    "def fiblru(n):\n",
    "   \"Return the nth fibonacci number.\"\n",
    "   print('in fib', n)\n",
    "   if n in (0, 1):\n",
    "      return n\n",
    "   return fiblru(n-1) + fiblru(n-2)\n",
    "\n",
    "fiblru(8)\n"
   ]
  },
  {
   "cell_type": "code",
   "execution_count": 11,
   "metadata": {
    "collapsed": false
   },
   "outputs": [
    {
     "data": {
      "text/plain": [
       "21"
      ]
     },
     "execution_count": 11,
     "metadata": {},
     "output_type": "execute_result"
    }
   ],
   "source": [
    "fiblru(8)"
   ]
  },
  {
   "cell_type": "code",
   "execution_count": 12,
   "metadata": {
    "collapsed": false
   },
   "outputs": [
    {
     "data": {
      "text/plain": [
       "CacheInfo(hits=7, misses=9, maxsize=None, currsize=9)"
      ]
     },
     "execution_count": 12,
     "metadata": {},
     "output_type": "execute_result"
    }
   ],
   "source": [
    "# info about the cache\n",
    "\n",
    "fiblru.cache_info()"
   ]
  },
  {
   "cell_type": "code",
   "execution_count": 13,
   "metadata": {
    "collapsed": true
   },
   "outputs": [],
   "source": [
    "# can clear the cache\n",
    "\n",
    "fiblru.cache_clear()"
   ]
  },
  {
   "cell_type": "code",
   "execution_count": null,
   "metadata": {
    "collapsed": false
   },
   "outputs": [],
   "source": [
    "fiblru.cache_info()"
   ]
  },
  {
   "cell_type": "markdown",
   "metadata": {},
   "source": [
    "# [Standard Library of Decorators](https://wiki.python.org/moin/PythonDecoratorLibrary)\n",
    "- some useful things"
   ]
  }
 ],
 "metadata": {
  "anaconda-cloud": {},
  "kernelspec": {
   "display_name": "Python [Root]",
   "language": "python",
   "name": "Python [Root]"
  },
  "language_info": {
   "codemirror_mode": {
    "name": "ipython",
    "version": 3
   },
   "file_extension": ".py",
   "mimetype": "text/x-python",
   "name": "python",
   "nbconvert_exporter": "python",
   "pygments_lexer": "ipython3",
   "version": "3.5.2"
  }
 },
 "nbformat": 4,
 "nbformat_minor": 0
}
