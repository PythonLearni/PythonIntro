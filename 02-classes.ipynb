{
 "cells": [
  {
   "cell_type": "markdown",
   "metadata": {},
   "source": [
    "# Class\n",
    "- classes define \"templates or blueprints\" for building objects\n",
    "- once a class is defined, any number of objects can be \"constructed\", or \"instantiated\"\n",
    "- everything in Python is an 'object'\n",
    "    - not true in Java/C++\n",
    "- all python objects 'live' in the 'heap', kind of like library books live in shelves \n",
    "- each object has a fixed 'type', which can be accessed via the 'type' function\n",
    "- classes have 'methods', which are like functions, but they can access and modify the internal 'state' of the object\n",
    "- class methods are invoked by functions, operators, and the \".\" syntax. examples below in 'List'"
   ]
  },
  {
   "cell_type": "markdown",
   "metadata": {},
   "source": [
    "# Numbers\n",
    "- int - arbitrary precision\n",
    "- float - 64 bits\n",
    "- complex\n"
   ]
  },
  {
   "cell_type": "code",
   "execution_count": null,
   "metadata": {
    "collapsed": false
   },
   "outputs": [],
   "source": [
    "# numbers evaluate to themselves\n",
    "\n",
    "1234 # anything after a '#\" is a comment and ignored by Python"
   ]
  },
  {
   "cell_type": "code",
   "execution_count": null,
   "metadata": {
    "collapsed": false
   },
   "outputs": [],
   "source": [
    "# Python has the usual arithmetic operators\n",
    "\n",
    "3*4 - 2**3"
   ]
  },
  {
   "cell_type": "code",
   "execution_count": null,
   "metadata": {
    "collapsed": false
   },
   "outputs": [],
   "source": [
    "# a float \"contaminates\" an expression and \n",
    "# makes it a float\n",
    "\n",
    "3*4 - 2**3.2"
   ]
  },
  {
   "cell_type": "code",
   "execution_count": null,
   "metadata": {
    "collapsed": false
   },
   "outputs": [],
   "source": [
    "# arbitrary precision integers\n",
    "# integer size limited only by available memory\n",
    "\n",
    "2**200"
   ]
  },
  {
   "cell_type": "code",
   "execution_count": null,
   "metadata": {
    "collapsed": false
   },
   "outputs": [],
   "source": [
    "# 'type' returns the type or class name of an object\n",
    "\n",
    "type(2**100)"
   ]
  },
  {
   "cell_type": "code",
   "execution_count": null,
   "metadata": {
    "collapsed": false
   },
   "outputs": [],
   "source": [
    "# integer division operators - slightly different from most languages\n",
    "\n",
    "# in most languages this would int 2, but in Python, it is a float\n",
    "print(5/2)\n",
    "\n",
    "# // is integer divide\n",
    "print(5//2)\n",
    "\n",
    "# mod or remainder\n",
    "print(5%2)"
   ]
  },
  {
   "cell_type": "code",
   "execution_count": null,
   "metadata": {
    "collapsed": false
   },
   "outputs": [],
   "source": [
    "# XeY is X*10^Y\n",
    "\n",
    "print(3e3)\n",
    "print(2.3 * 3e3)"
   ]
  },
  {
   "cell_type": "code",
   "execution_count": null,
   "metadata": {
    "collapsed": false
   },
   "outputs": [],
   "source": [
    "# complex numbers \n",
    "# a complex number times its conjagate is real \n",
    "# j is the square root of -1\n",
    "# type name is 'complex'\n",
    "\n",
    "[(3+4j)*(3-4j), type(3+4j)]"
   ]
  },
  {
   "cell_type": "code",
   "execution_count": null,
   "metadata": {
    "collapsed": false
   },
   "outputs": [],
   "source": [
    "# int function tries to convert arg to an int\n",
    "\n",
    "int('2345')"
   ]
  },
  {
   "cell_type": "code",
   "execution_count": null,
   "metadata": {
    "collapsed": false
   },
   "outputs": [],
   "source": [
    "int(3.45)"
   ]
  },
  {
   "cell_type": "code",
   "execution_count": null,
   "metadata": {
    "collapsed": false
   },
   "outputs": [],
   "source": [
    "# likewise for float\n",
    "\n",
    "float('3.45')"
   ]
  },
  {
   "cell_type": "code",
   "execution_count": null,
   "metadata": {
    "collapsed": false
   },
   "outputs": [],
   "source": [
    "float(3)"
   ]
  },
  {
   "cell_type": "markdown",
   "metadata": {},
   "source": [
    "# Object references and variables\n",
    "- variables hold 'references' to objects. \n",
    "- variables do not have or enforce any notion of type\n",
    "- a given object can have any number of references to it\n",
    "- when an object has no references to it, it becomes eligible for 'garbage collection'. the storage it uses is recycled\n",
    "- the user does not have to manage allocating and freeing memory, like Java, unlike C/C++\n",
    "- the 'is' operator is true if two references are to the same object"
   ]
  },
  {
   "cell_type": "code",
   "execution_count": null,
   "metadata": {
    "collapsed": false
   },
   "outputs": [],
   "source": [
    "x = 123456\n",
    "y = 123456\n",
    "z = y\n",
    "\n",
    "# are x & y references to the same object?\n",
    "# no - there are two different 123456 int objects\n",
    "\n",
    "x is y"
   ]
  },
  {
   "cell_type": "code",
   "execution_count": null,
   "metadata": {
    "collapsed": false
   },
   "outputs": [],
   "source": [
    "# are y & z references to the same object?\n",
    "\n",
    "y is z"
   ]
  },
  {
   "cell_type": "code",
   "execution_count": null,
   "metadata": {
    "collapsed": false
   },
   "outputs": [],
   "source": [
    "# y is z => y == z\n",
    "\n",
    "y == z"
   ]
  },
  {
   "cell_type": "code",
   "execution_count": null,
   "metadata": {
    "collapsed": false
   },
   "outputs": [],
   "source": [
    "# are x & y 'equivalent' in some sense?\n",
    "\n",
    "x == y"
   ]
  },
  {
   "cell_type": "markdown",
   "metadata": {},
   "source": [
    "# None\n",
    "- Like 'null' in other languages\n",
    "- Means failure or absence of a value\n",
    "- a singleton(there is only one 'None' object)\n",
    "- does not print at top level"
   ]
  },
  {
   "cell_type": "code",
   "execution_count": null,
   "metadata": {
    "collapsed": false
   },
   "outputs": [],
   "source": [
    "# no output\n",
    "\n",
    "None"
   ]
  },
  {
   "cell_type": "code",
   "execution_count": null,
   "metadata": {
    "collapsed": false
   },
   "outputs": [],
   "source": [
    "# explicit print will show it\n",
    "\n",
    "print(None)"
   ]
  },
  {
   "cell_type": "code",
   "execution_count": null,
   "metadata": {
    "collapsed": false
   },
   "outputs": [],
   "source": [
    "x = None\n",
    "y = None\n",
    "\n",
    "# None is a singleton\n",
    "print(x is y)\n",
    "print(x == y)\n"
   ]
  },
  {
   "cell_type": "markdown",
   "metadata": {},
   "source": [
    "# Boolean\n",
    "+ Objects: False, True(both singletons)\n",
    "+ Operators: 'not', 'and', 'or'\n",
    "- <.<=, etc\n",
    "- unlike many languages, &, &&, |, ||, ~, are not boolean operators"
   ]
  },
  {
   "cell_type": "code",
   "execution_count": null,
   "metadata": {
    "collapsed": false
   },
   "outputs": [],
   "source": [
    "not(True and (True or False))"
   ]
  },
  {
   "cell_type": "code",
   "execution_count": null,
   "metadata": {
    "collapsed": false
   },
   "outputs": [],
   "source": [
    "1234<=1234"
   ]
  },
  {
   "cell_type": "code",
   "execution_count": null,
   "metadata": {
    "collapsed": false
   },
   "outputs": [],
   "source": [
    "123<345"
   ]
  },
  {
   "cell_type": "markdown",
   "metadata": {},
   "source": [
    "# Immutable vs Mutable Objects\n",
    "- Immutable objects, once created, can never be modified\n",
    "- Mutable objects can be modified at any time"
   ]
  },
  {
   "cell_type": "markdown",
   "metadata": {},
   "source": [
    "# Functions\n",
    "- functions are \"first class\" objects in Python - they can be assigned as variables, passed as args\n",
    "- functions are immutable objects\n",
    "- by default, functions return 'None' - you must use 'return' to return a value\n",
    "- note the ':' at the end of the first line, and the indenting of the function body. this is how you define a 'statement block' in python\n",
    "- much more about functions later"
   ]
  },
  {
   "cell_type": "code",
   "execution_count": null,
   "metadata": {
    "collapsed": false
   },
   "outputs": [],
   "source": [
    "# returns 'None'\n",
    "\n",
    "def add2(x):\n",
    "    x + 2\n",
    "\n",
    "add2(4)"
   ]
  },
  {
   "cell_type": "code",
   "execution_count": null,
   "metadata": {
    "collapsed": false
   },
   "outputs": [],
   "source": [
    "# must use return\n",
    "\n",
    "def add2(x):\n",
    "    return x + 2\n",
    "\n",
    "add2(3)"
   ]
  },
  {
   "cell_type": "code",
   "execution_count": null,
   "metadata": {
    "collapsed": false
   },
   "outputs": [],
   "source": [
    "# can return multiple values by returning a list\n",
    "\n",
    "def addsub2(x):\n",
    "    return [x+2, x-2]\n",
    "\n",
    "addsub2(10)"
   ]
  },
  {
   "cell_type": "markdown",
   "metadata": {},
   "source": [
    "# Collection Types \n",
    "+ hold objects in various configurations\n",
    "+ several kinds are built into the language\n",
    "+ can write \"collection literals\"\n",
    "- very easy to use\n",
    "\n",
    "# List\n",
    "- the heart of Python\n",
    "- much of the \"art\" of Python is getting good at manipulating lists\n",
    "- a list holds a ordered sequence of objects\n",
    "- list objects do not have to be the same type\n",
    "- lists are zero origin - index of first element is 0\n",
    "- lists are mutable\n",
    "- some operations, like 'index' and 'count', have no 'side effects' - they don't modify the list\n",
    "- others, like reverse, do modify the list\n",
    "- methods that modify the list typically return 'None'\n",
    "- type name is 'list'"
   ]
  },
  {
   "cell_type": "code",
   "execution_count": null,
   "metadata": {
    "collapsed": false
   },
   "outputs": [],
   "source": [
    "# can make a list by just typing it in\n",
    "\n",
    "[1,2,3]"
   ]
  },
  {
   "cell_type": "code",
   "execution_count": null,
   "metadata": {
    "collapsed": false
   },
   "outputs": [],
   "source": [
    "type([2,3,4])"
   ]
  },
  {
   "cell_type": "code",
   "execution_count": null,
   "metadata": {
    "collapsed": false
   },
   "outputs": [],
   "source": [
    "# the 'range' form is often used to \n",
    "# specify a list of numbers,  \n",
    "# especially for iteration purposes\n",
    "# there are three forms\n",
    "# like numbers \n",
    "# range evaluates to itself\n",
    "# this is our first examples of \"lazy evaluation\"\n",
    "\n",
    "range(0, 10)"
   ]
  },
  {
   "cell_type": "code",
   "execution_count": null,
   "metadata": {
    "collapsed": false
   },
   "outputs": [],
   "source": [
    "# to see the corresponding list, use the list function\n",
    "# note range arguments are inclusive/exclusive - there's no 10 in the list\n",
    "\n",
    "list(range(0, 10))"
   ]
  },
  {
   "cell_type": "code",
   "execution_count": null,
   "metadata": {
    "collapsed": false
   },
   "outputs": [],
   "source": [
    "# same as above, assume 0 start\n",
    "\n",
    "list(range(10))"
   ]
  },
  {
   "cell_type": "code",
   "execution_count": null,
   "metadata": {
    "collapsed": false
   },
   "outputs": [],
   "source": [
    "# 3rd arg is increment\n",
    "\n",
    "list(range(0, 10, 2))"
   ]
  },
  {
   "cell_type": "code",
   "execution_count": null,
   "metadata": {
    "collapsed": false
   },
   "outputs": [],
   "source": [
    "# can go backwards too - note no 0 in list\n",
    "\n",
    "list(range(12, 0, -3))"
   ]
  },
  {
   "cell_type": "code",
   "execution_count": null,
   "metadata": {
    "collapsed": false
   },
   "outputs": [],
   "source": [
    "# 'len' forces evaluation, \n",
    "# and returns the length of a list\n",
    "\n",
    "len(range(12,0, -3))"
   ]
  },
  {
   "cell_type": "code",
   "execution_count": null,
   "metadata": {
    "collapsed": false
   },
   "outputs": [],
   "source": [
    "# order matters for lists\n",
    "\n",
    "[1,2,3] == [2,1,3]"
   ]
  },
  {
   "cell_type": "code",
   "execution_count": null,
   "metadata": {
    "collapsed": false
   },
   "outputs": [],
   "source": [
    "[2,1,3] == [2,1,3]"
   ]
  },
  {
   "cell_type": "code",
   "execution_count": null,
   "metadata": {
    "collapsed": false
   },
   "outputs": [],
   "source": [
    "# duplicates are ok in a list\n",
    "\n",
    "[1,1,2,3]"
   ]
  },
  {
   "cell_type": "code",
   "execution_count": null,
   "metadata": {
    "collapsed": false
   },
   "outputs": [],
   "source": [
    "# in languages like Java/C++ would have to select a \n",
    "# 'collection' type, instantiate it, and somehow\n",
    "# 'stuff' the values in. \n",
    "\n",
    "# in python, can just directly \"write\" a list\n",
    "# the list can have any mix of types\n",
    "# assigment does not print the right hand side value\n",
    "\n",
    "x = [0, 111.111, \"zap\", True, None]\n",
    "y = x"
   ]
  },
  {
   "cell_type": "code",
   "execution_count": null,
   "metadata": {
    "collapsed": false
   },
   "outputs": [],
   "source": [
    "# variable by itself prints its value\n",
    "\n",
    "x"
   ]
  },
  {
   "cell_type": "code",
   "execution_count": null,
   "metadata": {
    "collapsed": false
   },
   "outputs": [],
   "source": [
    "# len returns the length of a list\n",
    "\n",
    "len(x)"
   ]
  },
  {
   "cell_type": "code",
   "execution_count": null,
   "metadata": {
    "collapsed": false
   },
   "outputs": [],
   "source": [
    "# 'count' returns a value, does not modify the list\n",
    "# count the number of 'True's\n",
    "# here the 'dot syntax' is used to invoke \n",
    "# the list 'count method' \n",
    "\n",
    "x.count(True)"
   ]
  },
  {
   "cell_type": "code",
   "execution_count": null,
   "metadata": {
    "collapsed": true
   },
   "outputs": [],
   "source": [
    "# reverse returns None - a hint that it modifies the list\n",
    "# the 'reverse method' on the list class is invoked\n",
    "\n",
    "x.reverse()"
   ]
  },
  {
   "cell_type": "code",
   "execution_count": null,
   "metadata": {
    "collapsed": false
   },
   "outputs": [],
   "source": [
    "x"
   ]
  },
  {
   "cell_type": "code",
   "execution_count": null,
   "metadata": {
    "collapsed": false
   },
   "outputs": [],
   "source": [
    "# what happened to y?\n",
    "# we didn't explicitly do anything to y, but\n",
    "# since y references the same object as x,\n",
    "# it 'sees' the reverse that x.reverse() did\n",
    "\n",
    "y"
   ]
  },
  {
   "cell_type": "code",
   "execution_count": null,
   "metadata": {
    "collapsed": false
   },
   "outputs": [],
   "source": [
    "# common mistake \n",
    "# reverse does NOT return the reversed list\n",
    "# if you do this, you just lost your list\n",
    "\n",
    "z = [1,2,3,4,5,6]\n",
    "z = z.reverse()\n",
    "print(z)"
   ]
  },
  {
   "cell_type": "code",
   "execution_count": null,
   "metadata": {
    "collapsed": false
   },
   "outputs": [],
   "source": [
    "# Another mistake \n",
    "# leaving off the '()' just \n",
    "# returns the function object\n",
    "# the function does NOT run\n",
    "\n",
    "z = [1,2,3,4,5,6]\n",
    "z.reverse"
   ]
  },
  {
   "cell_type": "code",
   "execution_count": null,
   "metadata": {
    "collapsed": false
   },
   "outputs": [],
   "source": [
    "# so no change to z\n",
    "\n",
    "z"
   ]
  },
  {
   "cell_type": "code",
   "execution_count": null,
   "metadata": {
    "collapsed": false
   },
   "outputs": [],
   "source": [
    "x"
   ]
  },
  {
   "cell_type": "code",
   "execution_count": null,
   "metadata": {
    "collapsed": false
   },
   "outputs": [],
   "source": [
    "# Python has very convenient techniques for accessing \n",
    "# and modifying list elements \n",
    "# can index into the list like an array, \n",
    "# and retrieve one element\n",
    "\n",
    "x[2]"
   ]
  },
  {
   "cell_type": "code",
   "execution_count": null,
   "metadata": {
    "collapsed": false
   },
   "outputs": [],
   "source": [
    "# negative index starts from the last list element\n",
    "\n",
    "x[-1]"
   ]
  },
  {
   "cell_type": "code",
   "execution_count": null,
   "metadata": {
    "collapsed": false
   },
   "outputs": [],
   "source": [
    "# can take a subsequences (slice) of the list\n",
    "# like range, inclusive/exclusive\n",
    "# slices always COPY the original list\n",
    "\n",
    "x[0:2]"
   ]
  },
  {
   "cell_type": "code",
   "execution_count": null,
   "metadata": {
    "collapsed": false
   },
   "outputs": [],
   "source": [
    "# missing second index means continue slice to the end of the list\n",
    "\n",
    "x[3:]"
   ]
  },
  {
   "cell_type": "code",
   "execution_count": null,
   "metadata": {
    "collapsed": false
   },
   "outputs": [],
   "source": [
    "# missing first index means start slice at begining  of the list\n",
    "\n",
    "x[:2]"
   ]
  },
  {
   "cell_type": "code",
   "execution_count": null,
   "metadata": {
    "collapsed": false
   },
   "outputs": [],
   "source": [
    "# can add a index increment to a slice\n",
    "\n",
    "x[0:8:2]"
   ]
  },
  {
   "cell_type": "code",
   "execution_count": null,
   "metadata": {
    "collapsed": false
   },
   "outputs": [],
   "source": [
    "# index missing on both sides of \":\" - slice \n",
    "# is the whole list. \n",
    "# common python shorthand for copying\n",
    "# an entire list\n",
    "\n",
    "x2 = x[:]\n",
    "\n",
    "# reverse modifies x2, but x will not be changed, because\n",
    "# x and x2 are referencing different objects\n",
    "# reverse() returns 'None'\n",
    "\n",
    "print(x2)\n",
    "print(x2.reverse())\n",
    "print(x2)\n",
    "print(x)"
   ]
  },
  {
   "cell_type": "code",
   "execution_count": null,
   "metadata": {
    "collapsed": false
   },
   "outputs": [],
   "source": [
    "# can set list elements\n",
    "\n",
    "x[0] = -1\n",
    "x"
   ]
  },
  {
   "cell_type": "code",
   "execution_count": null,
   "metadata": {
    "collapsed": false
   },
   "outputs": [],
   "source": [
    "# can set slices\n",
    "\n",
    "x[3:5] = [2**8, False]\n",
    "x"
   ]
  },
  {
   "cell_type": "code",
   "execution_count": null,
   "metadata": {
    "collapsed": false
   },
   "outputs": [],
   "source": [
    "#  'in' operator - is an element in the list somewhere?\n",
    "# uses == to test\n",
    "\n",
    "['zap' in x, 55 in x]"
   ]
  },
  {
   "cell_type": "code",
   "execution_count": null,
   "metadata": {
    "collapsed": false
   },
   "outputs": [],
   "source": [
    "# where is the element?\n",
    "# 'index' is a 'method' on the list class\n",
    "\n",
    "x.index('zap')"
   ]
  },
  {
   "cell_type": "code",
   "execution_count": null,
   "metadata": {
    "collapsed": false
   },
   "outputs": [],
   "source": [
    "# index throws an error if it doesn't find anything\n",
    "\n",
    "x.index(\"not in there\")"
   ]
  },
  {
   "cell_type": "code",
   "execution_count": null,
   "metadata": {
    "collapsed": false
   },
   "outputs": [],
   "source": [
    "# + concatenates lists\n",
    "# note: what '+' actually does depends on the type of its arguments\n",
    "\n",
    "x = list(range(5))\n",
    "x + x"
   ]
  },
  {
   "cell_type": "code",
   "execution_count": null,
   "metadata": {
    "collapsed": false
   },
   "outputs": [],
   "source": [
    "x"
   ]
  },
  {
   "cell_type": "code",
   "execution_count": null,
   "metadata": {
    "collapsed": false
   },
   "outputs": [],
   "source": [
    "# add one element at the end\n",
    "\n",
    "x.append([22,33])\n",
    "x"
   ]
  },
  {
   "cell_type": "code",
   "execution_count": null,
   "metadata": {
    "collapsed": false
   },
   "outputs": [],
   "source": [
    "# add N elements at the end\n",
    "\n",
    "x.extend([55,66])\n",
    "x"
   ]
  },
  {
   "cell_type": "code",
   "execution_count": null,
   "metadata": {
    "collapsed": false
   },
   "outputs": [],
   "source": [
    "# add one element anywhere\n",
    "\n",
    "x.insert(2, 5)\n",
    "x"
   ]
  },
  {
   "cell_type": "code",
   "execution_count": null,
   "metadata": {
    "collapsed": false
   },
   "outputs": [],
   "source": [
    "# pop method removes and returns a \n",
    "# list element, by default the last element\n",
    "\n",
    "print(x.pop())\n",
    "print(x)\n",
    "\n",
    "# but can specify which element to pop\n",
    "\n",
    "print(x.pop(3))\n",
    "print(x)"
   ]
  },
  {
   "cell_type": "code",
   "execution_count": null,
   "metadata": {
    "collapsed": false
   },
   "outputs": [],
   "source": [
    "# remove first 5 found\n",
    "\n",
    "x.remove(5)\n",
    "print(x)"
   ]
  },
  {
   "cell_type": "code",
   "execution_count": null,
   "metadata": {
    "collapsed": false
   },
   "outputs": [],
   "source": [
    "# sort modifies the list\n",
    "\n",
    "x = [34,3,5,22]\n",
    "x.sort()\n",
    "x"
   ]
  },
  {
   "cell_type": "code",
   "execution_count": null,
   "metadata": {
    "collapsed": false
   },
   "outputs": [],
   "source": [
    "# can preserve original list by using 'sorted'\n",
    "# sorted makes a copy of the input list\n",
    "\n",
    "x = [34,3,5,22]\n",
    "y = sorted(x)\n",
    "[x, y]"
   ]
  },
  {
   "cell_type": "code",
   "execution_count": null,
   "metadata": {
    "collapsed": false
   },
   "outputs": [],
   "source": [
    "# dir shows the methods defined on a class\n",
    "# __XYZ__ are \"special\" methods - ignore them for now\n",
    "\n",
    "dir(list)"
   ]
  },
  {
   "cell_type": "markdown",
   "metadata": {},
   "source": [
    "# Iterating over Lists\n",
    "- Many ways to iterate, we'll look at the\n",
    "two important here, 'for' and 'list comprehensions'\n",
    "- python does NOT have Java/C style for loops, like:\n",
    "\n",
    "\n",
    "for(int j = 0; j<5; j++)\n",
    "{\n",
    "}"
   ]
  },
  {
   "cell_type": "markdown",
   "metadata": {},
   "source": [
    "# for loop\n",
    "- python version of Java/C loop above\n",
    "- note trailing ':', and indented print statements - defines a statement block\n",
    "- python uses idents and ':' to define blocks, unlike C/Java, which uses '{}'"
   ]
  },
  {
   "cell_type": "code",
   "execution_count": null,
   "metadata": {
    "collapsed": false
   },
   "outputs": [],
   "source": [
    "for j in range(5):\n",
    "    print(j)\n",
    "    print(j+10)\n",
    "print('loop finished')"
   ]
  },
  {
   "cell_type": "code",
   "execution_count": null,
   "metadata": {
    "collapsed": false
   },
   "outputs": [],
   "source": [
    "# to sum up a list of numbers\n",
    "# use zn 'acculumation variable'\n",
    "\n",
    "sum = 0\n",
    "\n",
    "for j in range(5):\n",
    "    sum += j\n",
    "\n",
    "sum"
   ]
  },
  {
   "cell_type": "code",
   "execution_count": null,
   "metadata": {
    "collapsed": false
   },
   "outputs": [],
   "source": [
    "# add 10 to every element of a list\n",
    "# use list acculumation variable\n",
    "\n",
    "a10 = []\n",
    "\n",
    "for j in range(5):\n",
    "    a10.append(10+j)\n",
    "\n",
    "a10"
   ]
  },
  {
   "cell_type": "markdown",
   "metadata": {},
   "source": [
    "# list comprehension\n",
    "- above technique is not conidered 'pythonic'\n",
    "- syntax of LC is a little odd\n",
    "- no accum var needed"
   ]
  },
  {
   "cell_type": "code",
   "execution_count": null,
   "metadata": {
    "collapsed": false
   },
   "outputs": [],
   "source": [
    "# add 10 again\n",
    "\n",
    "[j+10 for j in range(5)]"
   ]
  },
  {
   "cell_type": "code",
   "execution_count": null,
   "metadata": {
    "collapsed": false
   },
   "outputs": [],
   "source": [
    "# add 10 to the even ints\n",
    "\n",
    "[j+10 for j in range(5) if j % 2 == 0]"
   ]
  },
  {
   "cell_type": "markdown",
   "metadata": {},
   "source": [
    "# Tuples\n",
    "+ like lists, but immutable - can't be modified after creation\n",
    "- unlike a list, you can use a tuple as a dictionary key\n",
    "- useful for functional programming\n",
    "- 'tuple' is the type name"
   ]
  },
  {
   "cell_type": "code",
   "execution_count": null,
   "metadata": {
    "collapsed": false
   },
   "outputs": [],
   "source": [
    "# len returns length of top level elements\n",
    "\n",
    "t = (1,[5,6],4)\n",
    "[t , len(t), type(t)]"
   ]
  },
  {
   "cell_type": "code",
   "execution_count": null,
   "metadata": {
    "collapsed": false
   },
   "outputs": [],
   "source": [
    "len(t)"
   ]
  },
  {
   "cell_type": "code",
   "execution_count": null,
   "metadata": {
    "collapsed": false
   },
   "outputs": [],
   "source": [
    "# can retrieve\n",
    "\n",
    "t[0]"
   ]
  },
  {
   "cell_type": "code",
   "execution_count": null,
   "metadata": {
    "collapsed": false
   },
   "outputs": [],
   "source": [
    "# but can't modify\n",
    "\n",
    "t[0] = 3"
   ]
  },
  {
   "cell_type": "code",
   "execution_count": null,
   "metadata": {
    "collapsed": false
   },
   "outputs": [],
   "source": [
    "t"
   ]
  },
  {
   "cell_type": "code",
   "execution_count": null,
   "metadata": {
    "collapsed": false
   },
   "outputs": [],
   "source": [
    "# but - things tuple holds are not made immutable\n",
    "\n",
    "t[1][0] = 45\n",
    "t"
   ]
  },
  {
   "cell_type": "code",
   "execution_count": null,
   "metadata": {
    "collapsed": false
   },
   "outputs": [],
   "source": [
    "# Tuples loop like Lists\n",
    "\n",
    "for x in (1,2,3):\n",
    "    print(x)"
   ]
  },
  {
   "cell_type": "markdown",
   "metadata": {},
   "source": [
    "# Strings\n",
    "+ immutable - once created, cannot be modified\n",
    "- in 3.X, strings are unicode\n",
    "+ many useful methods\n",
    "+ the 're' module provides regular expression pattern matching\n",
    "+ three types of string literals 'foo', \"foo\", and '''foo'''\n",
    "+ triple quotes can include multiple lines\n",
    "- unlike other languages, there is no 'character' type\n",
    "- a 'character' is just a length 1 string\n",
    "- 'str' is the type name"
   ]
  },
  {
   "cell_type": "code",
   "execution_count": null,
   "metadata": {
    "collapsed": false
   },
   "outputs": [],
   "source": [
    "# len returns number of characters\n",
    "\n",
    "['foobar', 'foo\"bar', type('foobar'), len('foobar')]"
   ]
  },
  {
   "cell_type": "code",
   "execution_count": null,
   "metadata": {
    "collapsed": false
   },
   "outputs": [],
   "source": [
    "# various ways to embed quotes\n",
    "\n",
    "['foo\"bar', \"foo'bar\", 'foo\\'bar']"
   ]
  },
  {
   "cell_type": "code",
   "execution_count": null,
   "metadata": {
    "collapsed": false
   },
   "outputs": [],
   "source": [
    "# use triple quotes to define multi-line strings\n",
    "\n",
    "'''\n",
    "foo'\n",
    "bar\"\n",
    "'''"
   ]
  },
  {
   "cell_type": "code",
   "execution_count": null,
   "metadata": {
    "collapsed": true
   },
   "outputs": [],
   "source": [
    "s = 'FooBar'"
   ]
  },
  {
   "cell_type": "code",
   "execution_count": null,
   "metadata": {
    "collapsed": false
   },
   "outputs": [],
   "source": [
    "# string methods that return a string always return a NEW string. \n",
    "# the original string is NEVER modified\n",
    "\n",
    "ls = [s.lower(), s.upper(), s.replace('o','X'), s.swapcase()]\n",
    "ls"
   ]
  },
  {
   "cell_type": "code",
   "execution_count": null,
   "metadata": {
    "collapsed": false
   },
   "outputs": [],
   "source": [
    "s"
   ]
  },
  {
   "cell_type": "code",
   "execution_count": null,
   "metadata": {
    "collapsed": false
   },
   "outputs": [],
   "source": [
    "# join is a very handy method\n",
    "\n",
    "[','.join(ls), '|'.join(ls), '---'.join(ls)]"
   ]
  },
  {
   "cell_type": "code",
   "execution_count": null,
   "metadata": {
    "collapsed": false
   },
   "outputs": [],
   "source": [
    "# the inverse, split, creates a list of tokens\n",
    "\n",
    "s = \"foo,bar,34,zap\"\n",
    "s.split(\",\")"
   ]
  },
  {
   "cell_type": "code",
   "execution_count": null,
   "metadata": {
    "collapsed": false
   },
   "outputs": [],
   "source": [
    "# strip can remove chars at the begining(left) and/or end(right) of a string\n",
    "# Note middle 'X' is not removed\n",
    "# Most commonly used to remove new lines from a string\n",
    "\n",
    "s = 'XXfooXbarXXX'\n",
    "[s.strip('X'), s.lstrip('X'), s.rstrip('X')]"
   ]
  },
  {
   "cell_type": "code",
   "execution_count": null,
   "metadata": {
    "collapsed": false
   },
   "outputs": [],
   "source": [
    "# '+' concatenates strings as well as lists\n",
    "# the operation '+' performs depends on the type of the arguments\n",
    "\n",
    "s + s"
   ]
  },
  {
   "cell_type": "code",
   "execution_count": null,
   "metadata": {
    "collapsed": false
   },
   "outputs": [],
   "source": [
    "# can repeat strings\n",
    "\n",
    "[2*\"abc\", \"xyz\"*4]"
   ]
  },
  {
   "cell_type": "code",
   "execution_count": null,
   "metadata": {
    "collapsed": false
   },
   "outputs": [],
   "source": [
    "# 'in' looks for substrings\n",
    "# case sensitive compares\n",
    "\n",
    "s = 'zappa'\n",
    "['pa' in s, 'Za' in s, s.count('p'), s.count('ap')]"
   ]
  },
  {
   "cell_type": "code",
   "execution_count": null,
   "metadata": {
    "collapsed": false
   },
   "outputs": [],
   "source": [
    "# search for a substring with 'find' or 'index'\n",
    "\n",
    "[s.find('pa'), s.index('pa')]"
   ]
  },
  {
   "cell_type": "code",
   "execution_count": null,
   "metadata": {
    "collapsed": false
   },
   "outputs": [],
   "source": [
    "# on a miss, 'find' returns -1\n",
    "\n",
    "s.find('32')"
   ]
  },
  {
   "cell_type": "code",
   "execution_count": null,
   "metadata": {
    "collapsed": false
   },
   "outputs": [],
   "source": [
    "# but index throws an error\n",
    "s.index('32')"
   ]
  },
  {
   "cell_type": "code",
   "execution_count": null,
   "metadata": {
    "collapsed": false
   },
   "outputs": [],
   "source": [
    "# 'ord' and 'chr' do character-number conversions\n",
    "\n",
    "[ord('A'), chr(65)]"
   ]
  },
  {
   "cell_type": "code",
   "execution_count": null,
   "metadata": {
    "collapsed": false
   },
   "outputs": [],
   "source": [
    "# make the lower case chars, a-z\n",
    "# somewhat terse one liner - \n",
    "# in Python you can do alot with a little code, \n",
    "# but can be hard to read\n",
    "\n",
    "lc= ''.join([chr(c) for c in range(ord('a'), ord('z')+1)])\n",
    "lc"
   ]
  },
  {
   "cell_type": "code",
   "execution_count": null,
   "metadata": {
    "collapsed": false
   },
   "outputs": [],
   "source": [
    "# let's break it into separate steps:\n",
    "# get the ascii codes for 'a' and 'z'\n",
    "\n",
    "a = ord('a')\n",
    "z = ord('z')\n",
    "[a,z]"
   ]
  },
  {
   "cell_type": "code",
   "execution_count": null,
   "metadata": {
    "collapsed": false
   },
   "outputs": [],
   "source": [
    "# now we have all the codes for 'a' to 'z'\n",
    "# note the z+1 - need the +1 to get the z code\n",
    "\n",
    "codes = [c for c in range(a,z+1)]\n",
    "print(codes)"
   ]
  },
  {
   "cell_type": "code",
   "execution_count": null,
   "metadata": {
    "collapsed": false
   },
   "outputs": [],
   "source": [
    "# now we have a list of the lower case characters\n",
    "\n",
    "chars = [chr(c) for c in codes]\n",
    "print(chars)"
   ]
  },
  {
   "cell_type": "code",
   "execution_count": null,
   "metadata": {
    "collapsed": false
   },
   "outputs": [],
   "source": [
    "# last step - using the 'join' method on string, \n",
    "# merge the chars into one string\n",
    "\n",
    "''.join(chars)"
   ]
  },
  {
   "cell_type": "code",
   "execution_count": null,
   "metadata": {
    "collapsed": false
   },
   "outputs": [],
   "source": [
    "# can slice strings too\n",
    "\n",
    "[len(lc), lc[10:20], lc[10:20:2], lc[10:11]]"
   ]
  },
  {
   "cell_type": "code",
   "execution_count": null,
   "metadata": {
    "collapsed": false
   },
   "outputs": [],
   "source": [
    "# unlike a list, a string is immutable - you can't change anything\n",
    "\n",
    "s = 'foobar'\n",
    "s[0] = 't'"
   ]
  },
  {
   "cell_type": "code",
   "execution_count": null,
   "metadata": {
    "collapsed": false
   },
   "outputs": [],
   "source": [
    "# unlike list objects, string objects don't have a reverse method\n",
    "# but you can reverse with a slice\n",
    "# works with lists as well\n",
    "\n",
    "s = '1234'\n",
    "z = [1,2,3,4]\n",
    "[s[::-1], z[::-1]]"
   ]
  },
  {
   "cell_type": "code",
   "execution_count": null,
   "metadata": {
    "collapsed": false
   },
   "outputs": [],
   "source": [
    "# startswith, endwith string methods are sometimes \n",
    "# convenient alternatives to regular expressions\n",
    "\n",
    "a = \"foo.txt\"\n",
    "\n",
    "[a.startswith('foo'), a.endswith('txt'), a.endswith('txt2')]"
   ]
  },
  {
   "cell_type": "code",
   "execution_count": null,
   "metadata": {
    "collapsed": false
   },
   "outputs": [],
   "source": [
    "# 'str' converts objects to strings\n",
    "\n",
    "[str(234), str(3.34), str([1,2,3])]"
   ]
  },
  {
   "cell_type": "code",
   "execution_count": null,
   "metadata": {
    "collapsed": false
   },
   "outputs": [],
   "source": [
    "# 'list' converts a string into a list of \n",
    "# characters(length one strings)\n",
    "\n",
    "list('foobar')"
   ]
  },
  {
   "cell_type": "markdown",
   "metadata": {},
   "source": [
    "# 'printf' style string formatting - old way\n",
    "    - still works, but deprecated"
   ]
  },
  {
   "cell_type": "code",
   "execution_count": null,
   "metadata": {
    "collapsed": false
   },
   "outputs": [],
   "source": [
    "'int %d float %f string %s' % (3, 5.5, 'printf')"
   ]
  },
  {
   "cell_type": "markdown",
   "metadata": {},
   "source": [
    "# 'printf' style string formatting - new way\n",
    "- preferred method\n",
    "- looks at the type of the arg, so don't have to specify type in control string\n",
    "- [details](https://docs.python.org/3.5/library/string.html#custom-string-formatting)"
   ]
  },
  {
   "cell_type": "code",
   "execution_count": null,
   "metadata": {
    "collapsed": false
   },
   "outputs": [],
   "source": [
    "'int {} float {} string {}'.format(3, 5.5, 'printf')"
   ]
  },
  {
   "cell_type": "code",
   "execution_count": null,
   "metadata": {
    "collapsed": false
   },
   "outputs": [],
   "source": [
    "dir(str)"
   ]
  },
  {
   "cell_type": "markdown",
   "metadata": {},
   "source": [
    "# Dictionary\n",
    "+ links or maps objects in key/value pairs\n",
    "+ also known as maps, associations, hash tables\n",
    "+ built into the language\n",
    "- another python workhorse\n",
    "- type name is 'dict'"
   ]
  },
  {
   "cell_type": "code",
   "execution_count": null,
   "metadata": {
    "collapsed": false
   },
   "outputs": [],
   "source": [
    "#  two ways to make a empty dictionary \n",
    "\n",
    "[{}, dict(), type({})]"
   ]
  },
  {
   "cell_type": "code",
   "execution_count": null,
   "metadata": {
    "collapsed": true
   },
   "outputs": [],
   "source": [
    "# dictionaries are written with curly '{}' brackets, and\n",
    "# key:value elements\n",
    "\n",
    "d = {'school':'columbia', 'class':'python', 'size':44}"
   ]
  },
  {
   "cell_type": "code",
   "execution_count": null,
   "metadata": {
    "collapsed": false
   },
   "outputs": [],
   "source": [
    "# len returns number of key/value pairs\n",
    "\n",
    "len(d)"
   ]
  },
  {
   "cell_type": "code",
   "execution_count": null,
   "metadata": {
    "collapsed": false
   },
   "outputs": [],
   "source": [
    "d['school']"
   ]
  },
  {
   "cell_type": "code",
   "execution_count": null,
   "metadata": {
    "collapsed": false
   },
   "outputs": [],
   "source": [
    "# add a key/value\n",
    "\n",
    "d['dept'] = 'comp sci'\n",
    "d"
   ]
  },
  {
   "cell_type": "code",
   "execution_count": null,
   "metadata": {
    "collapsed": false
   },
   "outputs": [],
   "source": [
    "# if you ask for a key that doesn't exist, \n",
    "# you'll get an error\n",
    "\n",
    "d['state']"
   ]
  },
  {
   "cell_type": "code",
   "execution_count": null,
   "metadata": {
    "collapsed": false
   },
   "outputs": [],
   "source": [
    "# you can check for a key w/o an error\n",
    "# by using 'in'\n",
    "\n",
    "['dept' in d, 'state' in d]"
   ]
  },
  {
   "cell_type": "code",
   "execution_count": null,
   "metadata": {
    "collapsed": false
   },
   "outputs": [],
   "source": [
    "# keys come back in an unpredictable order\n",
    "\n",
    "d.keys()"
   ]
  },
  {
   "cell_type": "code",
   "execution_count": null,
   "metadata": {
    "collapsed": false
   },
   "outputs": [],
   "source": [
    "# can sort keys \n",
    "\n",
    "sorted(d.keys())"
   ]
  },
  {
   "cell_type": "code",
   "execution_count": null,
   "metadata": {
    "collapsed": false
   },
   "outputs": [],
   "source": [
    "# list of values\n",
    "\n",
    "d.values()"
   ]
  },
  {
   "cell_type": "code",
   "execution_count": null,
   "metadata": {
    "collapsed": false
   },
   "outputs": [],
   "source": [
    "# list of (k,v) tuples\n",
    "\n",
    "d.items()"
   ]
  },
  {
   "cell_type": "code",
   "execution_count": null,
   "metadata": {
    "collapsed": false
   },
   "outputs": [],
   "source": [
    "# any object can be a value, but only immutable \n",
    "# objects can serve as keys\n",
    "# so, a list can't be a key\n",
    "\n",
    "d = dict()\n",
    "d[[1,2,3]] = \"val\""
   ]
  },
  {
   "cell_type": "code",
   "execution_count": null,
   "metadata": {
    "collapsed": true
   },
   "outputs": [],
   "source": [
    "# but a tuple can be a key\n",
    "\n",
    "d = dict()\n",
    "d[(1,2,3)] = \"val\""
   ]
  },
  {
   "cell_type": "code",
   "execution_count": null,
   "metadata": {
    "collapsed": false
   },
   "outputs": [],
   "source": [
    "dir(dict)"
   ]
  },
  {
   "cell_type": "markdown",
   "metadata": {
    "collapsed": true
   },
   "source": [
    "# Sets\n",
    "- no ordering, duplicates not allowed\n",
    "- written with items inside '{}' \n",
    "    - unlike dictionaries, no ':'\n",
    "- type name is 'set'"
   ]
  },
  {
   "cell_type": "code",
   "execution_count": null,
   "metadata": {
    "collapsed": false
   },
   "outputs": [],
   "source": [
    "# 'set' expanded range\n",
    "# 'len' returns the number of elements in the set\n",
    "\n",
    "s1 = set(range(4,10))\n",
    "s2 = set(range(8, 12))\n",
    "[s1,s2, type(s1), len(s1)]"
   ]
  },
  {
   "cell_type": "code",
   "execution_count": null,
   "metadata": {
    "collapsed": false
   },
   "outputs": [],
   "source": [
    "# note that the set constructor takes an \"iterable\" \n",
    "# something that produces a sequence of values\n",
    "# 34 is NOT an iterable so this bombs\n",
    "\n",
    "set(34)"
   ]
  },
  {
   "cell_type": "code",
   "execution_count": null,
   "metadata": {
    "collapsed": false
   },
   "outputs": [],
   "source": [
    "# to make a set with one element, do\n",
    "\n",
    "s = set()\n",
    "s.add(34)\n",
    "s"
   ]
  },
  {
   "cell_type": "code",
   "execution_count": null,
   "metadata": {
    "collapsed": false
   },
   "outputs": [],
   "source": [
    "# order doesn't matter\n",
    "\n",
    "{4,5,2} == {2,4,5}"
   ]
  },
  {
   "cell_type": "code",
   "execution_count": null,
   "metadata": {
    "collapsed": false
   },
   "outputs": [],
   "source": [
    "# duplicates are not allowed in a set\n",
    "\n",
    "{2,2,3,4,5,5,6}"
   ]
  },
  {
   "cell_type": "code",
   "execution_count": null,
   "metadata": {
    "collapsed": false
   },
   "outputs": [],
   "source": [
    "# intersection\n",
    "\n",
    "s1 & s2"
   ]
  },
  {
   "cell_type": "code",
   "execution_count": null,
   "metadata": {
    "collapsed": false
   },
   "outputs": [],
   "source": [
    "# union - eliminates duplicates\n",
    "\n",
    "s1 | s2"
   ]
  },
  {
   "cell_type": "code",
   "execution_count": null,
   "metadata": {
    "collapsed": false
   },
   "outputs": [],
   "source": [
    "# membership\n",
    "\n",
    "[7 in s1, 12 in s2]"
   ]
  },
  {
   "cell_type": "code",
   "execution_count": null,
   "metadata": {
    "collapsed": false
   },
   "outputs": [],
   "source": [
    "# set difference - elements in A but not in B\n",
    "\n",
    "s1 - s2"
   ]
  },
  {
   "cell_type": "code",
   "execution_count": null,
   "metadata": {
    "collapsed": false
   },
   "outputs": [],
   "source": [
    "# elements in one set but not both\n",
    "\n",
    "s1 ^ s2"
   ]
  },
  {
   "cell_type": "code",
   "execution_count": null,
   "metadata": {
    "collapsed": false
   },
   "outputs": [],
   "source": [
    "# add and remove set elements\n",
    "\n",
    "s1.add(33)\n",
    "s2.remove(9)\n",
    "[s1, s2]"
   ]
  },
  {
   "cell_type": "markdown",
   "metadata": {},
   "source": [
    "# Example - anagrams\n",
    "- words that use the same letters\n"
   ]
  },
  {
   "cell_type": "code",
   "execution_count": null,
   "metadata": {
    "collapsed": false
   },
   "outputs": [],
   "source": [
    "# a string iterable produces the chars in the string\n",
    "\n",
    "set('adsf')"
   ]
  },
  {
   "cell_type": "code",
   "execution_count": null,
   "metadata": {
    "collapsed": true
   },
   "outputs": [],
   "source": [
    "def anagram(s1, s2):\n",
    "    set1 = set(s1)\n",
    "    set2 = set(s2)\n",
    "    return set1 == set2"
   ]
  },
  {
   "cell_type": "code",
   "execution_count": null,
   "metadata": {
    "collapsed": false
   },
   "outputs": [],
   "source": [
    "# seems to work ok?\n",
    "\n",
    "[anagram('cat', 'dog'), anagram('silent', 'listen')]"
   ]
  },
  {
   "cell_type": "code",
   "execution_count": null,
   "metadata": {
    "collapsed": false
   },
   "outputs": [],
   "source": [
    "# well, not quite...\n",
    "\n",
    "anagram('a', 'aa')"
   ]
  },
  {
   "cell_type": "markdown",
   "metadata": {},
   "source": [
    "# Set methods"
   ]
  },
  {
   "cell_type": "code",
   "execution_count": null,
   "metadata": {
    "collapsed": false
   },
   "outputs": [],
   "source": [
    "dir(set)"
   ]
  },
  {
   "cell_type": "markdown",
   "metadata": {},
   "source": [
    "# Some objects can be ordered\n",
    "- can do N-compares"
   ]
  },
  {
   "cell_type": "code",
   "execution_count": null,
   "metadata": {
    "collapsed": false
   },
   "outputs": [],
   "source": [
    "3<7"
   ]
  },
  {
   "cell_type": "code",
   "execution_count": null,
   "metadata": {
    "collapsed": false
   },
   "outputs": [],
   "source": [
    "3<6<5"
   ]
  },
  {
   "cell_type": "code",
   "execution_count": null,
   "metadata": {
    "collapsed": false
   },
   "outputs": [],
   "source": [
    "3 < 5 < 8 < 9 < 11 < 13"
   ]
  },
  {
   "cell_type": "code",
   "execution_count": null,
   "metadata": {
    "collapsed": false
   },
   "outputs": [],
   "source": [
    "'AAA' < 'AAX'"
   ]
  },
  {
   "cell_type": "markdown",
   "metadata": {
    "collapsed": true
   },
   "source": [
    "# More about types"
   ]
  },
  {
   "cell_type": "code",
   "execution_count": null,
   "metadata": {
    "collapsed": false
   },
   "outputs": [],
   "source": [
    "# types are singletons\n",
    "\n",
    "type(234) is type(2)"
   ]
  },
  {
   "cell_type": "code",
   "execution_count": null,
   "metadata": {
    "collapsed": false
   },
   "outputs": [],
   "source": [
    "type(234) is int"
   ]
  },
  {
   "cell_type": "code",
   "execution_count": null,
   "metadata": {
    "collapsed": false
   },
   "outputs": [],
   "source": [
    "# type names are also class constructor functions\n",
    "# convert strings to ints and floats\n",
    "\n",
    "[int('345'), float('3.34'), str(234)]"
   ]
  },
  {
   "cell_type": "code",
   "execution_count": null,
   "metadata": {
    "collapsed": false
   },
   "outputs": [],
   "source": [
    "# isinstance predicate\n",
    "# a little nicer than type(34) == int\n",
    "\n",
    "[isinstance(34, int), isinstance(34, float)]"
   ]
  },
  {
   "cell_type": "code",
   "execution_count": null,
   "metadata": {
    "collapsed": false
   },
   "outputs": [],
   "source": [
    "# can test for several types at once\n",
    "\n",
    "[isinstance(34, (int, float)), \n",
    " isinstance(234.234, (int,float)), \n",
    " isinstance('asdf', (int,float))]"
   ]
  },
  {
   "cell_type": "markdown",
   "metadata": {},
   "source": [
    "# Objects vs String Representation of an Object\n",
    "- The 'string representation' is derived from an object, but should not be confused with the object itself.\n",
    "- A given object can have multiple string Representations\n",
    "    - two different strings might refer to the same object\n",
    "        - 'larry' vs 'larry stead'\n",
    "    - two identical string might refer to different objects \n",
    "        - 'larry' and 'larry'. first 'larry' might refer to 'larry stead', the second to 'larry smith'\n",
    "- also, some tools and versions of Python may print things slightly differently\n",
    "    - ipython pretty printer - attempts to print complex objects in a form readable by humans\n",
    "- we will see how this works in detail later"
   ]
  },
  {
   "cell_type": "code",
   "execution_count": 1,
   "metadata": {
    "collapsed": false
   },
   "outputs": [
    {
     "name": "stdout",
     "output_type": "stream",
     "text": [
      "<class 'int'>\n"
     ]
    }
   ],
   "source": [
    "# example - int\n",
    "# we see the same int object printed two different ways below\n",
    "\n",
    "print(int)"
   ]
  },
  {
   "cell_type": "code",
   "execution_count": 2,
   "metadata": {
    "collapsed": false
   },
   "outputs": [
    {
     "data": {
      "text/plain": [
       "\"<class 'int'>\""
      ]
     },
     "execution_count": 2,
     "metadata": {},
     "output_type": "execute_result"
    }
   ],
   "source": [
    "# 'str' function converts object into a string representation\n",
    "\n",
    "str(int)"
   ]
  },
  {
   "cell_type": "code",
   "execution_count": 3,
   "metadata": {
    "collapsed": false
   },
   "outputs": [
    {
     "data": {
      "text/plain": [
       "int"
      ]
     },
     "execution_count": 3,
     "metadata": {},
     "output_type": "execute_result"
    }
   ],
   "source": [
    "# but here int prints differently\n",
    "# why?\n",
    "\n",
    "int"
   ]
  },
  {
   "cell_type": "code",
   "execution_count": 4,
   "metadata": {
    "collapsed": false
   },
   "outputs": [
    {
     "name": "stdout",
     "output_type": "stream",
     "text": [
      "Pretty printing has been turned OFF\n"
     ]
    },
    {
     "data": {
      "text/plain": [
       "<class 'int'>"
      ]
     },
     "execution_count": 4,
     "metadata": {},
     "output_type": "execute_result"
    }
   ],
   "source": [
    "# it turns out ipython has a 'pretty printer' - which has its own notion\n",
    "# of 'what looks nice'\n",
    "# let's turn it OFF - then we get the same string as above\n",
    "# some people think 'int' is prettier than '<class 'int'>\n",
    "\n",
    "%pprint\n",
    "\n",
    "int"
   ]
  },
  {
   "cell_type": "code",
   "execution_count": 5,
   "metadata": {
    "collapsed": false
   },
   "outputs": [
    {
     "ename": "SyntaxError",
     "evalue": "invalid syntax (<ipython-input-5-85327f57862d>, line 3)",
     "output_type": "error",
     "traceback": [
      "\u001b[0;36m  File \u001b[0;32m\"<ipython-input-5-85327f57862d>\"\u001b[0;36m, line \u001b[0;32m3\u001b[0m\n\u001b[0;31m    <class 'int'>\u001b[0m\n\u001b[0m    ^\u001b[0m\n\u001b[0;31mSyntaxError\u001b[0m\u001b[0;31m:\u001b[0m invalid syntax\n"
     ]
    }
   ],
   "source": [
    "# note however, that string reps are NOT always valid input\n",
    "\n",
    "<class 'int'>"
   ]
  },
  {
   "cell_type": "code",
   "execution_count": 6,
   "metadata": {
    "collapsed": false
   },
   "outputs": [
    {
     "data": {
      "text/plain": [
       "[0, 1, 2, 3, 4, 5, 6, 7, 8, 9, 10, 11, 12, 13, 14, 15, 16, 17, 18, 19, 20, 21, 22, 23, 24, 25, 26, 27, 28, 29, 30, 31, 32, 33, 34, 35, 36, 37, 38, 39, 40, 41, 42, 43, 44, 45, 46, 47, 48, 49]"
      ]
     },
     "execution_count": 6,
     "metadata": {},
     "output_type": "execute_result"
    }
   ],
   "source": [
    "# another example \n",
    "# pretty printer is still off\n",
    "\n",
    "list(range(50))"
   ]
  },
  {
   "cell_type": "code",
   "execution_count": 7,
   "metadata": {
    "collapsed": false
   },
   "outputs": [
    {
     "name": "stdout",
     "output_type": "stream",
     "text": [
      "Pretty printing has been turned ON\n"
     ]
    },
    {
     "data": {
      "text/plain": [
       "[0,\n",
       " 1,\n",
       " 2,\n",
       " 3,\n",
       " 4,\n",
       " 5,\n",
       " 6,\n",
       " 7,\n",
       " 8,\n",
       " 9,\n",
       " 10,\n",
       " 11,\n",
       " 12,\n",
       " 13,\n",
       " 14,\n",
       " 15,\n",
       " 16,\n",
       " 17,\n",
       " 18,\n",
       " 19,\n",
       " 20,\n",
       " 21,\n",
       " 22,\n",
       " 23,\n",
       " 24,\n",
       " 25,\n",
       " 26,\n",
       " 27,\n",
       " 28,\n",
       " 29,\n",
       " 30,\n",
       " 31,\n",
       " 32,\n",
       " 33,\n",
       " 34,\n",
       " 35,\n",
       " 36,\n",
       " 37,\n",
       " 38,\n",
       " 39,\n",
       " 40,\n",
       " 41,\n",
       " 42,\n",
       " 43,\n",
       " 44,\n",
       " 45,\n",
       " 46,\n",
       " 47,\n",
       " 48,\n",
       " 49]"
      ]
     },
     "execution_count": 7,
     "metadata": {},
     "output_type": "execute_result"
    }
   ],
   "source": [
    "# turn it back on\n",
    "%pprint\n",
    "\n",
    "# now we get a one item per line print out, which could be helpful for 'wide' strings,\n",
    "# but doesn't seem useful for small integers. (the pretty printer could be a \n",
    "# little smarter about this)\n",
    "\n",
    "list(range(50))"
   ]
  },
  {
   "cell_type": "code",
   "execution_count": 8,
   "metadata": {
    "collapsed": false
   },
   "outputs": [
    {
     "data": {
      "text/plain": [
       "[10715086071862673209484250490600018105614048117055336074437503883703510511249361224931983788156958581275946729175531468251871452856923140435984577574698574803934567774824230985421074605062371141877954182153046474983581941267398767559165543946077062914571196477686542167660429831652624386837205668069376,\n",
       " 21430172143725346418968500981200036211228096234110672148875007767407021022498722449863967576313917162551893458351062936503742905713846280871969155149397149607869135549648461970842149210124742283755908364306092949967163882534797535118331087892154125829142392955373084335320859663305248773674411336138752,\n",
       " 42860344287450692837937001962400072422456192468221344297750015534814042044997444899727935152627834325103786916702125873007485811427692561743938310298794299215738271099296923941684298420249484567511816728612185899934327765069595070236662175784308251658284785910746168670641719326610497547348822672277504,\n",
       " 85720688574901385675874003924800144844912384936442688595500031069628084089994889799455870305255668650207573833404251746014971622855385123487876620597588598431476542198593847883368596840498969135023633457224371799868655530139190140473324351568616503316569571821492337341283438653220995094697645344555008]"
      ]
     },
     "execution_count": 8,
     "metadata": {},
     "output_type": "execute_result"
    }
   ],
   "source": [
    "# for these big ints, the pretty printer looks better...\n",
    "\n",
    "[2**n for n in range(1000, 1004)]"
   ]
  },
  {
   "cell_type": "code",
   "execution_count": 9,
   "metadata": {
    "collapsed": false
   },
   "outputs": [
    {
     "name": "stdout",
     "output_type": "stream",
     "text": [
      "Pretty printing has been turned OFF\n"
     ]
    },
    {
     "data": {
      "text/plain": [
       "[10715086071862673209484250490600018105614048117055336074437503883703510511249361224931983788156958581275946729175531468251871452856923140435984577574698574803934567774824230985421074605062371141877954182153046474983581941267398767559165543946077062914571196477686542167660429831652624386837205668069376, 21430172143725346418968500981200036211228096234110672148875007767407021022498722449863967576313917162551893458351062936503742905713846280871969155149397149607869135549648461970842149210124742283755908364306092949967163882534797535118331087892154125829142392955373084335320859663305248773674411336138752, 42860344287450692837937001962400072422456192468221344297750015534814042044997444899727935152627834325103786916702125873007485811427692561743938310298794299215738271099296923941684298420249484567511816728612185899934327765069595070236662175784308251658284785910746168670641719326610497547348822672277504, 85720688574901385675874003924800144844912384936442688595500031069628084089994889799455870305255668650207573833404251746014971622855385123487876620597588598431476542198593847883368596840498969135023633457224371799868655530139190140473324351568616503316569571821492337341283438653220995094697645344555008]"
      ]
     },
     "execution_count": 9,
     "metadata": {},
     "output_type": "execute_result"
    }
   ],
   "source": [
    "# than this...\n",
    "\n",
    "%pprint\n",
    "\n",
    "[2**n for n in range(1000, 1004)]"
   ]
  },
  {
   "cell_type": "code",
   "execution_count": null,
   "metadata": {
    "collapsed": true
   },
   "outputs": [],
   "source": []
  }
 ],
 "metadata": {
  "anaconda-cloud": {},
  "kernelspec": {
   "display_name": "Python [Root]",
   "language": "python",
   "name": "Python [Root]"
  },
  "language_info": {
   "codemirror_mode": {
    "name": "ipython",
    "version": 3
   },
   "file_extension": ".py",
   "mimetype": "text/x-python",
   "name": "python",
   "nbconvert_exporter": "python",
   "pygments_lexer": "ipython3",
   "version": "3.5.2"
  }
 },
 "nbformat": 4,
 "nbformat_minor": 0
}
