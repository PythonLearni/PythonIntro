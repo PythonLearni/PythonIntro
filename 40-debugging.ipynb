{
 "cells": [
  {
   "cell_type": "markdown",
   "metadata": {},
   "source": [
    "# Debugging\n",
    "\n",
    "- the tried and true - stick print statements in your code"
   ]
  },
  {
   "cell_type": "code",
   "execution_count": 1,
   "metadata": {
    "collapsed": false
   },
   "outputs": [
    {
     "name": "stdout",
     "output_type": "stream",
     "text": [
      "arg 3\n",
      "arg 2\n",
      "arg 1\n",
      "arg 0\n",
      "ret 1\n",
      "ret 1\n",
      "ret 2\n",
      "ret 6\n"
     ]
    },
    {
     "data": {
      "text/plain": [
       "6"
      ]
     },
     "execution_count": 1,
     "metadata": {},
     "output_type": "execute_result"
    }
   ],
   "source": [
    "def fact(arg):\n",
    "    print('arg', arg)\n",
    "    ret = 1 if arg == 0 else arg * fact(arg-1)\n",
    "    print('ret', ret)\n",
    "    return(ret)\n",
    "\n",
    "fact(3)"
   ]
  },
  {
   "cell_type": "markdown",
   "metadata": {},
   "source": [
    "# assert statement\n",
    "- 1st arg is an expression\n",
    "- 2nd arg is error message\n",
    "- if the expression is false, an AssertionError is raised\n",
    "- if optimization is turned on (-O on command line) asserts are removed"
   ]
  },
  {
   "cell_type": "code",
   "execution_count": 2,
   "metadata": {
    "collapsed": false
   },
   "outputs": [],
   "source": [
    "def a(n):\n",
    "    assert n == 4, 'did not get 4!!'"
   ]
  },
  {
   "cell_type": "code",
   "execution_count": 3,
   "metadata": {
    "collapsed": false
   },
   "outputs": [],
   "source": [
    "a(4)"
   ]
  },
  {
   "cell_type": "code",
   "execution_count": 4,
   "metadata": {
    "collapsed": false
   },
   "outputs": [
    {
     "ename": "AssertionError",
     "evalue": "did not get 4!!",
     "output_type": "error",
     "traceback": [
      "\u001b[0;31m---------------------------------------------------------------------------\u001b[0m",
      "\u001b[0;31mAssertionError\u001b[0m                            Traceback (most recent call last)",
      "\u001b[0;32m<ipython-input-4-28583940927d>\u001b[0m in \u001b[0;36m<module>\u001b[0;34m()\u001b[0m\n\u001b[0;32m----> 1\u001b[0;31m \u001b[0ma\u001b[0m\u001b[0;34m(\u001b[0m\u001b[0;36m6\u001b[0m\u001b[0;34m)\u001b[0m\u001b[0;34m\u001b[0m\u001b[0m\n\u001b[0m",
      "\u001b[0;32m<ipython-input-2-9a1183db0062>\u001b[0m in \u001b[0;36ma\u001b[0;34m(n)\u001b[0m\n\u001b[1;32m      1\u001b[0m \u001b[0;32mdef\u001b[0m \u001b[0ma\u001b[0m\u001b[0;34m(\u001b[0m\u001b[0mn\u001b[0m\u001b[0;34m)\u001b[0m\u001b[0;34m:\u001b[0m\u001b[0;34m\u001b[0m\u001b[0m\n\u001b[0;32m----> 2\u001b[0;31m     \u001b[0;32massert\u001b[0m \u001b[0mn\u001b[0m \u001b[0;34m==\u001b[0m \u001b[0;36m4\u001b[0m\u001b[0;34m,\u001b[0m \u001b[0;34m'did not get 4!!'\u001b[0m\u001b[0;34m\u001b[0m\u001b[0m\n\u001b[0m",
      "\u001b[0;31mAssertionError\u001b[0m: did not get 4!!"
     ]
    }
   ],
   "source": [
    "a(6)"
   ]
  },
  {
   "cell_type": "markdown",
   "metadata": {},
   "source": [
    "# pdb - Python debugger\n",
    "- two ways to run it"
   ]
  },
  {
   "cell_type": "code",
   "execution_count": null,
   "metadata": {
    "collapsed": false
   },
   "outputs": [
    {
     "name": "stdout",
     "output_type": "stream",
     "text": [
      "> <string>(1)<module>()\n",
      "(Pdb) s\n",
      "--Call--\n",
      "> <ipython-input-5-2f567135e614>(3)foo()\n",
      "-> def foo(n):\n",
      "(Pdb) s\n",
      "> <ipython-input-5-2f567135e614>(4)foo()\n",
      "-> a = 2 * n\n",
      "(Pdb) s\n",
      "> <ipython-input-5-2f567135e614>(5)foo()\n",
      "-> b = a * 3.14\n",
      "(Pdb) s\n",
      "> <ipython-input-5-2f567135e614>(6)foo()\n",
      "-> if a < b:\n",
      "(Pdb) s\n",
      "> <ipython-input-5-2f567135e614>(7)foo()\n",
      "-> print('b', b)\n",
      "(Pdb) s\n",
      "--Call--\n",
      "> /Users/lstead/anaconda/lib/python3.5/site-packages/ipykernel/iostream.py(207)write()\n",
      "-> def write(self, string):\n",
      "(Pdb) s\n",
      "> /Users/lstead/anaconda/lib/python3.5/site-packages/ipykernel/iostream.py(208)write()\n",
      "-> if self.pub_socket is None:\n",
      "(Pdb) s\n",
      "> /Users/lstead/anaconda/lib/python3.5/site-packages/ipykernel/iostream.py(212)write()\n",
      "-> if not isinstance(string, unicode_type):\n",
      "(Pdb) s\n",
      "> /Users/lstead/anaconda/lib/python3.5/site-packages/ipykernel/iostream.py(215)write()\n",
      "-> is_child = (self._check_mp_mode() == CHILD)\n",
      "(Pdb) s\n",
      "--Call--\n",
      "> /Users/lstead/anaconda/lib/python3.5/site-packages/ipykernel/iostream.py(102)_check_mp_mode()\n",
      "-> def _check_mp_mode(self):\n",
      "(Pdb) s\n",
      "> /Users/lstead/anaconda/lib/python3.5/site-packages/ipykernel/iostream.py(104)_check_mp_mode()\n",
      "-> if not self._pipe_flag or self._is_master_process():\n",
      "(Pdb) s\n",
      "--Call--\n",
      "> /Users/lstead/anaconda/lib/python3.5/site-packages/ipykernel/iostream.py(93)_is_master_process()\n",
      "-> def _is_master_process(self):\n"
     ]
    }
   ],
   "source": [
    "import pdb\n",
    "\n",
    "def foo(n):\n",
    "    a = 2 * n\n",
    "    b = a * 3.14\n",
    "    if a < b:\n",
    "        print('b', b)\n",
    "    else:\n",
    "        print('a', a)\n",
    "        \n",
    "pdb.runeval('foo(3)')"
   ]
  },
  {
   "cell_type": "code",
   "execution_count": null,
   "metadata": {
    "collapsed": true
   },
   "outputs": [],
   "source": [
    "def bar(n):\n",
    "    a = 2 * n\n",
    "    b = a * 3.14\n",
    "    # debug will start here\n",
    "    pdb.set_trace()\n",
    "    if a < b:\n",
    "        print('b', b)\n",
    "    else:\n",
    "        print('a', a)"
   ]
  },
  {
   "cell_type": "code",
   "execution_count": null,
   "metadata": {
    "collapsed": false
   },
   "outputs": [],
   "source": [
    "bar(4)"
   ]
  },
  {
   "cell_type": "code",
   "execution_count": null,
   "metadata": {
    "collapsed": true
   },
   "outputs": [],
   "source": []
  }
 ],
 "metadata": {
  "kernelspec": {
   "display_name": "Python [Root]",
   "language": "python",
   "name": "Python [Root]"
  },
  "language_info": {
   "codemirror_mode": {
    "name": "ipython",
    "version": 3
   },
   "file_extension": ".py",
   "mimetype": "text/x-python",
   "name": "python",
   "nbconvert_exporter": "python",
   "pygments_lexer": "ipython3",
   "version": "3.5.2"
  }
 },
 "nbformat": 4,
 "nbformat_minor": 0
}
