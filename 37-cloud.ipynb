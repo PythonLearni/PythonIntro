{
 "cells": [
  {
   "cell_type": "markdown",
   "metadata": {},
   "source": [
    "# cloud computing\n",
    "- Amazon Web Services has a comprehensive python interface, 'boto3' for controlling the cloud\n",
    "- [interesting article about how Netflix uses Python on AWS](http://techblog.netflix.com/2013/03/python-at-netflix.html)\n",
    "- [docs](http://boto3.readthedocs.io/en/latest/reference/services/)"
   ]
  },
  {
   "cell_type": "code",
   "execution_count": 1,
   "metadata": {
    "collapsed": true
   },
   "outputs": [],
   "source": [
    "from boto3 import *\n",
    "\n",
    "ec2c = client('ec2')"
   ]
  },
  {
   "cell_type": "code",
   "execution_count": 2,
   "metadata": {
    "collapsed": false
   },
   "outputs": [
    {
     "data": {
      "text/plain": [
       "{'Reservations': [],\n",
       " 'ResponseMetadata': {'HTTPStatusCode': 200,\n",
       "  'RequestId': 'e7f30a81-bf87-45c5-b694-331aded02a88'}}"
      ]
     },
     "execution_count": 2,
     "metadata": {},
     "output_type": "execute_result"
    }
   ],
   "source": [
    "# nothing running now\n",
    "\n",
    "ec2c.describe_instances(\n",
    "     Filters=[{'Name': 'instance-state-name', 'Values': ['running']}])\n"
   ]
  },
  {
   "cell_type": "code",
   "execution_count": 3,
   "metadata": {
    "collapsed": false
   },
   "outputs": [
    {
     "data": {
      "text/plain": [
       "[ec2.Instance(id='i-0abfdac46a197bb1f'),\n",
       " ec2.Instance(id='i-03c136aec55551b62')]"
      ]
     },
     "execution_count": 3,
     "metadata": {},
     "output_type": "execute_result"
    }
   ],
   "source": [
    "# the image we will boot\n",
    "\n",
    "ami = 'ami-08111162'\n",
    "\n",
    "ec2r=resource('ec2')\n",
    "\n",
    "# boot up\n",
    "\n",
    "ec2r.create_instances(ImageId=ami, \n",
    "                    MinCount=2, MaxCount=2,\n",
    "                    InstanceType='t2.micro')"
   ]
  },
  {
   "cell_type": "code",
   "execution_count": 4,
   "metadata": {
    "collapsed": false
   },
   "outputs": [
    {
     "data": {
      "text/plain": [
       "{'Reservations': [{'Groups': [],\n",
       "   'Instances': [{'AmiLaunchIndex': 0,\n",
       "     'Architecture': 'x86_64',\n",
       "     'BlockDeviceMappings': [{'DeviceName': '/dev/xvda',\n",
       "       'Ebs': {'AttachTime': datetime.datetime(2016, 4, 29, 19, 32, 7, tzinfo=tzutc()),\n",
       "        'DeleteOnTermination': True,\n",
       "        'Status': 'attached',\n",
       "        'VolumeId': 'vol-96d99947'}}],\n",
       "     'ClientToken': '',\n",
       "     'EbsOptimized': False,\n",
       "     'Hypervisor': 'xen',\n",
       "     'ImageId': 'ami-08111162',\n",
       "     'InstanceId': 'i-0abfdac46a197bb1f',\n",
       "     'InstanceType': 't2.micro',\n",
       "     'LaunchTime': datetime.datetime(2016, 4, 29, 19, 32, 6, tzinfo=tzutc()),\n",
       "     'Monitoring': {'State': 'disabled'},\n",
       "     'NetworkInterfaces': [{'Association': {'IpOwnerId': 'amazon',\n",
       "        'PublicDnsName': 'ec2-54-172-214-137.compute-1.amazonaws.com',\n",
       "        'PublicIp': '54.172.214.137'},\n",
       "       'Attachment': {'AttachTime': datetime.datetime(2016, 4, 29, 19, 32, 6, tzinfo=tzutc()),\n",
       "        'AttachmentId': 'eni-attach-a466b354',\n",
       "        'DeleteOnTermination': True,\n",
       "        'DeviceIndex': 0,\n",
       "        'Status': 'attached'},\n",
       "       'Description': '',\n",
       "       'Groups': [{'GroupId': 'sg-f187a289', 'GroupName': 'default'}],\n",
       "       'MacAddress': '12:de:23:b9:7a:eb',\n",
       "       'NetworkInterfaceId': 'eni-60968c44',\n",
       "       'OwnerId': '674776699098',\n",
       "       'PrivateDnsName': 'ip-172-31-55-94.ec2.internal',\n",
       "       'PrivateIpAddress': '172.31.55.94',\n",
       "       'PrivateIpAddresses': [{'Association': {'IpOwnerId': 'amazon',\n",
       "          'PublicDnsName': 'ec2-54-172-214-137.compute-1.amazonaws.com',\n",
       "          'PublicIp': '54.172.214.137'},\n",
       "         'Primary': True,\n",
       "         'PrivateDnsName': 'ip-172-31-55-94.ec2.internal',\n",
       "         'PrivateIpAddress': '172.31.55.94'}],\n",
       "       'SourceDestCheck': True,\n",
       "       'Status': 'in-use',\n",
       "       'SubnetId': 'subnet-881a9aa2',\n",
       "       'VpcId': 'vpc-dc8493b8'}],\n",
       "     'Placement': {'AvailabilityZone': 'us-east-1c',\n",
       "      'GroupName': '',\n",
       "      'Tenancy': 'default'},\n",
       "     'PrivateDnsName': 'ip-172-31-55-94.ec2.internal',\n",
       "     'PrivateIpAddress': '172.31.55.94',\n",
       "     'ProductCodes': [],\n",
       "     'PublicDnsName': 'ec2-54-172-214-137.compute-1.amazonaws.com',\n",
       "     'PublicIpAddress': '54.172.214.137',\n",
       "     'RootDeviceName': '/dev/xvda',\n",
       "     'RootDeviceType': 'ebs',\n",
       "     'SecurityGroups': [{'GroupId': 'sg-f187a289', 'GroupName': 'default'}],\n",
       "     'SourceDestCheck': True,\n",
       "     'State': {'Code': 16, 'Name': 'running'},\n",
       "     'StateTransitionReason': '',\n",
       "     'SubnetId': 'subnet-881a9aa2',\n",
       "     'VirtualizationType': 'hvm',\n",
       "     'VpcId': 'vpc-dc8493b8'},\n",
       "    {'AmiLaunchIndex': 1,\n",
       "     'Architecture': 'x86_64',\n",
       "     'BlockDeviceMappings': [{'DeviceName': '/dev/xvda',\n",
       "       'Ebs': {'AttachTime': datetime.datetime(2016, 4, 29, 19, 32, 7, tzinfo=tzutc()),\n",
       "        'DeleteOnTermination': True,\n",
       "        'Status': 'attached',\n",
       "        'VolumeId': 'vol-f9d99928'}}],\n",
       "     'ClientToken': '',\n",
       "     'EbsOptimized': False,\n",
       "     'Hypervisor': 'xen',\n",
       "     'ImageId': 'ami-08111162',\n",
       "     'InstanceId': 'i-03c136aec55551b62',\n",
       "     'InstanceType': 't2.micro',\n",
       "     'LaunchTime': datetime.datetime(2016, 4, 29, 19, 32, 6, tzinfo=tzutc()),\n",
       "     'Monitoring': {'State': 'disabled'},\n",
       "     'NetworkInterfaces': [{'Association': {'IpOwnerId': 'amazon',\n",
       "        'PublicDnsName': 'ec2-52-87-226-203.compute-1.amazonaws.com',\n",
       "        'PublicIp': '52.87.226.203'},\n",
       "       'Attachment': {'AttachTime': datetime.datetime(2016, 4, 29, 19, 32, 6, tzinfo=tzutc()),\n",
       "        'AttachmentId': 'eni-attach-a566b355',\n",
       "        'DeleteOnTermination': True,\n",
       "        'DeviceIndex': 0,\n",
       "        'Status': 'attached'},\n",
       "       'Description': '',\n",
       "       'Groups': [{'GroupId': 'sg-f187a289', 'GroupName': 'default'}],\n",
       "       'MacAddress': '12:c9:07:b7:9d:6f',\n",
       "       'NetworkInterfaceId': 'eni-61968c45',\n",
       "       'OwnerId': '674776699098',\n",
       "       'PrivateDnsName': 'ip-172-31-55-95.ec2.internal',\n",
       "       'PrivateIpAddress': '172.31.55.95',\n",
       "       'PrivateIpAddresses': [{'Association': {'IpOwnerId': 'amazon',\n",
       "          'PublicDnsName': 'ec2-52-87-226-203.compute-1.amazonaws.com',\n",
       "          'PublicIp': '52.87.226.203'},\n",
       "         'Primary': True,\n",
       "         'PrivateDnsName': 'ip-172-31-55-95.ec2.internal',\n",
       "         'PrivateIpAddress': '172.31.55.95'}],\n",
       "       'SourceDestCheck': True,\n",
       "       'Status': 'in-use',\n",
       "       'SubnetId': 'subnet-881a9aa2',\n",
       "       'VpcId': 'vpc-dc8493b8'}],\n",
       "     'Placement': {'AvailabilityZone': 'us-east-1c',\n",
       "      'GroupName': '',\n",
       "      'Tenancy': 'default'},\n",
       "     'PrivateDnsName': 'ip-172-31-55-95.ec2.internal',\n",
       "     'PrivateIpAddress': '172.31.55.95',\n",
       "     'ProductCodes': [],\n",
       "     'PublicDnsName': 'ec2-52-87-226-203.compute-1.amazonaws.com',\n",
       "     'PublicIpAddress': '52.87.226.203',\n",
       "     'RootDeviceName': '/dev/xvda',\n",
       "     'RootDeviceType': 'ebs',\n",
       "     'SecurityGroups': [{'GroupId': 'sg-f187a289', 'GroupName': 'default'}],\n",
       "     'SourceDestCheck': True,\n",
       "     'State': {'Code': 16, 'Name': 'running'},\n",
       "     'StateTransitionReason': '',\n",
       "     'SubnetId': 'subnet-881a9aa2',\n",
       "     'VirtualizationType': 'hvm',\n",
       "     'VpcId': 'vpc-dc8493b8'}],\n",
       "   'OwnerId': '674776699098',\n",
       "   'ReservationId': 'r-04e9955fbff3c40f9'}],\n",
       " 'ResponseMetadata': {'HTTPStatusCode': 200,\n",
       "  'RequestId': 'aa874b52-3f5a-4765-aaac-e1b19f339eba'}}"
      ]
     },
     "execution_count": 4,
     "metadata": {},
     "output_type": "execute_result"
    }
   ],
   "source": [
    "di = ec2c.describe_instances(\n",
    "     Filters=[{'Name': 'instance-state-name', 'Values': ['running']}])\n",
    "\n",
    "di"
   ]
  },
  {
   "cell_type": "code",
   "execution_count": 6,
   "metadata": {
    "collapsed": false
   },
   "outputs": [
    {
     "data": {
      "text/plain": [
       "[{'Groups': [],\n",
       "  'Instances': [{'AmiLaunchIndex': 0,\n",
       "    'Architecture': 'x86_64',\n",
       "    'BlockDeviceMappings': [{'DeviceName': '/dev/xvda',\n",
       "      'Ebs': {'AttachTime': datetime.datetime(2016, 4, 29, 19, 32, 7, tzinfo=tzutc()),\n",
       "       'DeleteOnTermination': True,\n",
       "       'Status': 'attached',\n",
       "       'VolumeId': 'vol-96d99947'}}],\n",
       "    'ClientToken': '',\n",
       "    'EbsOptimized': False,\n",
       "    'Hypervisor': 'xen',\n",
       "    'ImageId': 'ami-08111162',\n",
       "    'InstanceId': 'i-0abfdac46a197bb1f',\n",
       "    'InstanceType': 't2.micro',\n",
       "    'LaunchTime': datetime.datetime(2016, 4, 29, 19, 32, 6, tzinfo=tzutc()),\n",
       "    'Monitoring': {'State': 'disabled'},\n",
       "    'NetworkInterfaces': [{'Association': {'IpOwnerId': 'amazon',\n",
       "       'PublicDnsName': 'ec2-54-172-214-137.compute-1.amazonaws.com',\n",
       "       'PublicIp': '54.172.214.137'},\n",
       "      'Attachment': {'AttachTime': datetime.datetime(2016, 4, 29, 19, 32, 6, tzinfo=tzutc()),\n",
       "       'AttachmentId': 'eni-attach-a466b354',\n",
       "       'DeleteOnTermination': True,\n",
       "       'DeviceIndex': 0,\n",
       "       'Status': 'attached'},\n",
       "      'Description': '',\n",
       "      'Groups': [{'GroupId': 'sg-f187a289', 'GroupName': 'default'}],\n",
       "      'MacAddress': '12:de:23:b9:7a:eb',\n",
       "      'NetworkInterfaceId': 'eni-60968c44',\n",
       "      'OwnerId': '674776699098',\n",
       "      'PrivateDnsName': 'ip-172-31-55-94.ec2.internal',\n",
       "      'PrivateIpAddress': '172.31.55.94',\n",
       "      'PrivateIpAddresses': [{'Association': {'IpOwnerId': 'amazon',\n",
       "         'PublicDnsName': 'ec2-54-172-214-137.compute-1.amazonaws.com',\n",
       "         'PublicIp': '54.172.214.137'},\n",
       "        'Primary': True,\n",
       "        'PrivateDnsName': 'ip-172-31-55-94.ec2.internal',\n",
       "        'PrivateIpAddress': '172.31.55.94'}],\n",
       "      'SourceDestCheck': True,\n",
       "      'Status': 'in-use',\n",
       "      'SubnetId': 'subnet-881a9aa2',\n",
       "      'VpcId': 'vpc-dc8493b8'}],\n",
       "    'Placement': {'AvailabilityZone': 'us-east-1c',\n",
       "     'GroupName': '',\n",
       "     'Tenancy': 'default'},\n",
       "    'PrivateDnsName': 'ip-172-31-55-94.ec2.internal',\n",
       "    'PrivateIpAddress': '172.31.55.94',\n",
       "    'ProductCodes': [],\n",
       "    'PublicDnsName': 'ec2-54-172-214-137.compute-1.amazonaws.com',\n",
       "    'PublicIpAddress': '54.172.214.137',\n",
       "    'RootDeviceName': '/dev/xvda',\n",
       "    'RootDeviceType': 'ebs',\n",
       "    'SecurityGroups': [{'GroupId': 'sg-f187a289', 'GroupName': 'default'}],\n",
       "    'SourceDestCheck': True,\n",
       "    'State': {'Code': 16, 'Name': 'running'},\n",
       "    'StateTransitionReason': '',\n",
       "    'SubnetId': 'subnet-881a9aa2',\n",
       "    'VirtualizationType': 'hvm',\n",
       "    'VpcId': 'vpc-dc8493b8'},\n",
       "   {'AmiLaunchIndex': 1,\n",
       "    'Architecture': 'x86_64',\n",
       "    'BlockDeviceMappings': [{'DeviceName': '/dev/xvda',\n",
       "      'Ebs': {'AttachTime': datetime.datetime(2016, 4, 29, 19, 32, 7, tzinfo=tzutc()),\n",
       "       'DeleteOnTermination': True,\n",
       "       'Status': 'attached',\n",
       "       'VolumeId': 'vol-f9d99928'}}],\n",
       "    'ClientToken': '',\n",
       "    'EbsOptimized': False,\n",
       "    'Hypervisor': 'xen',\n",
       "    'ImageId': 'ami-08111162',\n",
       "    'InstanceId': 'i-03c136aec55551b62',\n",
       "    'InstanceType': 't2.micro',\n",
       "    'LaunchTime': datetime.datetime(2016, 4, 29, 19, 32, 6, tzinfo=tzutc()),\n",
       "    'Monitoring': {'State': 'disabled'},\n",
       "    'NetworkInterfaces': [{'Association': {'IpOwnerId': 'amazon',\n",
       "       'PublicDnsName': 'ec2-52-87-226-203.compute-1.amazonaws.com',\n",
       "       'PublicIp': '52.87.226.203'},\n",
       "      'Attachment': {'AttachTime': datetime.datetime(2016, 4, 29, 19, 32, 6, tzinfo=tzutc()),\n",
       "       'AttachmentId': 'eni-attach-a566b355',\n",
       "       'DeleteOnTermination': True,\n",
       "       'DeviceIndex': 0,\n",
       "       'Status': 'attached'},\n",
       "      'Description': '',\n",
       "      'Groups': [{'GroupId': 'sg-f187a289', 'GroupName': 'default'}],\n",
       "      'MacAddress': '12:c9:07:b7:9d:6f',\n",
       "      'NetworkInterfaceId': 'eni-61968c45',\n",
       "      'OwnerId': '674776699098',\n",
       "      'PrivateDnsName': 'ip-172-31-55-95.ec2.internal',\n",
       "      'PrivateIpAddress': '172.31.55.95',\n",
       "      'PrivateIpAddresses': [{'Association': {'IpOwnerId': 'amazon',\n",
       "         'PublicDnsName': 'ec2-52-87-226-203.compute-1.amazonaws.com',\n",
       "         'PublicIp': '52.87.226.203'},\n",
       "        'Primary': True,\n",
       "        'PrivateDnsName': 'ip-172-31-55-95.ec2.internal',\n",
       "        'PrivateIpAddress': '172.31.55.95'}],\n",
       "      'SourceDestCheck': True,\n",
       "      'Status': 'in-use',\n",
       "      'SubnetId': 'subnet-881a9aa2',\n",
       "      'VpcId': 'vpc-dc8493b8'}],\n",
       "    'Placement': {'AvailabilityZone': 'us-east-1c',\n",
       "     'GroupName': '',\n",
       "     'Tenancy': 'default'},\n",
       "    'PrivateDnsName': 'ip-172-31-55-95.ec2.internal',\n",
       "    'PrivateIpAddress': '172.31.55.95',\n",
       "    'ProductCodes': [],\n",
       "    'PublicDnsName': 'ec2-52-87-226-203.compute-1.amazonaws.com',\n",
       "    'PublicIpAddress': '52.87.226.203',\n",
       "    'RootDeviceName': '/dev/xvda',\n",
       "    'RootDeviceType': 'ebs',\n",
       "    'SecurityGroups': [{'GroupId': 'sg-f187a289', 'GroupName': 'default'}],\n",
       "    'SourceDestCheck': True,\n",
       "    'State': {'Code': 16, 'Name': 'running'},\n",
       "    'StateTransitionReason': '',\n",
       "    'SubnetId': 'subnet-881a9aa2',\n",
       "    'VirtualizationType': 'hvm',\n",
       "    'VpcId': 'vpc-dc8493b8'}],\n",
       "  'OwnerId': '674776699098',\n",
       "  'ReservationId': 'r-04e9955fbff3c40f9'}]"
      ]
     },
     "execution_count": 6,
     "metadata": {},
     "output_type": "execute_result"
    }
   ],
   "source": [
    "di2 = di['Reservations']\n",
    "di2"
   ]
  },
  {
   "cell_type": "code",
   "execution_count": 7,
   "metadata": {
    "collapsed": false
   },
   "outputs": [
    {
     "data": {
      "text/plain": [
       "[{'AmiLaunchIndex': 0,\n",
       "  'Architecture': 'x86_64',\n",
       "  'BlockDeviceMappings': [{'DeviceName': '/dev/xvda',\n",
       "    'Ebs': {'AttachTime': datetime.datetime(2016, 4, 29, 19, 32, 7, tzinfo=tzutc()),\n",
       "     'DeleteOnTermination': True,\n",
       "     'Status': 'attached',\n",
       "     'VolumeId': 'vol-96d99947'}}],\n",
       "  'ClientToken': '',\n",
       "  'EbsOptimized': False,\n",
       "  'Hypervisor': 'xen',\n",
       "  'ImageId': 'ami-08111162',\n",
       "  'InstanceId': 'i-0abfdac46a197bb1f',\n",
       "  'InstanceType': 't2.micro',\n",
       "  'LaunchTime': datetime.datetime(2016, 4, 29, 19, 32, 6, tzinfo=tzutc()),\n",
       "  'Monitoring': {'State': 'disabled'},\n",
       "  'NetworkInterfaces': [{'Association': {'IpOwnerId': 'amazon',\n",
       "     'PublicDnsName': 'ec2-54-172-214-137.compute-1.amazonaws.com',\n",
       "     'PublicIp': '54.172.214.137'},\n",
       "    'Attachment': {'AttachTime': datetime.datetime(2016, 4, 29, 19, 32, 6, tzinfo=tzutc()),\n",
       "     'AttachmentId': 'eni-attach-a466b354',\n",
       "     'DeleteOnTermination': True,\n",
       "     'DeviceIndex': 0,\n",
       "     'Status': 'attached'},\n",
       "    'Description': '',\n",
       "    'Groups': [{'GroupId': 'sg-f187a289', 'GroupName': 'default'}],\n",
       "    'MacAddress': '12:de:23:b9:7a:eb',\n",
       "    'NetworkInterfaceId': 'eni-60968c44',\n",
       "    'OwnerId': '674776699098',\n",
       "    'PrivateDnsName': 'ip-172-31-55-94.ec2.internal',\n",
       "    'PrivateIpAddress': '172.31.55.94',\n",
       "    'PrivateIpAddresses': [{'Association': {'IpOwnerId': 'amazon',\n",
       "       'PublicDnsName': 'ec2-54-172-214-137.compute-1.amazonaws.com',\n",
       "       'PublicIp': '54.172.214.137'},\n",
       "      'Primary': True,\n",
       "      'PrivateDnsName': 'ip-172-31-55-94.ec2.internal',\n",
       "      'PrivateIpAddress': '172.31.55.94'}],\n",
       "    'SourceDestCheck': True,\n",
       "    'Status': 'in-use',\n",
       "    'SubnetId': 'subnet-881a9aa2',\n",
       "    'VpcId': 'vpc-dc8493b8'}],\n",
       "  'Placement': {'AvailabilityZone': 'us-east-1c',\n",
       "   'GroupName': '',\n",
       "   'Tenancy': 'default'},\n",
       "  'PrivateDnsName': 'ip-172-31-55-94.ec2.internal',\n",
       "  'PrivateIpAddress': '172.31.55.94',\n",
       "  'ProductCodes': [],\n",
       "  'PublicDnsName': 'ec2-54-172-214-137.compute-1.amazonaws.com',\n",
       "  'PublicIpAddress': '54.172.214.137',\n",
       "  'RootDeviceName': '/dev/xvda',\n",
       "  'RootDeviceType': 'ebs',\n",
       "  'SecurityGroups': [{'GroupId': 'sg-f187a289', 'GroupName': 'default'}],\n",
       "  'SourceDestCheck': True,\n",
       "  'State': {'Code': 16, 'Name': 'running'},\n",
       "  'StateTransitionReason': '',\n",
       "  'SubnetId': 'subnet-881a9aa2',\n",
       "  'VirtualizationType': 'hvm',\n",
       "  'VpcId': 'vpc-dc8493b8'},\n",
       " {'AmiLaunchIndex': 1,\n",
       "  'Architecture': 'x86_64',\n",
       "  'BlockDeviceMappings': [{'DeviceName': '/dev/xvda',\n",
       "    'Ebs': {'AttachTime': datetime.datetime(2016, 4, 29, 19, 32, 7, tzinfo=tzutc()),\n",
       "     'DeleteOnTermination': True,\n",
       "     'Status': 'attached',\n",
       "     'VolumeId': 'vol-f9d99928'}}],\n",
       "  'ClientToken': '',\n",
       "  'EbsOptimized': False,\n",
       "  'Hypervisor': 'xen',\n",
       "  'ImageId': 'ami-08111162',\n",
       "  'InstanceId': 'i-03c136aec55551b62',\n",
       "  'InstanceType': 't2.micro',\n",
       "  'LaunchTime': datetime.datetime(2016, 4, 29, 19, 32, 6, tzinfo=tzutc()),\n",
       "  'Monitoring': {'State': 'disabled'},\n",
       "  'NetworkInterfaces': [{'Association': {'IpOwnerId': 'amazon',\n",
       "     'PublicDnsName': 'ec2-52-87-226-203.compute-1.amazonaws.com',\n",
       "     'PublicIp': '52.87.226.203'},\n",
       "    'Attachment': {'AttachTime': datetime.datetime(2016, 4, 29, 19, 32, 6, tzinfo=tzutc()),\n",
       "     'AttachmentId': 'eni-attach-a566b355',\n",
       "     'DeleteOnTermination': True,\n",
       "     'DeviceIndex': 0,\n",
       "     'Status': 'attached'},\n",
       "    'Description': '',\n",
       "    'Groups': [{'GroupId': 'sg-f187a289', 'GroupName': 'default'}],\n",
       "    'MacAddress': '12:c9:07:b7:9d:6f',\n",
       "    'NetworkInterfaceId': 'eni-61968c45',\n",
       "    'OwnerId': '674776699098',\n",
       "    'PrivateDnsName': 'ip-172-31-55-95.ec2.internal',\n",
       "    'PrivateIpAddress': '172.31.55.95',\n",
       "    'PrivateIpAddresses': [{'Association': {'IpOwnerId': 'amazon',\n",
       "       'PublicDnsName': 'ec2-52-87-226-203.compute-1.amazonaws.com',\n",
       "       'PublicIp': '52.87.226.203'},\n",
       "      'Primary': True,\n",
       "      'PrivateDnsName': 'ip-172-31-55-95.ec2.internal',\n",
       "      'PrivateIpAddress': '172.31.55.95'}],\n",
       "    'SourceDestCheck': True,\n",
       "    'Status': 'in-use',\n",
       "    'SubnetId': 'subnet-881a9aa2',\n",
       "    'VpcId': 'vpc-dc8493b8'}],\n",
       "  'Placement': {'AvailabilityZone': 'us-east-1c',\n",
       "   'GroupName': '',\n",
       "   'Tenancy': 'default'},\n",
       "  'PrivateDnsName': 'ip-172-31-55-95.ec2.internal',\n",
       "  'PrivateIpAddress': '172.31.55.95',\n",
       "  'ProductCodes': [],\n",
       "  'PublicDnsName': 'ec2-52-87-226-203.compute-1.amazonaws.com',\n",
       "  'PublicIpAddress': '52.87.226.203',\n",
       "  'RootDeviceName': '/dev/xvda',\n",
       "  'RootDeviceType': 'ebs',\n",
       "  'SecurityGroups': [{'GroupId': 'sg-f187a289', 'GroupName': 'default'}],\n",
       "  'SourceDestCheck': True,\n",
       "  'State': {'Code': 16, 'Name': 'running'},\n",
       "  'StateTransitionReason': '',\n",
       "  'SubnetId': 'subnet-881a9aa2',\n",
       "  'VirtualizationType': 'hvm',\n",
       "  'VpcId': 'vpc-dc8493b8'}]"
      ]
     },
     "execution_count": 7,
     "metadata": {},
     "output_type": "execute_result"
    }
   ],
   "source": [
    "di3=di2[0]['Instances']\n",
    "di3"
   ]
  },
  {
   "cell_type": "code",
   "execution_count": 8,
   "metadata": {
    "collapsed": false
   },
   "outputs": [
    {
     "data": {
      "text/plain": [
       "['i-0abfdac46a197bb1f', 'i-03c136aec55551b62']"
      ]
     },
     "execution_count": 8,
     "metadata": {},
     "output_type": "execute_result"
    }
   ],
   "source": [
    "# Finally, the running instance ids!\n",
    "\n",
    "ids = [d['InstanceId'] for d in di3]\n",
    "ids"
   ]
  },
  {
   "cell_type": "code",
   "execution_count": 9,
   "metadata": {
    "collapsed": false
   },
   "outputs": [
    {
     "data": {
      "text/plain": [
       "{'ResponseMetadata': {'HTTPStatusCode': 200,\n",
       "  'RequestId': 'b6c6073f-9388-451a-8f14-12996335d7c7'},\n",
       " 'TerminatingInstances': [{'CurrentState': {'Code': 32,\n",
       "    'Name': 'shutting-down'},\n",
       "   'InstanceId': 'i-03c136aec55551b62',\n",
       "   'PreviousState': {'Code': 16, 'Name': 'running'}},\n",
       "  {'CurrentState': {'Code': 32, 'Name': 'shutting-down'},\n",
       "   'InstanceId': 'i-0abfdac46a197bb1f',\n",
       "   'PreviousState': {'Code': 16, 'Name': 'running'}}]}"
      ]
     },
     "execution_count": 9,
     "metadata": {},
     "output_type": "execute_result"
    }
   ],
   "source": [
    "# now with the ids, we can terminate the instances\n",
    "\n",
    "ec2c.terminate_instances(InstanceIds=ids)"
   ]
  },
  {
   "cell_type": "markdown",
   "metadata": {},
   "source": [
    "# Google Compute Engine\n",
    "- has python interface\n",
    "- [docs](https://cloud.google.com/compute/docs/tutorials/python-guide)"
   ]
  },
  {
   "cell_type": "markdown",
   "metadata": {},
   "source": [
    "# Microsoft Azure\n",
    "- has python interface\n",
    "- [docs](https://azure-sdk-for-python.readthedocs.io/en/latest/)"
   ]
  },
  {
   "cell_type": "markdown",
   "metadata": {},
   "source": [
    "# OpenStack - Python running the Cloud\n",
    "- [OpenStack](http://www.openstack.org) is a huge open source software suite that manages cloud computing clusters\n",
    "- primarily written in Python\n",
    "    - largest known Python project\n",
    "    - almost two million lines of code\n",
    "- In use by many research and business groups\n",
    "- OpenStack functionality is available via:\n",
    "  - [Web Interface](http://www.openstack.org/software/openstack-dashboard/)\n",
    "  - [python API](http://docs.openstack.org/user-guide/sdk.html)"
   ]
  }
 ],
 "metadata": {
  "anaconda-cloud": {},
  "kernelspec": {
   "display_name": "Python [Root]",
   "language": "python",
   "name": "Python [Root]"
  },
  "language_info": {
   "codemirror_mode": {
    "name": "ipython",
    "version": 3
   },
   "file_extension": ".py",
   "mimetype": "text/x-python",
   "name": "python",
   "nbconvert_exporter": "python",
   "pygments_lexer": "ipython3",
   "version": "3.5.2"
  }
 },
 "nbformat": 4,
 "nbformat_minor": 0
}
