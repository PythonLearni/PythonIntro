{
 "cells": [
  {
   "cell_type": "markdown",
   "metadata": {},
   "source": [
    "\n",
    "# Python V2.7 vs V3.x\n",
    "- If you find this issue fascinating, there's no shortage of lengthly things to read \n",
    "  - [Python 3 Q&A](http://ncoghlan-devs-python-notes.readthedocs.org/en/latest/python3/questions_and_answers.html)\n",
    "  - [Porting to v3](https://wiki.python.org/moin/PortingPythonToPy3k)\n",
    "  - [unicode issues](http://nedbatchelder.com/text/unipain.html)\n",
    "  - [Python 2 or 3](https://wiki.python.org/moin/Python2orPython3)\n",
    "  - OpenStack, the largest open source python project, is [porting to v3](https://wiki.openstack.org/wiki/Python3)\n",
    "- [py3readiness.org](http://py3readiness.org) shows what popular packages have been ported to v3\n",
    "- unicode was added as an afterthought to v2\n",
    "    - source of many bugs and inconsistencies\n",
    "    - developers felt unicode had to be fully embraced if Python was to thrive in non-English cultures\n",
    "- \"as long as we're making incompatible changes, may as well fix some other stuff while we're at it\"\n",
    "- in v2:\n",
    "    - print is a statement, not a function\n",
    "    - many calls, like 'range', are memory inefficient, and were designed before the iteration protocol\n",
    "- there was great resistance to V3.x for several years, but seems like tide has turned\n",
    "- new projects should use V3.x\n",
    "\n",
    "    \n",
    "# Tools\n",
    "- [six](http://pythonhosted.org/six/) - lets you write code that will run in 2.7 or 3.X\n",
    "- [2to3](https://docs.python.org/dev/library/2to3.html) - attempts to convert v2 code to v3 code\n",
    "- [3to2](https://wiki.python.org/moin/3to2) - attempts to convert v3 code to v2\n",
    "- [Python Modernize](https://github.com/mitsuhiko/python-modernize) - attempts to convert v2 code to \n",
    "code that will run in both v2 and v3\n",
    "- [Python-Future](http://python-future.org/index.html) - another package that supports code that runs in v2 and v3\n"
   ]
  },
  {
   "cell_type": "code",
   "execution_count": null,
   "metadata": {
    "collapsed": true
   },
   "outputs": [],
   "source": []
  }
 ],
 "metadata": {
  "anaconda-cloud": {},
  "kernelspec": {
   "display_name": "Python [Root]",
   "language": "python",
   "name": "Python [Root]"
  },
  "language_info": {
   "codemirror_mode": {
    "name": "ipython",
    "version": 3
   },
   "file_extension": ".py",
   "mimetype": "text/x-python",
   "name": "python",
   "nbconvert_exporter": "python",
   "pygments_lexer": "ipython3",
   "version": "3.5.2"
  }
 },
 "nbformat": 4,
 "nbformat_minor": 0
}
