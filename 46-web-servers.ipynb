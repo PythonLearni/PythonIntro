{
 "cells": [
  {
   "cell_type": "markdown",
   "metadata": {},
   "source": [
    "# Web Servers\n",
    "- many Python web servers to choice from\n",
    "- perhaps the two most popular are:\n",
    "    - [Django](https://www.djangoproject.com)\n",
    "        - big package intended for large projects\n",
    "        - provides lots of infrastructure\n",
    "        - wants to do things a certain way\n",
    "    - [Flask](http://flask.pocoo.org)\n",
    "        - small and simple\n",
    "        - doesn't force any particular style\n",
    "        - uses decorators"
   ]
  },
  {
   "cell_type": "code",
   "execution_count": 1,
   "metadata": {
    "collapsed": false
   },
   "outputs": [],
   "source": [
    "# Flask example\n",
    "\n",
    "from flask import Flask\n",
    "\n",
    "app = Flask('Flask')\n",
    "\n",
    "@app.route('/')\n",
    "def hello():\n",
    "    return 'Hello, world!'\n",
    "\n",
    "@app.route('/foo')\n",
    "def h1():\n",
    "    return 'foo handler'\n",
    "\n",
    "\n",
    "@app.route('/sub5/<int:num>/')\n",
    "def getnum(num):\n",
    "    return '<h1>{}-5 is <i>{}</i> '.format(num, num-5)\n",
    "\n",
    "app.run(port=7777)\n"
   ]
  },
  {
   "cell_type": "markdown",
   "metadata": {},
   "source": [
    "# test urls\n",
    "- [/](http://localhost:7777/)\n",
    "- [/foo](http://localhost:7777/foo)\n",
    "- [/sub5/342](http://localhost:7777/sub5/342/)"
   ]
  }
 ],
 "metadata": {
  "anaconda-cloud": {},
  "kernelspec": {
   "display_name": "Python [Root]",
   "language": "python",
   "name": "Python [Root]"
  },
  "language_info": {
   "codemirror_mode": {
    "name": "ipython",
    "version": 3
   },
   "file_extension": ".py",
   "mimetype": "text/x-python",
   "name": "python",
   "nbconvert_exporter": "python",
   "pygments_lexer": "ipython3",
   "version": "3.5.2"
  }
 },
 "nbformat": 4,
 "nbformat_minor": 0
}
