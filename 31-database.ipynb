{
 "cells": [
  {
   "cell_type": "markdown",
   "metadata": {},
   "source": [
    "# SQL Databases\n",
    "- easy to use from Python\n",
    "- many different dbs are supported: sqlite3, mysql, postgres, oracle..."
   ]
  },
  {
   "cell_type": "code",
   "execution_count": 1,
   "metadata": {
    "collapsed": false
   },
   "outputs": [
    {
     "data": {
      "text/plain": [
       "['Ekau',\n",
       " 'Zczp',\n",
       " 'Eajf',\n",
       " 'Hfdi',\n",
       " 'Cxic',\n",
       " 'Lgwo',\n",
       " 'Alxy',\n",
       " 'Evsn',\n",
       " 'Okcj',\n",
       " 'Zikg']"
      ]
     },
     "execution_count": 1,
     "metadata": {},
     "output_type": "execute_result"
    }
   ],
   "source": [
    "# need some names to build a database, so made some random strings\n",
    "# but they are hard to read...\n",
    "\n",
    "import random\n",
    "import string\n",
    "\n",
    "string.ascii_lowercase\n",
    "\n",
    "def makeNames(n):\n",
    "    # chr takes an ascii code and returns the letter in a string\n",
    "    n = ''.join([random.choice(string.ascii_lowercase) for j in range(n)])\n",
    "    return n.capitalize()\n",
    "    \n",
    "[makeNames(4) for j in range(10)]"
   ]
  },
  {
   "cell_type": "code",
   "execution_count": 2,
   "metadata": {
    "collapsed": false
   },
   "outputs": [
    {
     "data": {
      "text/plain": [
       "[['Pace',\n",
       "  'Olin',\n",
       "  'Lyda',\n",
       "  'Lynn',\n",
       "  'Rana',\n",
       "  'Otto',\n",
       "  'Kane',\n",
       "  'Elyn',\n",
       "  'Rees',\n",
       "  'Nara'],\n",
       " ['Mohan',\n",
       "  'Stern',\n",
       "  'Debee',\n",
       "  'Irita',\n",
       "  'Sheff',\n",
       "  'Cosmo',\n",
       "  'Bevvy',\n",
       "  'Wayne',\n",
       "  'Adger',\n",
       "  'Sarah']]"
      ]
     },
     "execution_count": 2,
     "metadata": {},
     "output_type": "execute_result"
    }
   ],
   "source": [
    "# nltk corpus has 8,000 real names!\n",
    "# get some short ones\n",
    "\n",
    "import random\n",
    "import nltk\n",
    "\n",
    "def names(wcnt, wlen):\n",
    "    names = [w for w in nltk.corpus.names.words() if len(w) == wlen]\n",
    "    # names are in alphabetical order\n",
    "    # random doesn't have a 'random subset' routine\n",
    "    # so do a shuffle \n",
    "    random.shuffle(names)\n",
    "    # then just take random names from the front\n",
    "    return names[:wcnt]\n",
    "\n",
    "firsts = names(10, 4)\n",
    "lasts = names(10, 5)\n",
    "\n",
    "[firsts, lasts]"
   ]
  },
  {
   "cell_type": "code",
   "execution_count": 3,
   "metadata": {
    "collapsed": false
   },
   "outputs": [],
   "source": [
    "# sqlite stores data in one file\n",
    "# delete old db if present\n",
    "\n",
    "import sqlite3\n",
    "import os\n",
    "import random\n",
    "\n",
    "dbf = '/tmp/3.db'\n",
    "os.remove(dbf)"
   ]
  },
  {
   "cell_type": "code",
   "execution_count": 4,
   "metadata": {
    "collapsed": false
   },
   "outputs": [],
   "source": [
    "# make a db connection and get a cursor\n",
    "\n",
    "con = sqlite3.connect(dbf)\n",
    "cur = con.cursor()"
   ]
  },
  {
   "cell_type": "markdown",
   "metadata": {},
   "source": [
    "# Create two tables\n",
    "- grade(uni, course, grade)\n",
    "- student(first, last, uni)"
   ]
  },
  {
   "cell_type": "code",
   "execution_count": 5,
   "metadata": {
    "collapsed": false
   },
   "outputs": [
    {
     "data": {
      "text/plain": [
       "<sqlite3.Cursor at 0x110d3e0a0>"
      ]
     },
     "execution_count": 5,
     "metadata": {},
     "output_type": "execute_result"
    }
   ],
   "source": [
    "cur.execute('create table grade (uni text, course text, grade real)')"
   ]
  },
  {
   "cell_type": "code",
   "execution_count": 6,
   "metadata": {
    "collapsed": false
   },
   "outputs": [
    {
     "data": {
      "text/plain": [
       "<sqlite3.Cursor at 0x110d3e0a0>"
      ]
     },
     "execution_count": 6,
     "metadata": {},
     "output_type": "execute_result"
    }
   ],
   "source": [
    "cur.execute('create table student (first text, last text, uni text)')"
   ]
  },
  {
   "cell_type": "markdown",
   "metadata": {},
   "source": [
    "# Build student table"
   ]
  },
  {
   "cell_type": "code",
   "execution_count": 7,
   "metadata": {
    "collapsed": false
   },
   "outputs": [
    {
     "data": {
      "text/plain": [
       "[['Pace', 'Mohan'],\n",
       " ['Olin', 'Stern'],\n",
       " ['Lyda', 'Debee'],\n",
       " ['Lynn', 'Irita'],\n",
       " ['Rana', 'Sheff'],\n",
       " ['Otto', 'Cosmo'],\n",
       " ['Kane', 'Bevvy'],\n",
       " ['Elyn', 'Wayne'],\n",
       " ['Rees', 'Adger'],\n",
       " ['Nara', 'Sarah']]"
      ]
     },
     "execution_count": 7,
     "metadata": {},
     "output_type": "execute_result"
    }
   ],
   "source": [
    "# first, last\n",
    "\n",
    "fl = [ [firsts[k], lasts[k]] for k in range(10)]\n",
    "fl"
   ]
  },
  {
   "cell_type": "code",
   "execution_count": 8,
   "metadata": {
    "collapsed": false
   },
   "outputs": [
    {
     "data": {
      "text/plain": [
       "[['Pace', 'Mohan', 'pm5377'],\n",
       " ['Olin', 'Stern', 'os7127'],\n",
       " ['Lyda', 'Debee', 'ld3799'],\n",
       " ['Lynn', 'Irita', 'li9704'],\n",
       " ['Rana', 'Sheff', 'rs9563'],\n",
       " ['Otto', 'Cosmo', 'oc7279'],\n",
       " ['Kane', 'Bevvy', 'kb4481'],\n",
       " ['Elyn', 'Wayne', 'ew9191'],\n",
       " ['Rees', 'Adger', 'ra9305'],\n",
       " ['Nara', 'Sarah', 'ns5859']]"
      ]
     },
     "execution_count": 8,
     "metadata": {},
     "output_type": "execute_result"
    }
   ],
   "source": [
    "# make an uni\n",
    "# student = [first, last, uni]\n",
    "\n",
    "students = [ [f, l, (f[0] + l[0] + str(random.randint(1000,9999))).lower()] \n",
    "            for f,l in fl]\n",
    "students"
   ]
  },
  {
   "cell_type": "code",
   "execution_count": 9,
   "metadata": {
    "collapsed": false
   },
   "outputs": [],
   "source": [
    "# insert above list into db\n",
    "\n",
    "# 'execute' inserts one row at a time\n",
    "# expects one row of data\n",
    "cur.execute('insert into student values(?, ?, ?)', students[0])\n",
    "\n",
    "# 'executemany' inserts multiple rows at once\n",
    "# expects list of rows, executes the statement for each row\n",
    "cur.executemany('insert into student values(?, ?, ?)', students[1:])\n",
    "\n",
    "'''\n",
    "# the above two statements are equivalent to \n",
    "for student in students:\n",
    "    cur.execute('insert into student values(?, ?, ?)', student)\n",
    "\n",
    "# or \n",
    "cur.executemany('insert into student values(?, ?, ?)', students)\n",
    "\n",
    "executemany is typically more efficient \n",
    "'''\n",
    "\n",
    "None"
   ]
  },
  {
   "cell_type": "code",
   "execution_count": 10,
   "metadata": {
    "collapsed": false
   },
   "outputs": [
    {
     "data": {
      "text/plain": [
       "<sqlite3.Cursor at 0x110d3e0a0>"
      ]
     },
     "execution_count": 10,
     "metadata": {},
     "output_type": "execute_result"
    }
   ],
   "source": [
    "# the select returns a generator\n",
    "\n",
    "sg = cur.execute('select first, last, uni from student')\n",
    "sg"
   ]
  },
  {
   "cell_type": "code",
   "execution_count": 11,
   "metadata": {
    "collapsed": false
   },
   "outputs": [
    {
     "data": {
      "text/plain": [
       "[('Pace', 'Mohan', 'pm5377'),\n",
       " ('Olin', 'Stern', 'os7127'),\n",
       " ('Lyda', 'Debee', 'ld3799'),\n",
       " ('Lynn', 'Irita', 'li9704'),\n",
       " ('Rana', 'Sheff', 'rs9563'),\n",
       " ('Otto', 'Cosmo', 'oc7279'),\n",
       " ('Kane', 'Bevvy', 'kb4481'),\n",
       " ('Elyn', 'Wayne', 'ew9191'),\n",
       " ('Rees', 'Adger', 'ra9305'),\n",
       " ('Nara', 'Sarah', 'ns5859')]"
      ]
     },
     "execution_count": 11,
     "metadata": {},
     "output_type": "execute_result"
    }
   ],
   "source": [
    "rows = list(sg)\n",
    "rows"
   ]
  },
  {
   "cell_type": "code",
   "execution_count": 12,
   "metadata": {
    "collapsed": false
   },
   "outputs": [
    {
     "data": {
      "text/plain": [
       "['pm5377',\n",
       " 'os7127',\n",
       " 'ld3799',\n",
       " 'li9704',\n",
       " 'rs9563',\n",
       " 'oc7279',\n",
       " 'kb4481',\n",
       " 'ew9191',\n",
       " 'ra9305',\n",
       " 'ns5859']"
      ]
     },
     "execution_count": 12,
     "metadata": {},
     "output_type": "execute_result"
    }
   ],
   "source": [
    "# pull the uni out of the tuple \n",
    "\n",
    "unis = [t[0] for t in cur.execute('select uni from student')]\n",
    "unis"
   ]
  },
  {
   "cell_type": "code",
   "execution_count": 13,
   "metadata": {
    "collapsed": false
   },
   "outputs": [
    {
     "data": {
      "text/plain": [
       "['COMSW 8591', 'COMSW 2830', 'COMSW 3875', 'COMSW 8058', 'COMSW 4921']"
      ]
     },
     "execution_count": 13,
     "metadata": {},
     "output_type": "execute_result"
    }
   ],
   "source": [
    "# classes \n",
    "\n",
    "classes = ['COMSW {}'.format(random.randint(1000, 9999)) for j in range(5)]\n",
    "classes"
   ]
  },
  {
   "cell_type": "code",
   "execution_count": 14,
   "metadata": {
    "collapsed": false
   },
   "outputs": [
    {
     "data": {
      "text/plain": [
       "[['pm5377', 'COMSW 4921', 95.92742946895079],\n",
       " ['os7127', 'COMSW 8591', 88.94923956134704],\n",
       " ['ld3799', 'COMSW 3875', 89.12528801822131],\n",
       " ['li9704', 'COMSW 4921', 99.3032131590247],\n",
       " ['rs9563', 'COMSW 4921', 99.46685234575497],\n",
       " ['oc7279', 'COMSW 8591', 72.68857034516523],\n",
       " ['kb4481', 'COMSW 4921', 91.48971627211276],\n",
       " ['ew9191', 'COMSW 3875', 91.74460096867148],\n",
       " ['ra9305', 'COMSW 8058', 82.05360968104378],\n",
       " ['ns5859', 'COMSW 3875', 79.11870868404564]]"
      ]
     },
     "execution_count": 14,
     "metadata": {},
     "output_type": "execute_result"
    }
   ],
   "source": [
    "# students take finals\n",
    "\n",
    "grades = [ [u , random.choice(classes), 70 + 30 * random.random() ] for u in unis ]\n",
    "grades"
   ]
  },
  {
   "cell_type": "code",
   "execution_count": 15,
   "metadata": {
    "collapsed": false
   },
   "outputs": [
    {
     "data": {
      "text/plain": [
       "<sqlite3.Cursor at 0x110d3e0a0>"
      ]
     },
     "execution_count": 15,
     "metadata": {},
     "output_type": "execute_result"
    }
   ],
   "source": [
    "# executemany inserts multiple rows at once \n",
    "\n",
    "cur.executemany('insert into grade values(?, ?, ?)', grades)"
   ]
  },
  {
   "cell_type": "code",
   "execution_count": 16,
   "metadata": {
    "collapsed": false
   },
   "outputs": [
    {
     "data": {
      "text/plain": [
       "[('Pace', 'Mohan', 'pm5377', 95.92742946895079),\n",
       " ('Olin', 'Stern', 'os7127', 88.94923956134704),\n",
       " ('Lyda', 'Debee', 'ld3799', 89.12528801822131),\n",
       " ('Lynn', 'Irita', 'li9704', 99.3032131590247),\n",
       " ('Rana', 'Sheff', 'rs9563', 99.46685234575497),\n",
       " ('Otto', 'Cosmo', 'oc7279', 72.68857034516523),\n",
       " ('Kane', 'Bevvy', 'kb4481', 91.48971627211276),\n",
       " ('Elyn', 'Wayne', 'ew9191', 91.74460096867148),\n",
       " ('Rees', 'Adger', 'ra9305', 82.05360968104378),\n",
       " ('Nara', 'Sarah', 'ns5859', 79.11870868404564)]"
      ]
     },
     "execution_count": 16,
     "metadata": {},
     "output_type": "execute_result"
    }
   ],
   "source": [
    "# join the two tables on the uni field\n",
    "\n",
    "list(cur.execute('select first,last,student.uni, \\\n",
    "                 grade from student,grade where student.uni = grade.uni'))"
   ]
  },
  {
   "cell_type": "code",
   "execution_count": 17,
   "metadata": {
    "collapsed": false
   },
   "outputs": [
    {
     "data": {
      "text/plain": [
       "[('Adger', 'Rees', 82.05360968104378),\n",
       " ('Bevvy', 'Kane', 91.48971627211276),\n",
       " ('Debee', 'Lyda', 89.12528801822131),\n",
       " ('Irita', 'Lynn', 99.3032131590247),\n",
       " ('Mohan', 'Pace', 95.92742946895079),\n",
       " ('Sheff', 'Rana', 99.46685234575497),\n",
       " ('Stern', 'Olin', 88.94923956134704),\n",
       " ('Wayne', 'Elyn', 91.74460096867148)]"
      ]
     },
     "execution_count": 17,
     "metadata": {},
     "output_type": "execute_result"
    }
   ],
   "source": [
    "# add a filter term\n",
    "\n",
    "q = 'select last,first,grade from student,grade \\\n",
    " where grade>80 and student.uni = grade.uni \\\n",
    " order by last'\n",
    "list(cur.execute(q))"
   ]
  },
  {
   "cell_type": "code",
   "execution_count": 18,
   "metadata": {
    "collapsed": true
   },
   "outputs": [],
   "source": [
    "# always commit and close the connection\n",
    "\n",
    "con.commit()\n",
    "con.close()"
   ]
  },
  {
   "cell_type": "code",
   "execution_count": 19,
   "metadata": {
    "collapsed": false
   },
   "outputs": [
    {
     "data": {
      "text/plain": [
       "[('Adger', 'Rees', 82.05360968104378),\n",
       " ('Bevvy', 'Kane', 91.48971627211276),\n",
       " ('Debee', 'Lyda', 89.12528801822131),\n",
       " ('Irita', 'Lynn', 99.3032131590247),\n",
       " ('Mohan', 'Pace', 95.92742946895079),\n",
       " ('Sheff', 'Rana', 99.46685234575497),\n",
       " ('Stern', 'Olin', 88.94923956134704),\n",
       " ('Wayne', 'Elyn', 91.74460096867148)]"
      ]
     },
     "execution_count": 19,
     "metadata": {},
     "output_type": "execute_result"
    }
   ],
   "source": [
    "# data is persisted on disk, can read again\n",
    "# normally would use a with statement to automatically close\n",
    "\n",
    "res=None\n",
    "\n",
    "with sqlite3.connect(dbf) as con:\n",
    "    cur = con.cursor()\n",
    "    res = list(cur.execute(q))\n",
    "\n",
    "res"
   ]
  },
  {
   "cell_type": "markdown",
   "metadata": {},
   "source": [
    "# Object Relational Mappers\n",
    "- maps objects into a relational database\n",
    "- somewhat complex but very useful\n",
    "- best known one is [SQLAlchemy](http://www.sqlalchemy.org)\n",
    "- [peewee](http://docs.peewee-orm.com/en/latest/) is a simple one\n",
    "- [hibernate](http://hibernate.org) was a pioneering and hugely successful ORM for Java"
   ]
  },
  {
   "cell_type": "markdown",
   "metadata": {},
   "source": [
    "# NoSQL databases\n",
    "- provide less functionality than SQL, but are more efficient and scale better\n",
    "- [mongodb](https://www.mongodb.org) is a popular one\n",
    "- [PyMongo](https://docs.mongodb.org/getting-started/python/client/) is the python driver for mongodb\n"
   ]
  }
 ],
 "metadata": {
  "anaconda-cloud": {},
  "kernelspec": {
   "display_name": "Python [Root]",
   "language": "python",
   "name": "Python [Root]"
  },
  "language_info": {
   "codemirror_mode": {
    "name": "ipython",
    "version": 3
   },
   "file_extension": ".py",
   "mimetype": "text/x-python",
   "name": "python",
   "nbconvert_exporter": "python",
   "pygments_lexer": "ipython3",
   "version": "3.5.2"
  }
 },
 "nbformat": 4,
 "nbformat_minor": 0
}
