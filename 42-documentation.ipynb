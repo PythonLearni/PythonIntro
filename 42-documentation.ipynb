{
 "cells": [
  {
   "cell_type": "markdown",
   "metadata": {},
   "source": [
    "# Function documentation\n",
    "- place a string in the first line of your function definition\n",
    "- completion and other tools will use this"
   ]
  },
  {
   "cell_type": "code",
   "execution_count": 1,
   "metadata": {
    "collapsed": true
   },
   "outputs": [],
   "source": [
    "def foo():\n",
    "    \"here's some helpful doc\""
   ]
  },
  {
   "cell_type": "code",
   "execution_count": null,
   "metadata": {
    "collapsed": true
   },
   "outputs": [],
   "source": [
    "# works for classes and methods as well\n",
    "\n",
    "class foo:\n",
    "    'Really great class!'\n",
    "    def wow():\n",
    "        'Really great method'"
   ]
  },
  {
   "cell_type": "markdown",
   "metadata": {},
   "source": [
    "# HTML Documentation of your code\n",
    "- two main tools"
   ]
  },
  {
   "cell_type": "markdown",
   "metadata": {},
   "source": [
    "### pydoc\n",
    "- reads file.py and creates file.html \n",
    "- not very attractive\n",
    "\n",
    "pydoc -w file"
   ]
  },
  {
   "cell_type": "markdown",
   "metadata": {},
   "source": [
    "### epydoc\n",
    "- reads file.py ...\n",
    "- creates html/file.html ...\n",
    "- more attractive, similar to javadoc\n",
    "\n",
    "epydoc --html  file.py"
   ]
  }
 ],
 "metadata": {
  "anaconda-cloud": {},
  "kernelspec": {
   "display_name": "Python [Root]",
   "language": "python",
   "name": "Python [Root]"
  },
  "language_info": {
   "codemirror_mode": {
    "name": "ipython",
    "version": 3
   },
   "file_extension": ".py",
   "mimetype": "text/x-python",
   "name": "python",
   "nbconvert_exporter": "python",
   "pygments_lexer": "ipython3",
   "version": "3.5.2"
  }
 },
 "nbformat": 4,
 "nbformat_minor": 0
}
