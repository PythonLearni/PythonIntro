{
 "cells": [
  {
   "cell_type": "markdown",
   "metadata": {},
   "source": [
    "# sys module\n",
    "- various utilities\n",
    "- interface for command line programs"
   ]
  },
  {
   "cell_type": "code",
   "execution_count": 4,
   "metadata": {
    "collapsed": false
   },
   "outputs": [
    {
     "data": {
      "text/plain": [
       "['3.5.2 |Anaconda 4.1.1 (x86_64)| (default, Jul  2 2016, 17:52:12) \\n[GCC 4.2.1 Compatible Apple LLVM 4.2 (clang-425.0.28)]',\n",
       " sys.version_info(major=3, minor=5, micro=2, releaselevel='final', serial=0),\n",
       " 'darwin',\n",
       " 'little',\n",
       " '/Users/lstead/anaconda']"
      ]
     },
     "execution_count": 4,
     "metadata": {},
     "output_type": "execute_result"
    }
   ],
   "source": [
    "# implementation info\n",
    "\n",
    "import sys\n",
    "[sys.version, sys.version_info, \n",
    " sys.platform, sys.byteorder, \n",
    "  sys.prefix]"
   ]
  },
  {
   "cell_type": "markdown",
   "metadata": {},
   "source": [
    "# sys.path \n",
    "- search path for modules"
   ]
  },
  {
   "cell_type": "code",
   "execution_count": 5,
   "metadata": {
    "collapsed": false
   },
   "outputs": [
    {
     "data": {
      "text/plain": [
       "['',\n",
       " '/Users/lstead/me/settings/python/lib',\n",
       " '/Users/lstead/anaconda/lib/python35.zip',\n",
       " '/Users/lstead/anaconda/lib/python3.5',\n",
       " '/Users/lstead/anaconda/lib/python3.5/plat-darwin',\n",
       " '/Users/lstead/anaconda/lib/python3.5/lib-dynload',\n",
       " '/Users/lstead/anaconda/lib/python3.5/site-packages',\n",
       " '/Users/lstead/anaconda/lib/python3.5/site-packages/Sphinx-1.4.1-py3.5.egg',\n",
       " '/Users/lstead/anaconda/lib/python3.5/site-packages/aeosa',\n",
       " '/Users/lstead/anaconda/lib/python3.5/site-packages/setuptools-23.0.0-py3.5.egg',\n",
       " '/Users/lstead/anaconda/lib/python3.5/site-packages/IPython/extensions',\n",
       " '/Users/lstead/.ipython']"
      ]
     },
     "execution_count": 5,
     "metadata": {},
     "output_type": "execute_result"
    }
   ],
   "source": [
    "# when 'import foo' is executed, python will try to find 'foo'\n",
    "# in the sys.path list of directories\n",
    "\n",
    "sys.path"
   ]
  },
  {
   "cell_type": "markdown",
   "metadata": {},
   "source": [
    "# sys.modules \n",
    "- dictionary of loaded modules"
   ]
  },
  {
   "cell_type": "code",
   "execution_count": 6,
   "metadata": {
    "collapsed": false
   },
   "outputs": [
    {
     "data": {
      "text/plain": [
       "['IPython.core.magics',\n",
       " 'ptyprocess.ptyprocess',\n",
       " 'IPython.utils.decorators',\n",
       " 'zmq.backend.cython.constants',\n",
       " 'ipykernel',\n",
       " 'faulthandler',\n",
       " 'IPython.core.interactiveshell',\n",
       " 'ipython_genutils.text',\n",
       " 'base64',\n",
       " 'importlib.util']"
      ]
     },
     "execution_count": 6,
     "metadata": {},
     "output_type": "execute_result"
    }
   ],
   "source": [
    "# dict of modules\n",
    "list(sys.modules.keys())[:10]"
   ]
  },
  {
   "cell_type": "markdown",
   "metadata": {},
   "source": [
    "# writing command line scripts\n",
    "- very important Python skill\n",
    "- can do 'python file.py'\n",
    "- or on mac/linux can make script itself directly executable\n",
    "    - put magic line \n",
    "    - ```#!/usr/bin/env python``` \n",
    "    - at top of file to invoke python\n",
    "    - must give file 'execute' permission\n"
   ]
  },
  {
   "cell_type": "markdown",
   "metadata": {},
   "source": [
    "# sys.exit(int status) \n",
    "- exit python and return int status \n",
    "- in scripts, main method for signalling failures\n",
    "- return of 0 means things went ok, other values indicate error"
   ]
  },
  {
   "cell_type": "markdown",
   "metadata": {},
   "source": [
    "# sys.argv \n",
    "- variable set to command line arguments"
   ]
  },
  {
   "cell_type": "code",
   "execution_count": null,
   "metadata": {
    "collapsed": false
   },
   "outputs": [],
   "source": [
    "# ipython args\n",
    "# equivalent of 'main argv' in C, Java\n",
    "\n",
    "sys.argv"
   ]
  },
  {
   "cell_type": "markdown",
   "metadata": {},
   "source": [
    "# argparse\n",
    "- module with elaborate cmd line args parser\n",
    "- [argparse reference](https://docs.python.org/3.5/library/argparse.html)\n",
    "- [argparse tutorial](https://docs.python.org/3.5/howto/argparse.html) easier to read\n",
    "- very nice, handles many error conditions\n",
    "- like 'getopt' in C\n"
   ]
  },
  {
   "cell_type": "code",
   "execution_count": null,
   "metadata": {
    "collapsed": true
   },
   "outputs": [],
   "source": [
    "# needs to run from cmd line\n",
    "\n",
    "'''\n",
    "#!/usr/bin/env python\n",
    "\n",
    "# run as python script\n",
    "\n",
    "import sys\n",
    "import argparse\n",
    "\n",
    "# the raw args from the cmd line\n",
    "print(sys.argv)\n",
    "\n",
    "parser = argparse.ArgumentParser()\n",
    "\n",
    "# required positional arg\n",
    "parser.add_argument(\"arg1\", type=int,\n",
    "                    help=\"arg1\")\n",
    "\n",
    "# 2nd required positional arg\n",
    "parser.add_argument(\"arg2\", type=str,\n",
    "                    help=\"arg2\")\n",
    "\n",
    "# optional '-' flag with no arg\n",
    "parser.add_argument(\"-v\", \"--verbose\", help=\"increase output verbosity\",\n",
    "                    action=\"store_true\")\n",
    "\n",
    "\n",
    "# optional '-' flag with required arg\n",
    "parser.add_argument(\"-e\", \"--exit\", help=\"increase output verbosity\",\n",
    "\t\t\t type=int)\n",
    "\n",
    "\n",
    "# parsed args - will automatically print errors and abort on bad args\n",
    "args = parser.parse_args()\n",
    "print(type(args))\n",
    "print(args)\n",
    "\n",
    "print('arg1=', args.arg1)\n",
    "print('arg2=', args.arg2)\n",
    "\n",
    "# args.verbose will = None if no arg\n",
    "if args.verbose:\n",
    "    print(\"verbosity turned on\")\n",
    "\n",
    "if args.exit:\n",
    "   print(\"exit with:\", args.exit)\n",
    "   # in bash, print with:  echo $?\n",
    "   sys.exit(args.exit)\n",
    "   print(\"won't get here\")\n",
    "\n",
    "\n",
    "'''"
   ]
  },
  {
   "cell_type": "code",
   "execution_count": null,
   "metadata": {
    "collapsed": true
   },
   "outputs": [],
   "source": [
    "# sample calls\n",
    "\n",
    "'''\n",
    "# use python to invoke script\n",
    "# bad args, doesn't work\n",
    "\n",
    "python cmdline.py \n",
    "raw args: ['cmdline.py']\n",
    "usage: cmdline.py [-h] [-v] [-e EXIT] intarg1 arg2\n",
    "cmdline.py: error: the following arguments are required: intarg1, arg2\n",
    "\n",
    "\n",
    "# invoke script directly. ask for help with '-h'\n",
    "\n",
    "notebooks@larrys-MBP$ cmdline.py -h\n",
    "raw args: ['./cmdline.py', '-h']\n",
    "usage: cmdline.py [-h] [-v] [-e EXIT] intarg1 arg2\n",
    "\n",
    "positional arguments:\n",
    "  intarg1               must be an integer\n",
    "  arg2                  arg is a string\n",
    "\n",
    "optional arguments:\n",
    "  -h, --help            show this help message and exit\n",
    "  -v, --verbose         increase output verbosity\n",
    "  -e EXIT, --exit EXIT  increase output verbosity\n",
    "\n",
    "\n",
    "# fails, no args\n",
    "\n",
    "notebooks@larrys-MBP$ cmdline.py\n",
    "raw args: ['./cmdline.py']\n",
    "usage: cmdline.py [-h] [-v] [-e EXIT] intarg1 arg2\n",
    "cmdline.py: error: the following arguments are required: intarg1, arg2\n",
    "\n",
    "\n",
    "# doesn't work, first arg must be an int\n",
    "\n",
    "\n",
    "notebooks@larrys-MBP$ cmdline.py foo\n",
    "raw args: ['./cmdline.py', 'foo']\n",
    "usage: cmdline.py [-h] [-v] [-e EXIT] intarg1 arg2\n",
    "cmdline.py: error: argument intarg1: invalid int value: 'foo'\n",
    "\n",
    "\n",
    "# doesn't work, missing 2nd arg\n",
    "\n",
    "\n",
    "notebooks@larrys-MBP$ cmdline.py 1234\n",
    "raw args: ['./cmdline.py', '1234']\n",
    "usage: cmdline.py [-h] [-v] [-e EXIT] intarg1 arg2\n",
    "cmdline.py: error: the following arguments are required: arg2\n",
    "\n",
    "\n",
    "# finally got it right!\n",
    "\n",
    "notebooks@larrys-MBP$ cmdline.py 1234 bar\n",
    "raw args: ['./cmdline.py', '1234', 'bar']\n",
    "Namespace(arg2='bar', exit=None, intarg1=1234, verbose=False)\n",
    "intarg1= 1234\n",
    "arg2= bar\n",
    "\n",
    "\n",
    "# added optional '-v' verbose flag\n",
    "\n",
    "notebooks@larrys-MBP$ cmdline.py 1234 bar -v\n",
    "raw args: ['./cmdline.py', '1234', 'bar', '-v']\n",
    "Namespace(arg2='bar', exit=None, intarg1=1234, verbose=True)\n",
    "intarg1= 1234\n",
    "arg2= bar\n",
    "verbosity turned on\n",
    "\n",
    "# added optional '--exit' flag, which takes an arg\n",
    "\n",
    "notebooks@larrys-MBP$ cmdline.py 1234 bar --exit 29\n",
    "raw args: ['./cmdline.py', '1234', 'bar', '--exit', '29']\n",
    "Namespace(arg2='bar', exit=29, intarg1=1234, verbose=False)\n",
    "intarg1= 1234\n",
    "arg2= bar\n",
    "exit with: 29\n",
    "notebooks@larrys-MBP$ echo $?\n",
    "29\n",
    "\n",
    "\n",
    "\n",
    "'''"
   ]
  }
 ],
 "metadata": {
  "kernelspec": {
   "display_name": "Python [Root]",
   "language": "python",
   "name": "Python [Root]"
  },
  "language_info": {
   "codemirror_mode": {
    "name": "ipython",
    "version": 3
   },
   "file_extension": ".py",
   "mimetype": "text/x-python",
   "name": "python",
   "nbconvert_exporter": "python",
   "pygments_lexer": "ipython3",
   "version": "3.5.2"
  }
 },
 "nbformat": 4,
 "nbformat_minor": 0
}
